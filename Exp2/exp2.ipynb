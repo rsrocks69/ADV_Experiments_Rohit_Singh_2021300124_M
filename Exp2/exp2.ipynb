{
 "cells": [
  {
   "cell_type": "markdown",
   "metadata": {},
   "source": [
    "<style type=\"text/css\">\n",
    ".tf  {border-collapse:collapse;border-spacing:0;width:100%}\n",
    ".tf td{border-color:black;border-style:solid;border-width:1px;font-family:Arial, sans-serif;font-size:14px;\n",
    "  overflow:hidden;padding:10px 5px;word-break:normal;}\n",
    ".tf th{border-color:black;border-style:solid;border-width:1px;font-family:Arial, sans-serif;font-size:14px;\n",
    "  font-weight:normal;overflow:hidden;padding:10px 5px;word-break:normal;}\n",
    ".tf .tg-0pky{border-color:inherit;text-align:left;vertical-align:top}\n",
    ".col1 { width: 20%;}\n",
    ".col2 { width: 80%;}\n",
    "</style>\n",
    "<table class=\"tf\">\n",
    "<thead>\n",
    "  <tr>\n",
    "    <th class=\"tg-0pky col1\">Name</th>\n",
    "    <th class=\"tg-0pky col2\">Hatim Sawai</th>\n",
    "  </tr>\n",
    "</thead>\n",
    "<tbody>\n",
    "  <tr>\n",
    "    <td class=\"tg-0pky col1\">UID No.</td>\n",
    "    <td class=\"tg-0pky col2\">2021300108</td>\n",
    "  </tr>\n",
    "  <tr>\n",
    "    <td class=\"tg-0pky col1\">Course</td>\n",
    "    <td class=\"tg-0pky col2\">Advanced Data Visualization</td>\n",
    "  </tr>\n",
    "</tbody>\n",
    "</table>"
   ]
  },
  {
   "cell_type": "markdown",
   "metadata": {},
   "source": [
    "## <p style=\"text-align:center;font-weight:500;\">Experiment 2</p>\n",
    "<style type=\"text/css\">\n",
    ".tg  {border-collapse:collapse;border-spacing:0;width:100%}\n",
    ".tg td{border-color:black;border-style:solid;border-width:1px;font-family:Arial, sans-serif;font-size:14px;\n",
    "  overflow:hidden;padding:10px 5px;word-break:normal;}\n",
    ".tg th{border-color:black;border-style:solid;border-width:1px;font-family:Arial, sans-serif;font-size:14px;\n",
    "  font-weight:normal;overflow:hidden;padding:10px 10px;word-break:normal;}\n",
    ".tg .tg-0pky{border-color:inherit;text-align:left;vertical-align:top;}\n",
    ".col1 { width: 20%;}\n",
    ".col2 { width: 80%;}\n",
    "</style>\n",
    "<table class=\"tg\">\n",
    "<thead>\n",
    "  <tr>\n",
    "    <th class=\"tg-0pky col1\">Aim</th>\n",
    "    <th class=\"tg-0pky col2\">\n",
    "      Create advanced charts using Tableau  / Power BI / R / Python / Plotly or Chart or D3.js to be performed on the dataset - Socio economic data\n",
    "      <br>  \n",
    "      1. Advanced - Word chart, Box and whisker plot, Violin plot, Regression plot (linear and nonlinear), 3D chart, Jitter, Line, Area, Waterfall, Donut, Treemap, Funnel\n",
    "      <br>  \n",
    "      2. Write observations from each chart \n",
    "    </th>\n",
    "  </tr>\n",
    "</thead>\n",
    "</table> "
   ]
  },
  {
   "cell_type": "markdown",
   "metadata": {},
   "source": [
    "### 1. Importing Libraries and Dataset"
   ]
  },
  {
   "cell_type": "code",
   "execution_count": 1,
   "metadata": {},
   "outputs": [],
   "source": [
    "import numpy as np\n",
    "import pandas as pd\n",
    "import seaborn as sns\n",
    "import plotly.express as px\n",
    "import matplotlib.pyplot as plt\n",
    "from wordcloud import WordCloud\n",
    "import plotly.graph_objects as go"
   ]
  },
  {
   "cell_type": "markdown",
   "metadata": {},
   "source": [
    "### 2. Data Preprocessing"
   ]
  },
  {
   "cell_type": "code",
   "execution_count": 2,
   "metadata": {},
   "outputs": [
    {
     "name": "stdout",
     "output_type": "stream",
     "text": [
      "(640, 118)\n"
     ]
    },
    {
     "data": {
      "text/html": [
       "<div>\n",
       "<style scoped>\n",
       "    .dataframe tbody tr th:only-of-type {\n",
       "        vertical-align: middle;\n",
       "    }\n",
       "\n",
       "    .dataframe tbody tr th {\n",
       "        vertical-align: top;\n",
       "    }\n",
       "\n",
       "    .dataframe thead th {\n",
       "        text-align: right;\n",
       "    }\n",
       "</style>\n",
       "<table border=\"1\" class=\"dataframe\">\n",
       "  <thead>\n",
       "    <tr style=\"text-align: right;\">\n",
       "      <th></th>\n",
       "      <th>District code</th>\n",
       "      <th>State Name</th>\n",
       "      <th>District name</th>\n",
       "      <th>Population</th>\n",
       "      <th>Male</th>\n",
       "      <th>Female</th>\n",
       "      <th>Literate</th>\n",
       "      <th>Male_Literate</th>\n",
       "      <th>Female_Literate</th>\n",
       "      <th>SC</th>\n",
       "      <th>...</th>\n",
       "      <th>Power_Parity_Rs_90000_150000</th>\n",
       "      <th>Power_Parity_Rs_45000_150000</th>\n",
       "      <th>Power_Parity_Rs_150000_240000</th>\n",
       "      <th>Power_Parity_Rs_240000_330000</th>\n",
       "      <th>Power_Parity_Rs_150000_330000</th>\n",
       "      <th>Power_Parity_Rs_330000_425000</th>\n",
       "      <th>Power_Parity_Rs_425000_545000</th>\n",
       "      <th>Power_Parity_Rs_330000_545000</th>\n",
       "      <th>Power_Parity_Above_Rs_545000</th>\n",
       "      <th>Total_Power_Parity</th>\n",
       "    </tr>\n",
       "  </thead>\n",
       "  <tbody>\n",
       "    <tr>\n",
       "      <th>0</th>\n",
       "      <td>1</td>\n",
       "      <td>JAMMU AND KASHMIR</td>\n",
       "      <td>Kupwara</td>\n",
       "      <td>870354</td>\n",
       "      <td>474190</td>\n",
       "      <td>396164</td>\n",
       "      <td>439654</td>\n",
       "      <td>282823</td>\n",
       "      <td>156831</td>\n",
       "      <td>1048</td>\n",
       "      <td>...</td>\n",
       "      <td>94</td>\n",
       "      <td>588</td>\n",
       "      <td>71</td>\n",
       "      <td>101</td>\n",
       "      <td>172</td>\n",
       "      <td>74</td>\n",
       "      <td>10</td>\n",
       "      <td>84</td>\n",
       "      <td>15</td>\n",
       "      <td>1119</td>\n",
       "    </tr>\n",
       "    <tr>\n",
       "      <th>1</th>\n",
       "      <td>2</td>\n",
       "      <td>JAMMU AND KASHMIR</td>\n",
       "      <td>Badgam</td>\n",
       "      <td>753745</td>\n",
       "      <td>398041</td>\n",
       "      <td>355704</td>\n",
       "      <td>335649</td>\n",
       "      <td>207741</td>\n",
       "      <td>127908</td>\n",
       "      <td>368</td>\n",
       "      <td>...</td>\n",
       "      <td>126</td>\n",
       "      <td>562</td>\n",
       "      <td>72</td>\n",
       "      <td>89</td>\n",
       "      <td>161</td>\n",
       "      <td>96</td>\n",
       "      <td>28</td>\n",
       "      <td>124</td>\n",
       "      <td>18</td>\n",
       "      <td>1066</td>\n",
       "    </tr>\n",
       "    <tr>\n",
       "      <th>2</th>\n",
       "      <td>3</td>\n",
       "      <td>JAMMU AND KASHMIR</td>\n",
       "      <td>Leh(Ladakh)</td>\n",
       "      <td>133487</td>\n",
       "      <td>78971</td>\n",
       "      <td>54516</td>\n",
       "      <td>93770</td>\n",
       "      <td>62834</td>\n",
       "      <td>30936</td>\n",
       "      <td>488</td>\n",
       "      <td>...</td>\n",
       "      <td>46</td>\n",
       "      <td>122</td>\n",
       "      <td>15</td>\n",
       "      <td>22</td>\n",
       "      <td>37</td>\n",
       "      <td>20</td>\n",
       "      <td>14</td>\n",
       "      <td>34</td>\n",
       "      <td>17</td>\n",
       "      <td>242</td>\n",
       "    </tr>\n",
       "    <tr>\n",
       "      <th>3</th>\n",
       "      <td>4</td>\n",
       "      <td>JAMMU AND KASHMIR</td>\n",
       "      <td>Kargil</td>\n",
       "      <td>140802</td>\n",
       "      <td>77785</td>\n",
       "      <td>63017</td>\n",
       "      <td>86236</td>\n",
       "      <td>56301</td>\n",
       "      <td>29935</td>\n",
       "      <td>18</td>\n",
       "      <td>...</td>\n",
       "      <td>27</td>\n",
       "      <td>114</td>\n",
       "      <td>12</td>\n",
       "      <td>18</td>\n",
       "      <td>30</td>\n",
       "      <td>19</td>\n",
       "      <td>3</td>\n",
       "      <td>22</td>\n",
       "      <td>7</td>\n",
       "      <td>214</td>\n",
       "    </tr>\n",
       "    <tr>\n",
       "      <th>4</th>\n",
       "      <td>5</td>\n",
       "      <td>JAMMU AND KASHMIR</td>\n",
       "      <td>Punch</td>\n",
       "      <td>476835</td>\n",
       "      <td>251899</td>\n",
       "      <td>224936</td>\n",
       "      <td>261724</td>\n",
       "      <td>163333</td>\n",
       "      <td>98391</td>\n",
       "      <td>556</td>\n",
       "      <td>...</td>\n",
       "      <td>78</td>\n",
       "      <td>346</td>\n",
       "      <td>35</td>\n",
       "      <td>50</td>\n",
       "      <td>85</td>\n",
       "      <td>59</td>\n",
       "      <td>8</td>\n",
       "      <td>67</td>\n",
       "      <td>12</td>\n",
       "      <td>629</td>\n",
       "    </tr>\n",
       "  </tbody>\n",
       "</table>\n",
       "<p>5 rows × 118 columns</p>\n",
       "</div>"
      ],
      "text/plain": [
       "   District code         State Name District name  Population    Male  Female  \\\n",
       "0              1  JAMMU AND KASHMIR       Kupwara      870354  474190  396164   \n",
       "1              2  JAMMU AND KASHMIR        Badgam      753745  398041  355704   \n",
       "2              3  JAMMU AND KASHMIR   Leh(Ladakh)      133487   78971   54516   \n",
       "3              4  JAMMU AND KASHMIR        Kargil      140802   77785   63017   \n",
       "4              5  JAMMU AND KASHMIR         Punch      476835  251899  224936   \n",
       "\n",
       "   Literate  Male_Literate  Female_Literate    SC  ...  \\\n",
       "0    439654         282823           156831  1048  ...   \n",
       "1    335649         207741           127908   368  ...   \n",
       "2     93770          62834            30936   488  ...   \n",
       "3     86236          56301            29935    18  ...   \n",
       "4    261724         163333            98391   556  ...   \n",
       "\n",
       "   Power_Parity_Rs_90000_150000  Power_Parity_Rs_45000_150000  \\\n",
       "0                            94                           588   \n",
       "1                           126                           562   \n",
       "2                            46                           122   \n",
       "3                            27                           114   \n",
       "4                            78                           346   \n",
       "\n",
       "   Power_Parity_Rs_150000_240000  Power_Parity_Rs_240000_330000  \\\n",
       "0                             71                            101   \n",
       "1                             72                             89   \n",
       "2                             15                             22   \n",
       "3                             12                             18   \n",
       "4                             35                             50   \n",
       "\n",
       "   Power_Parity_Rs_150000_330000  Power_Parity_Rs_330000_425000  \\\n",
       "0                            172                             74   \n",
       "1                            161                             96   \n",
       "2                             37                             20   \n",
       "3                             30                             19   \n",
       "4                             85                             59   \n",
       "\n",
       "   Power_Parity_Rs_425000_545000  Power_Parity_Rs_330000_545000  \\\n",
       "0                             10                             84   \n",
       "1                             28                            124   \n",
       "2                             14                             34   \n",
       "3                              3                             22   \n",
       "4                              8                             67   \n",
       "\n",
       "   Power_Parity_Above_Rs_545000  Total_Power_Parity  \n",
       "0                            15                1119  \n",
       "1                            18                1066  \n",
       "2                            17                 242  \n",
       "3                             7                 214  \n",
       "4                            12                 629  \n",
       "\n",
       "[5 rows x 118 columns]"
      ]
     },
     "execution_count": 2,
     "metadata": {},
     "output_type": "execute_result"
    }
   ],
   "source": [
    "data = pd.read_csv('../Datasets/india-districts-census-2011.csv')\n",
    "print(data.shape)\n",
    "data.head()"
   ]
  },
  {
   "cell_type": "code",
   "execution_count": 3,
   "metadata": {},
   "outputs": [
    {
     "name": "stdout",
     "output_type": "stream",
     "text": [
      "(35, 50)\n"
     ]
    },
    {
     "data": {
      "text/html": [
       "<div>\n",
       "<style scoped>\n",
       "    .dataframe tbody tr th:only-of-type {\n",
       "        vertical-align: middle;\n",
       "    }\n",
       "\n",
       "    .dataframe tbody tr th {\n",
       "        vertical-align: top;\n",
       "    }\n",
       "\n",
       "    .dataframe thead th {\n",
       "        text-align: right;\n",
       "    }\n",
       "</style>\n",
       "<table border=\"1\" class=\"dataframe\">\n",
       "  <thead>\n",
       "    <tr style=\"text-align: right;\">\n",
       "      <th></th>\n",
       "      <th>District code</th>\n",
       "      <th>State Name</th>\n",
       "      <th>District name</th>\n",
       "      <th>Population</th>\n",
       "      <th>Male</th>\n",
       "      <th>Female</th>\n",
       "      <th>Literate</th>\n",
       "      <th>Male_Literate</th>\n",
       "      <th>Female_Literate</th>\n",
       "      <th>SC</th>\n",
       "      <th>...</th>\n",
       "      <th>Below_Primary_Education</th>\n",
       "      <th>Primary_Education</th>\n",
       "      <th>Middle_Education</th>\n",
       "      <th>Secondary_Education</th>\n",
       "      <th>Higher_Education</th>\n",
       "      <th>Graduate_Education</th>\n",
       "      <th>Other_Education</th>\n",
       "      <th>Literate_Education</th>\n",
       "      <th>Illiterate_Education</th>\n",
       "      <th>Total_Education</th>\n",
       "    </tr>\n",
       "  </thead>\n",
       "  <tbody>\n",
       "    <tr>\n",
       "      <th>496</th>\n",
       "      <td>497</td>\n",
       "      <td>MAHARASHTRA</td>\n",
       "      <td>Nandurbar</td>\n",
       "      <td>1648295</td>\n",
       "      <td>833170</td>\n",
       "      <td>815125</td>\n",
       "      <td>906509</td>\n",
       "      <td>512099</td>\n",
       "      <td>394410</td>\n",
       "      <td>47985</td>\n",
       "      <td>...</td>\n",
       "      <td>166664</td>\n",
       "      <td>218718</td>\n",
       "      <td>121404</td>\n",
       "      <td>160961</td>\n",
       "      <td>113019</td>\n",
       "      <td>58461</td>\n",
       "      <td>9248</td>\n",
       "      <td>848475</td>\n",
       "      <td>790613</td>\n",
       "      <td>1639088</td>\n",
       "    </tr>\n",
       "    <tr>\n",
       "      <th>497</th>\n",
       "      <td>498</td>\n",
       "      <td>MAHARASHTRA</td>\n",
       "      <td>Dhule</td>\n",
       "      <td>2050862</td>\n",
       "      <td>1054031</td>\n",
       "      <td>996831</td>\n",
       "      <td>1293916</td>\n",
       "      <td>723388</td>\n",
       "      <td>570528</td>\n",
       "      <td>127571</td>\n",
       "      <td>...</td>\n",
       "      <td>200494</td>\n",
       "      <td>323641</td>\n",
       "      <td>208571</td>\n",
       "      <td>290656</td>\n",
       "      <td>182739</td>\n",
       "      <td>114931</td>\n",
       "      <td>14526</td>\n",
       "      <td>1335558</td>\n",
       "      <td>649568</td>\n",
       "      <td>1985126</td>\n",
       "    </tr>\n",
       "    <tr>\n",
       "      <th>498</th>\n",
       "      <td>499</td>\n",
       "      <td>MAHARASHTRA</td>\n",
       "      <td>Jalgaon</td>\n",
       "      <td>4229917</td>\n",
       "      <td>2197365</td>\n",
       "      <td>2032552</td>\n",
       "      <td>2891882</td>\n",
       "      <td>1629223</td>\n",
       "      <td>1262659</td>\n",
       "      <td>389273</td>\n",
       "      <td>...</td>\n",
       "      <td>482462</td>\n",
       "      <td>735730</td>\n",
       "      <td>532587</td>\n",
       "      <td>627198</td>\n",
       "      <td>375643</td>\n",
       "      <td>229987</td>\n",
       "      <td>31008</td>\n",
       "      <td>3014615</td>\n",
       "      <td>1003050</td>\n",
       "      <td>4017665</td>\n",
       "    </tr>\n",
       "    <tr>\n",
       "      <th>499</th>\n",
       "      <td>500</td>\n",
       "      <td>MAHARASHTRA</td>\n",
       "      <td>Buldana</td>\n",
       "      <td>2586258</td>\n",
       "      <td>1337560</td>\n",
       "      <td>1248698</td>\n",
       "      <td>1879874</td>\n",
       "      <td>1048892</td>\n",
       "      <td>830982</td>\n",
       "      <td>470895</td>\n",
       "      <td>...</td>\n",
       "      <td>315408</td>\n",
       "      <td>457067</td>\n",
       "      <td>400342</td>\n",
       "      <td>406379</td>\n",
       "      <td>228266</td>\n",
       "      <td>113783</td>\n",
       "      <td>19619</td>\n",
       "      <td>1940864</td>\n",
       "      <td>600436</td>\n",
       "      <td>2541300</td>\n",
       "    </tr>\n",
       "    <tr>\n",
       "      <th>500</th>\n",
       "      <td>501</td>\n",
       "      <td>MAHARASHTRA</td>\n",
       "      <td>Akola</td>\n",
       "      <td>1813906</td>\n",
       "      <td>932334</td>\n",
       "      <td>881572</td>\n",
       "      <td>1411281</td>\n",
       "      <td>758977</td>\n",
       "      <td>652304</td>\n",
       "      <td>364059</td>\n",
       "      <td>...</td>\n",
       "      <td>231841</td>\n",
       "      <td>328367</td>\n",
       "      <td>275264</td>\n",
       "      <td>291391</td>\n",
       "      <td>205723</td>\n",
       "      <td>112574</td>\n",
       "      <td>15157</td>\n",
       "      <td>1460317</td>\n",
       "      <td>352687</td>\n",
       "      <td>1813004</td>\n",
       "    </tr>\n",
       "  </tbody>\n",
       "</table>\n",
       "<p>5 rows × 50 columns</p>\n",
       "</div>"
      ],
      "text/plain": [
       "     District code   State Name District name  Population     Male   Female  \\\n",
       "496            497  MAHARASHTRA     Nandurbar     1648295   833170   815125   \n",
       "497            498  MAHARASHTRA         Dhule     2050862  1054031   996831   \n",
       "498            499  MAHARASHTRA       Jalgaon     4229917  2197365  2032552   \n",
       "499            500  MAHARASHTRA       Buldana     2586258  1337560  1248698   \n",
       "500            501  MAHARASHTRA         Akola     1813906   932334   881572   \n",
       "\n",
       "     Literate  Male_Literate  Female_Literate      SC  ...  \\\n",
       "496    906509         512099           394410   47985  ...   \n",
       "497   1293916         723388           570528  127571  ...   \n",
       "498   2891882        1629223          1262659  389273  ...   \n",
       "499   1879874        1048892           830982  470895  ...   \n",
       "500   1411281         758977           652304  364059  ...   \n",
       "\n",
       "     Below_Primary_Education  Primary_Education  Middle_Education  \\\n",
       "496                   166664             218718            121404   \n",
       "497                   200494             323641            208571   \n",
       "498                   482462             735730            532587   \n",
       "499                   315408             457067            400342   \n",
       "500                   231841             328367            275264   \n",
       "\n",
       "     Secondary_Education  Higher_Education  Graduate_Education  \\\n",
       "496               160961            113019               58461   \n",
       "497               290656            182739              114931   \n",
       "498               627198            375643              229987   \n",
       "499               406379            228266              113783   \n",
       "500               291391            205723              112574   \n",
       "\n",
       "     Other_Education  Literate_Education  Illiterate_Education  \\\n",
       "496             9248              848475                790613   \n",
       "497            14526             1335558                649568   \n",
       "498            31008             3014615               1003050   \n",
       "499            19619             1940864                600436   \n",
       "500            15157             1460317                352687   \n",
       "\n",
       "     Total_Education  \n",
       "496          1639088  \n",
       "497          1985126  \n",
       "498          4017665  \n",
       "499          2541300  \n",
       "500          1813004  \n",
       "\n",
       "[5 rows x 50 columns]"
      ]
     },
     "execution_count": 3,
     "metadata": {},
     "output_type": "execute_result"
    }
   ],
   "source": [
    "# keep only first 50 columns and only those rows where state is maharashtra\n",
    "data = data[data['State Name'] == 'MAHARASHTRA']\n",
    "data = data.iloc[:, :50]\n",
    "print(data.shape)\n",
    "data.head()"
   ]
  },
  {
   "cell_type": "code",
   "execution_count": 4,
   "metadata": {},
   "outputs": [],
   "source": [
    "# save\n",
    "data.to_csv('../Datasets/maharashtra-census-2011.csv', index=False)"
   ]
  },
  {
   "cell_type": "markdown",
   "metadata": {},
   "source": [
    "<p style=\"page-break-after:always;\"></p>"
   ]
  },
  {
   "cell_type": "markdown",
   "metadata": {},
   "source": [
    "### 3. Advanced Charts & Plots"
   ]
  },
  {
   "cell_type": "code",
   "execution_count": 5,
   "metadata": {},
   "outputs": [
    {
     "data": {
      "text/html": [
       "<div>\n",
       "<style scoped>\n",
       "    .dataframe tbody tr th:only-of-type {\n",
       "        vertical-align: middle;\n",
       "    }\n",
       "\n",
       "    .dataframe tbody tr th {\n",
       "        vertical-align: top;\n",
       "    }\n",
       "\n",
       "    .dataframe thead th {\n",
       "        text-align: right;\n",
       "    }\n",
       "</style>\n",
       "<table border=\"1\" class=\"dataframe\">\n",
       "  <thead>\n",
       "    <tr style=\"text-align: right;\">\n",
       "      <th></th>\n",
       "      <th>District code</th>\n",
       "      <th>State Name</th>\n",
       "      <th>District name</th>\n",
       "      <th>Population</th>\n",
       "      <th>Male</th>\n",
       "      <th>Female</th>\n",
       "      <th>Literate</th>\n",
       "      <th>Male_Literate</th>\n",
       "      <th>Female_Literate</th>\n",
       "      <th>SC</th>\n",
       "      <th>...</th>\n",
       "      <th>Below_Primary_Education</th>\n",
       "      <th>Primary_Education</th>\n",
       "      <th>Middle_Education</th>\n",
       "      <th>Secondary_Education</th>\n",
       "      <th>Higher_Education</th>\n",
       "      <th>Graduate_Education</th>\n",
       "      <th>Other_Education</th>\n",
       "      <th>Literate_Education</th>\n",
       "      <th>Illiterate_Education</th>\n",
       "      <th>Total_Education</th>\n",
       "    </tr>\n",
       "  </thead>\n",
       "  <tbody>\n",
       "    <tr>\n",
       "      <th>0</th>\n",
       "      <td>497</td>\n",
       "      <td>MAHARASHTRA</td>\n",
       "      <td>Nandurbar</td>\n",
       "      <td>1648295</td>\n",
       "      <td>833170</td>\n",
       "      <td>815125</td>\n",
       "      <td>906509</td>\n",
       "      <td>512099</td>\n",
       "      <td>394410</td>\n",
       "      <td>47985</td>\n",
       "      <td>...</td>\n",
       "      <td>166664</td>\n",
       "      <td>218718</td>\n",
       "      <td>121404</td>\n",
       "      <td>160961</td>\n",
       "      <td>113019</td>\n",
       "      <td>58461</td>\n",
       "      <td>9248</td>\n",
       "      <td>848475</td>\n",
       "      <td>790613</td>\n",
       "      <td>1639088</td>\n",
       "    </tr>\n",
       "    <tr>\n",
       "      <th>1</th>\n",
       "      <td>498</td>\n",
       "      <td>MAHARASHTRA</td>\n",
       "      <td>Dhule</td>\n",
       "      <td>2050862</td>\n",
       "      <td>1054031</td>\n",
       "      <td>996831</td>\n",
       "      <td>1293916</td>\n",
       "      <td>723388</td>\n",
       "      <td>570528</td>\n",
       "      <td>127571</td>\n",
       "      <td>...</td>\n",
       "      <td>200494</td>\n",
       "      <td>323641</td>\n",
       "      <td>208571</td>\n",
       "      <td>290656</td>\n",
       "      <td>182739</td>\n",
       "      <td>114931</td>\n",
       "      <td>14526</td>\n",
       "      <td>1335558</td>\n",
       "      <td>649568</td>\n",
       "      <td>1985126</td>\n",
       "    </tr>\n",
       "    <tr>\n",
       "      <th>2</th>\n",
       "      <td>499</td>\n",
       "      <td>MAHARASHTRA</td>\n",
       "      <td>Jalgaon</td>\n",
       "      <td>4229917</td>\n",
       "      <td>2197365</td>\n",
       "      <td>2032552</td>\n",
       "      <td>2891882</td>\n",
       "      <td>1629223</td>\n",
       "      <td>1262659</td>\n",
       "      <td>389273</td>\n",
       "      <td>...</td>\n",
       "      <td>482462</td>\n",
       "      <td>735730</td>\n",
       "      <td>532587</td>\n",
       "      <td>627198</td>\n",
       "      <td>375643</td>\n",
       "      <td>229987</td>\n",
       "      <td>31008</td>\n",
       "      <td>3014615</td>\n",
       "      <td>1003050</td>\n",
       "      <td>4017665</td>\n",
       "    </tr>\n",
       "    <tr>\n",
       "      <th>3</th>\n",
       "      <td>500</td>\n",
       "      <td>MAHARASHTRA</td>\n",
       "      <td>Buldana</td>\n",
       "      <td>2586258</td>\n",
       "      <td>1337560</td>\n",
       "      <td>1248698</td>\n",
       "      <td>1879874</td>\n",
       "      <td>1048892</td>\n",
       "      <td>830982</td>\n",
       "      <td>470895</td>\n",
       "      <td>...</td>\n",
       "      <td>315408</td>\n",
       "      <td>457067</td>\n",
       "      <td>400342</td>\n",
       "      <td>406379</td>\n",
       "      <td>228266</td>\n",
       "      <td>113783</td>\n",
       "      <td>19619</td>\n",
       "      <td>1940864</td>\n",
       "      <td>600436</td>\n",
       "      <td>2541300</td>\n",
       "    </tr>\n",
       "    <tr>\n",
       "      <th>4</th>\n",
       "      <td>501</td>\n",
       "      <td>MAHARASHTRA</td>\n",
       "      <td>Akola</td>\n",
       "      <td>1813906</td>\n",
       "      <td>932334</td>\n",
       "      <td>881572</td>\n",
       "      <td>1411281</td>\n",
       "      <td>758977</td>\n",
       "      <td>652304</td>\n",
       "      <td>364059</td>\n",
       "      <td>...</td>\n",
       "      <td>231841</td>\n",
       "      <td>328367</td>\n",
       "      <td>275264</td>\n",
       "      <td>291391</td>\n",
       "      <td>205723</td>\n",
       "      <td>112574</td>\n",
       "      <td>15157</td>\n",
       "      <td>1460317</td>\n",
       "      <td>352687</td>\n",
       "      <td>1813004</td>\n",
       "    </tr>\n",
       "  </tbody>\n",
       "</table>\n",
       "<p>5 rows × 50 columns</p>\n",
       "</div>"
      ],
      "text/plain": [
       "   District code   State Name District name  Population     Male   Female  \\\n",
       "0            497  MAHARASHTRA     Nandurbar     1648295   833170   815125   \n",
       "1            498  MAHARASHTRA         Dhule     2050862  1054031   996831   \n",
       "2            499  MAHARASHTRA       Jalgaon     4229917  2197365  2032552   \n",
       "3            500  MAHARASHTRA       Buldana     2586258  1337560  1248698   \n",
       "4            501  MAHARASHTRA         Akola     1813906   932334   881572   \n",
       "\n",
       "   Literate  Male_Literate  Female_Literate      SC  ...  \\\n",
       "0    906509         512099           394410   47985  ...   \n",
       "1   1293916         723388           570528  127571  ...   \n",
       "2   2891882        1629223          1262659  389273  ...   \n",
       "3   1879874        1048892           830982  470895  ...   \n",
       "4   1411281         758977           652304  364059  ...   \n",
       "\n",
       "   Below_Primary_Education  Primary_Education  Middle_Education  \\\n",
       "0                   166664             218718            121404   \n",
       "1                   200494             323641            208571   \n",
       "2                   482462             735730            532587   \n",
       "3                   315408             457067            400342   \n",
       "4                   231841             328367            275264   \n",
       "\n",
       "   Secondary_Education  Higher_Education  Graduate_Education  Other_Education  \\\n",
       "0               160961            113019               58461             9248   \n",
       "1               290656            182739              114931            14526   \n",
       "2               627198            375643              229987            31008   \n",
       "3               406379            228266              113783            19619   \n",
       "4               291391            205723              112574            15157   \n",
       "\n",
       "   Literate_Education  Illiterate_Education  Total_Education  \n",
       "0              848475                790613          1639088  \n",
       "1             1335558                649568          1985126  \n",
       "2             3014615               1003050          4017665  \n",
       "3             1940864                600436          2541300  \n",
       "4             1460317                352687          1813004  \n",
       "\n",
       "[5 rows x 50 columns]"
      ]
     },
     "execution_count": 5,
     "metadata": {},
     "output_type": "execute_result"
    }
   ],
   "source": [
    "# load\n",
    "df = pd.read_csv('../Datasets/maharashtra-census-2011.csv')\n",
    "df.head()"
   ]
  },
  {
   "cell_type": "code",
   "execution_count": 6,
   "metadata": {},
   "outputs": [
    {
     "name": "stdout",
     "output_type": "stream",
     "text": [
      "Index(['District code', 'State Name', 'District name', 'Population', 'Male',\n",
      "       'Female', 'Literate', 'Male_Literate', 'Female_Literate', 'SC',\n",
      "       'Male_SC', 'Female_SC', 'ST', 'Male_ST', 'Female_ST', 'Workers',\n",
      "       'Male_Workers', 'Female_Workers', 'Main_Workers', 'Marginal_Workers',\n",
      "       'Non_Workers', 'Cultivator_Workers', 'Agricultural_Workers',\n",
      "       'Household_Workers', 'Other_Workers', 'Hindus', 'Muslims', 'Christians',\n",
      "       'Sikhs', 'Buddhists', 'Jains', 'Others_Religions',\n",
      "       'Religion_Not_Stated', 'LPG_or_PNG_Households',\n",
      "       'Housholds_with_Electric_Lighting', 'Households_with_Internet',\n",
      "       'Households_with_Computer', 'Rural_Households', 'Urban_Households',\n",
      "       'Households', 'Below_Primary_Education', 'Primary_Education',\n",
      "       'Middle_Education', 'Secondary_Education', 'Higher_Education',\n",
      "       'Graduate_Education', 'Other_Education', 'Literate_Education',\n",
      "       'Illiterate_Education', 'Total_Education'],\n",
      "      dtype='object')\n"
     ]
    }
   ],
   "source": [
    "# print all columns\n",
    "print(df.columns)"
   ]
  },
  {
   "cell_type": "markdown",
   "metadata": {},
   "source": [
    "#### 3.1 Word Chart"
   ]
  },
  {
   "cell_type": "code",
   "execution_count": 7,
   "metadata": {},
   "outputs": [
    {
     "data": {
      "image/png": "[encoded data removed]",
      "text/plain": [
       "<Figure size 1000x800 with 1 Axes>"
      ]
     },
     "metadata": {},
     "output_type": "display_data"
    }
   ],
   "source": [
    "# create a word cloud chart from data to see which state has the most number of districts\n",
    "wordcloud = WordCloud(width=800, height=400, background_color='white').generate(' '.join(data['District name']))\n",
    "plt.figure(figsize=(10, 8))\n",
    "plt.imshow(wordcloud)\n",
    "plt.axis('off')\n",
    "plt.show()"
   ]
  },
  {
   "cell_type": "markdown",
   "metadata": {},
   "source": [
    "**Observations:**\n",
    "- The word cloud chart shows the frequency of words in the Districts column of the dataset.\n",
    "- The size of the word represents the frequency of the word in the column. \"Nagar\" is the most frequent word in the column.\n",
    "- Directional words like north, south, east and west are also very common in district names."
   ]
  },
  {
   "cell_type": "markdown",
   "metadata": {},
   "source": [
    "#### 3.2 Box and Whisker Plot"
   ]
  },
  {
   "cell_type": "code",
   "execution_count": 8,
   "metadata": {},
   "outputs": [
    {
     "data": {
      "application/vnd.plotly.v1+json": {
       "config": {
        "plotlyServerURL": "https://plot.ly"
       },
       "data": [
        {
         "alignmentgroup": "True",
         "hovertemplate": "Population=%{y}<extra></extra>",
         "legendgroup": "",
         "marker": {
          "color": "#636efa"
         },
         "name": "",
         "notched": false,
         "offsetgroup": "",
         "orientation": "v",
         "showlegend": false,
         "type": "box",
         "x0": " ",
         "xaxis": "x",
         "y": [
          1648295,
          2050862,
          4229917,
          2586258,
          1813906,
          1197160,
          2888445,
          1300774,
          4653570,
          1200334,
          1322507,
          1072942,
          2204307,
          2772348,
          3361292,
          1177345,
          1836086,
          1959046,
          3701282,
          6107187,
          11060148,
          9356962,
          3085411,
          2634200,
          9429408,
          4543159,
          2585049,
          2454196,
          1657576,
          4317756,
          3003741,
          1615069,
          849651,
          3876001,
          2822143
         ],
         "y0": " ",
         "yaxis": "y"
        },
        {
         "marker": {
          "color": "red",
          "size": 10
         },
         "mode": "markers+text",
         "text": [
          "Max: Thane (11060148)",
          "Min: Sindhudurg (849651)"
         ],
         "textposition": "top right",
         "type": "scatter",
         "x": [
          1,
          1
         ],
         "y": [
          11060148,
          849651
         ]
        }
       ],
       "layout": {
        "boxmode": "group",
        "legend": {
         "tracegroupgap": 0
        },
        "showlegend": false,
        "template": {
         "data": {
          "bar": [
           {
            "error_x": {
             "color": "#2a3f5f"
            },
            "error_y": {
             "color": "#2a3f5f"
            },
            "marker": {
             "line": {
              "color": "#E5ECF6",
              "width": 0.5
             },
             "pattern": {
              "fillmode": "overlay",
              "size": 10,
              "solidity": 0.2
             }
            },
            "type": "bar"
           }
          ],
          "barpolar": [
           {
            "marker": {
             "line": {
              "color": "#E5ECF6",
              "width": 0.5
             },
             "pattern": {
              "fillmode": "overlay",
              "size": 10,
              "solidity": 0.2
             }
            },
            "type": "barpolar"
           }
          ],
          "carpet": [
           {
            "aaxis": {
             "endlinecolor": "#2a3f5f",
             "gridcolor": "white",
             "linecolor": "white",
             "minorgridcolor": "white",
             "startlinecolor": "#2a3f5f"
            },
            "baxis": {
             "endlinecolor": "#2a3f5f",
             "gridcolor": "white",
             "linecolor": "white",
             "minorgridcolor": "white",
             "startlinecolor": "#2a3f5f"
            },
            "type": "carpet"
           }
          ],
          "choropleth": [
           {
            "colorbar": {
             "outlinewidth": 0,
             "ticks": ""
            },
            "type": "choropleth"
           }
          ],
          "contour": [
           {
            "colorbar": {
             "outlinewidth": 0,
             "ticks": ""
            },
            "colorscale": [
             [
              0,
              "#0d0887"
             ],
             [
              0.1111111111111111,
              "#46039f"
             ],
             [
              0.2222222222222222,
              "#7201a8"
             ],
             [
              0.3333333333333333,
              "#9c179e"
             ],
             [
              0.4444444444444444,
              "#bd3786"
             ],
             [
              0.5555555555555556,
              "#d8576b"
             ],
             [
              0.6666666666666666,
              "#ed7953"
             ],
             [
              0.7777777777777778,
              "#fb9f3a"
             ],
             [
              0.8888888888888888,
              "#fdca26"
             ],
             [
              1,
              "#f0f921"
             ]
            ],
            "type": "contour"
           }
          ],
          "contourcarpet": [
           {
            "colorbar": {
             "outlinewidth": 0,
             "ticks": ""
            },
            "type": "contourcarpet"
           }
          ],
          "heatmap": [
           {
            "colorbar": {
             "outlinewidth": 0,
             "ticks": ""
            },
            "colorscale": [
             [
              0,
              "#0d0887"
             ],
             [
              0.1111111111111111,
              "#46039f"
             ],
             [
              0.2222222222222222,
              "#7201a8"
             ],
             [
              0.3333333333333333,
              "#9c179e"
             ],
             [
              0.4444444444444444,
              "#bd3786"
             ],
             [
              0.5555555555555556,
              "#d8576b"
             ],
             [
              0.6666666666666666,
              "#ed7953"
             ],
             [
              0.7777777777777778,
              "#fb9f3a"
             ],
             [
              0.8888888888888888,
              "#fdca26"
             ],
             [
              1,
              "#f0f921"
             ]
            ],
            "type": "heatmap"
           }
          ],
          "heatmapgl": [
           {
            "colorbar": {
             "outlinewidth": 0,
             "ticks": ""
            },
            "colorscale": [
             [
              0,
              "#0d0887"
             ],
             [
              0.1111111111111111,
              "#46039f"
             ],
             [
              0.2222222222222222,
              "#7201a8"
             ],
             [
              0.3333333333333333,
              "#9c179e"
             ],
             [
              0.4444444444444444,
              "#bd3786"
             ],
             [
              0.5555555555555556,
              "#d8576b"
             ],
             [
              0.6666666666666666,
              "#ed7953"
             ],
             [
              0.7777777777777778,
              "#fb9f3a"
             ],
             [
              0.8888888888888888,
              "#fdca26"
             ],
             [
              1,
              "#f0f921"
             ]
            ],
            "type": "heatmapgl"
           }
          ],
          "histogram": [
           {
            "marker": {
             "pattern": {
              "fillmode": "overlay",
              "size": 10,
              "solidity": 0.2
             }
            },
            "type": "histogram"
           }
          ],
          "histogram2d": [
           {
            "colorbar": {
             "outlinewidth": 0,
             "ticks": ""
            },
            "colorscale": [
             [
              0,
              "#0d0887"
             ],
             [
              0.1111111111111111,
              "#46039f"
             ],
             [
              0.2222222222222222,
              "#7201a8"
             ],
             [
              0.3333333333333333,
              "#9c179e"
             ],
             [
              0.4444444444444444,
              "#bd3786"
             ],
             [
              0.5555555555555556,
              "#d8576b"
             ],
             [
              0.6666666666666666,
              "#ed7953"
             ],
             [
              0.7777777777777778,
              "#fb9f3a"
             ],
             [
              0.8888888888888888,
              "#fdca26"
             ],
             [
              1,
              "#f0f921"
             ]
            ],
            "type": "histogram2d"
           }
          ],
          "histogram2dcontour": [
           {
            "colorbar": {
             "outlinewidth": 0,
             "ticks": ""
            },
            "colorscale": [
             [
              0,
              "#0d0887"
             ],
             [
              0.1111111111111111,
              "#46039f"
             ],
             [
              0.2222222222222222,
              "#7201a8"
             ],
             [
              0.3333333333333333,
              "#9c179e"
             ],
             [
              0.4444444444444444,
              "#bd3786"
             ],
             [
              0.5555555555555556,
              "#d8576b"
             ],
             [
              0.6666666666666666,
              "#ed7953"
             ],
             [
              0.7777777777777778,
              "#fb9f3a"
             ],
             [
              0.8888888888888888,
              "#fdca26"
             ],
             [
              1,
              "#f0f921"
             ]
            ],
            "type": "histogram2dcontour"
           }
          ],
          "mesh3d": [
           {
            "colorbar": {
             "outlinewidth": 0,
             "ticks": ""
            },
            "type": "mesh3d"
           }
          ],
          "parcoords": [
           {
            "line": {
             "colorbar": {
              "outlinewidth": 0,
              "ticks": ""
             }
            },
            "type": "parcoords"
           }
          ],
          "pie": [
           {
            "automargin": true,
            "type": "pie"
           }
          ],
          "scatter": [
           {
            "fillpattern": {
             "fillmode": "overlay",
             "size": 10,
             "solidity": 0.2
            },
            "type": "scatter"
           }
          ],
          "scatter3d": [
           {
            "line": {
             "colorbar": {
              "outlinewidth": 0,
              "ticks": ""
             }
            },
            "marker": {
             "colorbar": {
              "outlinewidth": 0,
              "ticks": ""
             }
            },
            "type": "scatter3d"
           }
          ],
          "scattercarpet": [
           {
            "marker": {
             "colorbar": {
              "outlinewidth": 0,
              "ticks": ""
             }
            },
            "type": "scattercarpet"
           }
          ],
          "scattergeo": [
           {
            "marker": {
             "colorbar": {
              "outlinewidth": 0,
              "ticks": ""
             }
            },
            "type": "scattergeo"
           }
          ],
          "scattergl": [
           {
            "marker": {
             "colorbar": {
              "outlinewidth": 0,
              "ticks": ""
             }
            },
            "type": "scattergl"
           }
          ],
          "scattermapbox": [
           {
            "marker": {
             "colorbar": {
              "outlinewidth": 0,
              "ticks": ""
             }
            },
            "type": "scattermapbox"
           }
          ],
          "scatterpolar": [
           {
            "marker": {
             "colorbar": {
              "outlinewidth": 0,
              "ticks": ""
             }
            },
            "type": "scatterpolar"
           }
          ],
          "scatterpolargl": [
           {
            "marker": {
             "colorbar": {
              "outlinewidth": 0,
              "ticks": ""
             }
            },
            "type": "scatterpolargl"
           }
          ],
          "scatterternary": [
           {
            "marker": {
             "colorbar": {
              "outlinewidth": 0,
              "ticks": ""
             }
            },
            "type": "scatterternary"
           }
          ],
          "surface": [
           {
            "colorbar": {
             "outlinewidth": 0,
             "ticks": ""
            },
            "colorscale": [
             [
              0,
              "#0d0887"
             ],
             [
              0.1111111111111111,
              "#46039f"
             ],
             [
              0.2222222222222222,
              "#7201a8"
             ],
             [
              0.3333333333333333,
              "#9c179e"
             ],
             [
              0.4444444444444444,
              "#bd3786"
             ],
             [
              0.5555555555555556,
              "#d8576b"
             ],
             [
              0.6666666666666666,
              "#ed7953"
             ],
             [
              0.7777777777777778,
              "#fb9f3a"
             ],
             [
              0.8888888888888888,
              "#fdca26"
             ],
             [
              1,
              "#f0f921"
             ]
            ],
            "type": "surface"
           }
          ],
          "table": [
           {
            "cells": {
             "fill": {
              "color": "#EBF0F8"
             },
             "line": {
              "color": "white"
             }
            },
            "header": {
             "fill": {
              "color": "#C8D4E3"
             },
             "line": {
              "color": "white"
             }
            },
            "type": "table"
           }
          ]
         },
         "layout": {
          "annotationdefaults": {
           "arrowcolor": "#2a3f5f",
           "arrowhead": 0,
           "arrowwidth": 1
          },
          "autotypenumbers": "strict",
          "coloraxis": {
           "colorbar": {
            "outlinewidth": 0,
            "ticks": ""
           }
          },
          "colorscale": {
           "diverging": [
            [
             0,
             "#8e0152"
            ],
            [
             0.1,
             "#c51b7d"
            ],
            [
             0.2,
             "#de77ae"
            ],
            [
             0.3,
             "#f1b6da"
            ],
            [
             0.4,
             "#fde0ef"
            ],
            [
             0.5,
             "#f7f7f7"
            ],
            [
             0.6,
             "#e6f5d0"
            ],
            [
             0.7,
             "#b8e186"
            ],
            [
             0.8,
             "#7fbc41"
            ],
            [
             0.9,
             "#4d9221"
            ],
            [
             1,
             "#276419"
            ]
           ],
           "sequential": [
            [
             0,
             "#0d0887"
            ],
            [
             0.1111111111111111,
             "#46039f"
            ],
            [
             0.2222222222222222,
             "#7201a8"
            ],
            [
             0.3333333333333333,
             "#9c179e"
            ],
            [
             0.4444444444444444,
             "#bd3786"
            ],
            [
             0.5555555555555556,
             "#d8576b"
            ],
            [
             0.6666666666666666,
             "#ed7953"
            ],
            [
             0.7777777777777778,
             "#fb9f3a"
            ],
            [
             0.8888888888888888,
             "#fdca26"
            ],
            [
             1,
             "#f0f921"
            ]
           ],
           "sequentialminus": [
            [
             0,
             "#0d0887"
            ],
            [
             0.1111111111111111,
             "#46039f"
            ],
            [
             0.2222222222222222,
             "#7201a8"
            ],
            [
             0.3333333333333333,
             "#9c179e"
            ],
            [
             0.4444444444444444,
             "#bd3786"
            ],
            [
             0.5555555555555556,
             "#d8576b"
            ],
            [
             0.6666666666666666,
             "#ed7953"
            ],
            [
             0.7777777777777778,
             "#fb9f3a"
            ],
            [
             0.8888888888888888,
             "#fdca26"
            ],
            [
             1,
             "#f0f921"
            ]
           ]
          },
          "colorway": [
           "#636efa",
           "#EF553B",
           "#00cc96",
           "#ab63fa",
           "#FFA15A",
           "#19d3f3",
           "#FF6692",
           "#B6E880",
           "#FF97FF",
           "#FECB52"
          ],
          "font": {
           "color": "#2a3f5f"
          },
          "geo": {
           "bgcolor": "white",
           "lakecolor": "white",
           "landcolor": "#E5ECF6",
           "showlakes": true,
           "showland": true,
           "subunitcolor": "white"
          },
          "hoverlabel": {
           "align": "left"
          },
          "hovermode": "closest",
          "mapbox": {
           "style": "light"
          },
          "paper_bgcolor": "white",
          "plot_bgcolor": "#E5ECF6",
          "polar": {
           "angularaxis": {
            "gridcolor": "white",
            "linecolor": "white",
            "ticks": ""
           },
           "bgcolor": "#E5ECF6",
           "radialaxis": {
            "gridcolor": "white",
            "linecolor": "white",
            "ticks": ""
           }
          },
          "scene": {
           "xaxis": {
            "backgroundcolor": "#E5ECF6",
            "gridcolor": "white",
            "gridwidth": 2,
            "linecolor": "white",
            "showbackground": true,
            "ticks": "",
            "zerolinecolor": "white"
           },
           "yaxis": {
            "backgroundcolor": "#E5ECF6",
            "gridcolor": "white",
            "gridwidth": 2,
            "linecolor": "white",
            "showbackground": true,
            "ticks": "",
            "zerolinecolor": "white"
           },
           "zaxis": {
            "backgroundcolor": "#E5ECF6",
            "gridcolor": "white",
            "gridwidth": 2,
            "linecolor": "white",
            "showbackground": true,
            "ticks": "",
            "zerolinecolor": "white"
           }
          },
          "shapedefaults": {
           "line": {
            "color": "#2a3f5f"
           }
          },
          "ternary": {
           "aaxis": {
            "gridcolor": "white",
            "linecolor": "white",
            "ticks": ""
           },
           "baxis": {
            "gridcolor": "white",
            "linecolor": "white",
            "ticks": ""
           },
           "bgcolor": "#E5ECF6",
           "caxis": {
            "gridcolor": "white",
            "linecolor": "white",
            "ticks": ""
           }
          },
          "title": {
           "x": 0.05
          },
          "xaxis": {
           "automargin": true,
           "gridcolor": "white",
           "linecolor": "white",
           "ticks": "",
           "title": {
            "standoff": 15
           },
           "zerolinecolor": "white",
           "zerolinewidth": 2
          },
          "yaxis": {
           "automargin": true,
           "gridcolor": "white",
           "linecolor": "white",
           "ticks": "",
           "title": {
            "standoff": 15
           },
           "zerolinecolor": "white",
           "zerolinewidth": 2
          }
         }
        },
        "title": {
         "text": "Box and Whisker Plot: Population Distribution Across Districts in Maharashtra"
        },
        "xaxis": {
         "anchor": "y",
         "domain": [
          0,
          1
         ],
         "title": {
          "text": "Districts"
         }
        },
        "yaxis": {
         "anchor": "x",
         "domain": [
          0,
          1
         ],
         "title": {
          "text": "Population"
         }
        }
       }
      }
     },
     "metadata": {},
     "output_type": "display_data"
    }
   ],
   "source": [
    "# Create the box plot for population\n",
    "fig = px.box(df, y=\"Population\", title=\"Box and Whisker Plot: Population Distribution Across Districts in Maharashtra\")\n",
    "\n",
    "max_population = df.loc[df[\"Population\"].idxmax()]\n",
    "min_population = df.loc[df[\"Population\"].idxmin()]\n",
    "\n",
    "# Add annotations for max and min districts\n",
    "fig.add_trace(\n",
    "    go.Scatter(\n",
    "        x=[1, 1],  # Position annotations over the boxplot\n",
    "        y=[max_population[\"Population\"], min_population[\"Population\"]],\n",
    "        text=[\n",
    "            f\"Max: {max_population['District name']} ({max_population['Population']})\",\n",
    "            f\"Min: {min_population['District name']} ({min_population['Population']})\",\n",
    "        ],\n",
    "        mode=\"markers+text\",\n",
    "        textposition=\"top right\",\n",
    "        marker=dict(color=\"red\", size=10),\n",
    "    )\n",
    ")\n",
    "\n",
    "fig.update_layout(yaxis_title=\"Population\", xaxis_title=\"Districts\", showlegend=False)\n",
    "fig.show()"
   ]
  },
  {
   "cell_type": "markdown",
   "metadata": {},
   "source": [
    "**Observations:**\n",
    "- The box plot shows the population distribution of the districts.\n",
    "- Most districts have a population range between 1.5 to 4 million. The median population is around 2.5 million.\n",
    "- There are a few outliers with a population of more than 4 million like Thane, Pune, Mumbai, and Nashik."
   ]
  },
  {
   "cell_type": "markdown",
   "metadata": {},
   "source": [
    "#### 3.3 Violin Plot"
   ]
  },
  {
   "cell_type": "code",
   "execution_count": 9,
   "metadata": {},
   "outputs": [
    {
     "data": {
      "application/vnd.plotly.v1+json": {
       "config": {
        "plotlyServerURL": "https://plot.ly"
       },
       "data": [
        {
         "alignmentgroup": "True",
         "box": {
          "visible": true
         },
         "hovertemplate": "Gender=%{x}<br>Literate=%{y}<extra></extra>",
         "legendgroup": "Male_Literate",
         "marker": {
          "color": "green"
         },
         "name": "Male_Literate",
         "offsetgroup": "Male_Literate",
         "orientation": "v",
         "scalegroup": "True",
         "showlegend": true,
         "type": "violin",
         "x": [
          "Male_Literate",
          "Male_Literate",
          "Male_Literate",
          "Male_Literate",
          "Male_Literate",
          "Male_Literate",
          "Male_Literate",
          "Male_Literate",
          "Male_Literate",
          "Male_Literate",
          "Male_Literate",
          "Male_Literate",
          "Male_Literate",
          "Male_Literate",
          "Male_Literate",
          "Male_Literate",
          "Male_Literate",
          "Male_Literate",
          "Male_Literate",
          "Male_Literate",
          "Male_Literate",
          "Male_Literate",
          "Male_Literate",
          "Male_Literate",
          "Male_Literate",
          "Male_Literate",
          "Male_Literate",
          "Male_Literate",
          "Male_Literate",
          "Male_Literate",
          "Male_Literate",
          "Male_Literate",
          "Male_Literate",
          "Male_Literate",
          "Male_Literate"
         ],
         "x0": " ",
         "xaxis": "x",
         "y": [
          512099,
          723388,
          1629223,
          1048892,
          758977,
          487703,
          1207104,
          552617,
          1959220,
          488709,
          542837,
          395110,
          872565,
          1115980,
          1255222,
          450551,
          666291,
          699428,
          1430936,
          2397538,
          4591396,
          4223029,
          1410680,
          1059692,
          3940210,
          1773355,
          987185,
          932432,
          644304,
          1651266,
          1201034,
          619012,
          348289,
          1559760,
          1121550
         ],
         "y0": " ",
         "yaxis": "y"
        },
        {
         "alignmentgroup": "True",
         "box": {
          "visible": true
         },
         "hovertemplate": "Gender=%{x}<br>Literate=%{y}<extra></extra>",
         "legendgroup": "Female_Literate",
         "marker": {
          "color": "pink"
         },
         "name": "Female_Literate",
         "offsetgroup": "Female_Literate",
         "orientation": "v",
         "scalegroup": "True",
         "showlegend": true,
         "type": "violin",
         "x": [
          "Female_Literate",
          "Female_Literate",
          "Female_Literate",
          "Female_Literate",
          "Female_Literate",
          "Female_Literate",
          "Female_Literate",
          "Female_Literate",
          "Female_Literate",
          "Female_Literate",
          "Female_Literate",
          "Female_Literate",
          "Female_Literate",
          "Female_Literate",
          "Female_Literate",
          "Female_Literate",
          "Female_Literate",
          "Female_Literate",
          "Female_Literate",
          "Female_Literate",
          "Female_Literate",
          "Female_Literate",
          "Female_Literate",
          "Female_Literate",
          "Female_Literate",
          "Female_Literate",
          "Female_Literate",
          "Female_Literate",
          "Female_Literate",
          "Female_Literate",
          "Female_Literate",
          "Female_Literate",
          "Female_Literate",
          "Female_Literate",
          "Female_Literate"
         ],
         "x0": " ",
         "xaxis": "x",
         "y": [
          394410,
          570528,
          1262659,
          830982,
          652304,
          382214,
          1044771,
          466841,
          1714588,
          411151,
          461406,
          313255,
          706050,
          906594,
          934203,
          340192,
          491523,
          496095,
          1072901,
          1947828,
          3635765,
          3352456,
          1098342,
          880302,
          3231513,
          1378535,
          731322,
          718240,
          493506,
          1259410,
          1024660,
          580380,
          317778,
          1266085,
          927917
         ],
         "y0": " ",
         "yaxis": "y"
        }
       ],
       "layout": {
        "legend": {
         "title": {
          "text": "Gender"
         },
         "tracegroupgap": 0
        },
        "template": {
         "data": {
          "bar": [
           {
            "error_x": {
             "color": "#2a3f5f"
            },
            "error_y": {
             "color": "#2a3f5f"
            },
            "marker": {
             "line": {
              "color": "#E5ECF6",
              "width": 0.5
             },
             "pattern": {
              "fillmode": "overlay",
              "size": 10,
              "solidity": 0.2
             }
            },
            "type": "bar"
           }
          ],
          "barpolar": [
           {
            "marker": {
             "line": {
              "color": "#E5ECF6",
              "width": 0.5
             },
             "pattern": {
              "fillmode": "overlay",
              "size": 10,
              "solidity": 0.2
             }
            },
            "type": "barpolar"
           }
          ],
          "carpet": [
           {
            "aaxis": {
             "endlinecolor": "#2a3f5f",
             "gridcolor": "white",
             "linecolor": "white",
             "minorgridcolor": "white",
             "startlinecolor": "#2a3f5f"
            },
            "baxis": {
             "endlinecolor": "#2a3f5f",
             "gridcolor": "white",
             "linecolor": "white",
             "minorgridcolor": "white",
             "startlinecolor": "#2a3f5f"
            },
            "type": "carpet"
           }
          ],
          "choropleth": [
           {
            "colorbar": {
             "outlinewidth": 0,
             "ticks": ""
            },
            "type": "choropleth"
           }
          ],
          "contour": [
           {
            "colorbar": {
             "outlinewidth": 0,
             "ticks": ""
            },
            "colorscale": [
             [
              0,
              "#0d0887"
             ],
             [
              0.1111111111111111,
              "#46039f"
             ],
             [
              0.2222222222222222,
              "#7201a8"
             ],
             [
              0.3333333333333333,
              "#9c179e"
             ],
             [
              0.4444444444444444,
              "#bd3786"
             ],
             [
              0.5555555555555556,
              "#d8576b"
             ],
             [
              0.6666666666666666,
              "#ed7953"
             ],
             [
              0.7777777777777778,
              "#fb9f3a"
             ],
             [
              0.8888888888888888,
              "#fdca26"
             ],
             [
              1,
              "#f0f921"
             ]
            ],
            "type": "contour"
           }
          ],
          "contourcarpet": [
           {
            "colorbar": {
             "outlinewidth": 0,
             "ticks": ""
            },
            "type": "contourcarpet"
           }
          ],
          "heatmap": [
           {
            "colorbar": {
             "outlinewidth": 0,
             "ticks": ""
            },
            "colorscale": [
             [
              0,
              "#0d0887"
             ],
             [
              0.1111111111111111,
              "#46039f"
             ],
             [
              0.2222222222222222,
              "#7201a8"
             ],
             [
              0.3333333333333333,
              "#9c179e"
             ],
             [
              0.4444444444444444,
              "#bd3786"
             ],
             [
              0.5555555555555556,
              "#d8576b"
             ],
             [
              0.6666666666666666,
              "#ed7953"
             ],
             [
              0.7777777777777778,
              "#fb9f3a"
             ],
             [
              0.8888888888888888,
              "#fdca26"
             ],
             [
              1,
              "#f0f921"
             ]
            ],
            "type": "heatmap"
           }
          ],
          "heatmapgl": [
           {
            "colorbar": {
             "outlinewidth": 0,
             "ticks": ""
            },
            "colorscale": [
             [
              0,
              "#0d0887"
             ],
             [
              0.1111111111111111,
              "#46039f"
             ],
             [
              0.2222222222222222,
              "#7201a8"
             ],
             [
              0.3333333333333333,
              "#9c179e"
             ],
             [
              0.4444444444444444,
              "#bd3786"
             ],
             [
              0.5555555555555556,
              "#d8576b"
             ],
             [
              0.6666666666666666,
              "#ed7953"
             ],
             [
              0.7777777777777778,
              "#fb9f3a"
             ],
             [
              0.8888888888888888,
              "#fdca26"
             ],
             [
              1,
              "#f0f921"
             ]
            ],
            "type": "heatmapgl"
           }
          ],
          "histogram": [
           {
            "marker": {
             "pattern": {
              "fillmode": "overlay",
              "size": 10,
              "solidity": 0.2
             }
            },
            "type": "histogram"
           }
          ],
          "histogram2d": [
           {
            "colorbar": {
             "outlinewidth": 0,
             "ticks": ""
            },
            "colorscale": [
             [
              0,
              "#0d0887"
             ],
             [
              0.1111111111111111,
              "#46039f"
             ],
             [
              0.2222222222222222,
              "#7201a8"
             ],
             [
              0.3333333333333333,
              "#9c179e"
             ],
             [
              0.4444444444444444,
              "#bd3786"
             ],
             [
              0.5555555555555556,
              "#d8576b"
             ],
             [
              0.6666666666666666,
              "#ed7953"
             ],
             [
              0.7777777777777778,
              "#fb9f3a"
             ],
             [
              0.8888888888888888,
              "#fdca26"
             ],
             [
              1,
              "#f0f921"
             ]
            ],
            "type": "histogram2d"
           }
          ],
          "histogram2dcontour": [
           {
            "colorbar": {
             "outlinewidth": 0,
             "ticks": ""
            },
            "colorscale": [
             [
              0,
              "#0d0887"
             ],
             [
              0.1111111111111111,
              "#46039f"
             ],
             [
              0.2222222222222222,
              "#7201a8"
             ],
             [
              0.3333333333333333,
              "#9c179e"
             ],
             [
              0.4444444444444444,
              "#bd3786"
             ],
             [
              0.5555555555555556,
              "#d8576b"
             ],
             [
              0.6666666666666666,
              "#ed7953"
             ],
             [
              0.7777777777777778,
              "#fb9f3a"
             ],
             [
              0.8888888888888888,
              "#fdca26"
             ],
             [
              1,
              "#f0f921"
             ]
            ],
            "type": "histogram2dcontour"
           }
          ],
          "mesh3d": [
           {
            "colorbar": {
             "outlinewidth": 0,
             "ticks": ""
            },
            "type": "mesh3d"
           }
          ],
          "parcoords": [
           {
            "line": {
             "colorbar": {
              "outlinewidth": 0,
              "ticks": ""
             }
            },
            "type": "parcoords"
           }
          ],
          "pie": [
           {
            "automargin": true,
            "type": "pie"
           }
          ],
          "scatter": [
           {
            "fillpattern": {
             "fillmode": "overlay",
             "size": 10,
             "solidity": 0.2
            },
            "type": "scatter"
           }
          ],
          "scatter3d": [
           {
            "line": {
             "colorbar": {
              "outlinewidth": 0,
              "ticks": ""
             }
            },
            "marker": {
             "colorbar": {
              "outlinewidth": 0,
              "ticks": ""
             }
            },
            "type": "scatter3d"
           }
          ],
          "scattercarpet": [
           {
            "marker": {
             "colorbar": {
              "outlinewidth": 0,
              "ticks": ""
             }
            },
            "type": "scattercarpet"
           }
          ],
          "scattergeo": [
           {
            "marker": {
             "colorbar": {
              "outlinewidth": 0,
              "ticks": ""
             }
            },
            "type": "scattergeo"
           }
          ],
          "scattergl": [
           {
            "marker": {
             "colorbar": {
              "outlinewidth": 0,
              "ticks": ""
             }
            },
            "type": "scattergl"
           }
          ],
          "scattermapbox": [
           {
            "marker": {
             "colorbar": {
              "outlinewidth": 0,
              "ticks": ""
             }
            },
            "type": "scattermapbox"
           }
          ],
          "scatterpolar": [
           {
            "marker": {
             "colorbar": {
              "outlinewidth": 0,
              "ticks": ""
             }
            },
            "type": "scatterpolar"
           }
          ],
          "scatterpolargl": [
           {
            "marker": {
             "colorbar": {
              "outlinewidth": 0,
              "ticks": ""
             }
            },
            "type": "scatterpolargl"
           }
          ],
          "scatterternary": [
           {
            "marker": {
             "colorbar": {
              "outlinewidth": 0,
              "ticks": ""
             }
            },
            "type": "scatterternary"
           }
          ],
          "surface": [
           {
            "colorbar": {
             "outlinewidth": 0,
             "ticks": ""
            },
            "colorscale": [
             [
              0,
              "#0d0887"
             ],
             [
              0.1111111111111111,
              "#46039f"
             ],
             [
              0.2222222222222222,
              "#7201a8"
             ],
             [
              0.3333333333333333,
              "#9c179e"
             ],
             [
              0.4444444444444444,
              "#bd3786"
             ],
             [
              0.5555555555555556,
              "#d8576b"
             ],
             [
              0.6666666666666666,
              "#ed7953"
             ],
             [
              0.7777777777777778,
              "#fb9f3a"
             ],
             [
              0.8888888888888888,
              "#fdca26"
             ],
             [
              1,
              "#f0f921"
             ]
            ],
            "type": "surface"
           }
          ],
          "table": [
           {
            "cells": {
             "fill": {
              "color": "#EBF0F8"
             },
             "line": {
              "color": "white"
             }
            },
            "header": {
             "fill": {
              "color": "#C8D4E3"
             },
             "line": {
              "color": "white"
             }
            },
            "type": "table"
           }
          ]
         },
         "layout": {
          "annotationdefaults": {
           "arrowcolor": "#2a3f5f",
           "arrowhead": 0,
           "arrowwidth": 1
          },
          "autotypenumbers": "strict",
          "coloraxis": {
           "colorbar": {
            "outlinewidth": 0,
            "ticks": ""
           }
          },
          "colorscale": {
           "diverging": [
            [
             0,
             "#8e0152"
            ],
            [
             0.1,
             "#c51b7d"
            ],
            [
             0.2,
             "#de77ae"
            ],
            [
             0.3,
             "#f1b6da"
            ],
            [
             0.4,
             "#fde0ef"
            ],
            [
             0.5,
             "#f7f7f7"
            ],
            [
             0.6,
             "#e6f5d0"
            ],
            [
             0.7,
             "#b8e186"
            ],
            [
             0.8,
             "#7fbc41"
            ],
            [
             0.9,
             "#4d9221"
            ],
            [
             1,
             "#276419"
            ]
           ],
           "sequential": [
            [
             0,
             "#0d0887"
            ],
            [
             0.1111111111111111,
             "#46039f"
            ],
            [
             0.2222222222222222,
             "#7201a8"
            ],
            [
             0.3333333333333333,
             "#9c179e"
            ],
            [
             0.4444444444444444,
             "#bd3786"
            ],
            [
             0.5555555555555556,
             "#d8576b"
            ],
            [
             0.6666666666666666,
             "#ed7953"
            ],
            [
             0.7777777777777778,
             "#fb9f3a"
            ],
            [
             0.8888888888888888,
             "#fdca26"
            ],
            [
             1,
             "#f0f921"
            ]
           ],
           "sequentialminus": [
            [
             0,
             "#0d0887"
            ],
            [
             0.1111111111111111,
             "#46039f"
            ],
            [
             0.2222222222222222,
             "#7201a8"
            ],
            [
             0.3333333333333333,
             "#9c179e"
            ],
            [
             0.4444444444444444,
             "#bd3786"
            ],
            [
             0.5555555555555556,
             "#d8576b"
            ],
            [
             0.6666666666666666,
             "#ed7953"
            ],
            [
             0.7777777777777778,
             "#fb9f3a"
            ],
            [
             0.8888888888888888,
             "#fdca26"
            ],
            [
             1,
             "#f0f921"
            ]
           ]
          },
          "colorway": [
           "#636efa",
           "#EF553B",
           "#00cc96",
           "#ab63fa",
           "#FFA15A",
           "#19d3f3",
           "#FF6692",
           "#B6E880",
           "#FF97FF",
           "#FECB52"
          ],
          "font": {
           "color": "#2a3f5f"
          },
          "geo": {
           "bgcolor": "white",
           "lakecolor": "white",
           "landcolor": "#E5ECF6",
           "showlakes": true,
           "showland": true,
           "subunitcolor": "white"
          },
          "hoverlabel": {
           "align": "left"
          },
          "hovermode": "closest",
          "mapbox": {
           "style": "light"
          },
          "paper_bgcolor": "white",
          "plot_bgcolor": "#E5ECF6",
          "polar": {
           "angularaxis": {
            "gridcolor": "white",
            "linecolor": "white",
            "ticks": ""
           },
           "bgcolor": "#E5ECF6",
           "radialaxis": {
            "gridcolor": "white",
            "linecolor": "white",
            "ticks": ""
           }
          },
          "scene": {
           "xaxis": {
            "backgroundcolor": "#E5ECF6",
            "gridcolor": "white",
            "gridwidth": 2,
            "linecolor": "white",
            "showbackground": true,
            "ticks": "",
            "zerolinecolor": "white"
           },
           "yaxis": {
            "backgroundcolor": "#E5ECF6",
            "gridcolor": "white",
            "gridwidth": 2,
            "linecolor": "white",
            "showbackground": true,
            "ticks": "",
            "zerolinecolor": "white"
           },
           "zaxis": {
            "backgroundcolor": "#E5ECF6",
            "gridcolor": "white",
            "gridwidth": 2,
            "linecolor": "white",
            "showbackground": true,
            "ticks": "",
            "zerolinecolor": "white"
           }
          },
          "shapedefaults": {
           "line": {
            "color": "#2a3f5f"
           }
          },
          "ternary": {
           "aaxis": {
            "gridcolor": "white",
            "linecolor": "white",
            "ticks": ""
           },
           "baxis": {
            "gridcolor": "white",
            "linecolor": "white",
            "ticks": ""
           },
           "bgcolor": "#E5ECF6",
           "caxis": {
            "gridcolor": "white",
            "linecolor": "white",
            "ticks": ""
           }
          },
          "title": {
           "x": 0.05
          },
          "xaxis": {
           "automargin": true,
           "gridcolor": "white",
           "linecolor": "white",
           "ticks": "",
           "title": {
            "standoff": 15
           },
           "zerolinecolor": "white",
           "zerolinewidth": 2
          },
          "yaxis": {
           "automargin": true,
           "gridcolor": "white",
           "linecolor": "white",
           "ticks": "",
           "title": {
            "standoff": 15
           },
           "zerolinecolor": "white",
           "zerolinewidth": 2
          }
         }
        },
        "title": {
         "text": "Violin Plot: Male and Female Literacy Rates Across Districts in Maharashtra"
        },
        "violinmode": "overlay",
        "xaxis": {
         "anchor": "y",
         "categoryarray": [
          "Male_Literate",
          "Female_Literate"
         ],
         "categoryorder": "array",
         "domain": [
          0,
          1
         ],
         "title": {
          "text": "Gender"
         }
        },
        "yaxis": {
         "anchor": "x",
         "domain": [
          0,
          1
         ],
         "title": {
          "text": "Number of Literate Individuals"
         }
        }
       }
      }
     },
     "metadata": {},
     "output_type": "display_data"
    }
   ],
   "source": [
    "# Prepare the data for the violin plot\n",
    "literacy_data = df[[\"Male_Literate\", \"Female_Literate\"]].melt(\n",
    "    var_name=\"Gender\", value_name=\"Literate\"\n",
    ")\n",
    "\n",
    "# Create the violin plot\n",
    "fig = px.violin(\n",
    "    literacy_data,\n",
    "    y=\"Literate\",\n",
    "    x=\"Gender\",\n",
    "    box=True,\n",
    "    title=\"Violin Plot: Male and Female Literacy Rates Across Districts in Maharashtra\",\n",
    "    color=\"Gender\",\n",
    "    color_discrete_map={\"Male_Literate\": \"green\", \"Female_Literate\": \"pink\"},\n",
    ")\n",
    "\n",
    "# Display the plot\n",
    "fig.update_layout(yaxis_title=\"Number of Literate Individuals\", xaxis_title=\"Gender\")\n",
    "fig.show()"
   ]
  },
  {
   "cell_type": "markdown",
   "metadata": {},
   "source": [
    "**Observations:**\n",
    "- The Violin Plot reveals the distribution and density of male and female literacy rates across districts in Maharashtra: \n",
    "- Male literacy rates generally have a wider distribution, with higher maximum values, indicating that some districts have significantly more literate males than females. The spread is more pronounced, reflecting both higher peaks and lower troughs.\n",
    "- The density of female literacy rates is higher towards the lower end, showing that in some districts, female literacy is lower compared to male literacy. The distribution is narrower, suggesting fewer districts with exceptionally high female literacy rates.\n",
    "- Comparison: While there is overlap between male and female literacy distributions, the plot highlights a gender disparity, with male literacy rates tending to be higher in many districts."
   ]
  },
  {
   "cell_type": "markdown",
   "metadata": {},
   "source": [
    "#### 3.4 Regression Plot"
   ]
  },
  {
   "cell_type": "code",
   "execution_count": 10,
   "metadata": {},
   "outputs": [
    {
     "data": {
      "application/vnd.plotly.v1+json": {
       "config": {
        "plotlyServerURL": "https://plot.ly"
       },
       "data": [
        {
         "hovertemplate": "Population=%{x}<br>Literate=%{y}<extra></extra>",
         "legendgroup": "",
         "marker": {
          "color": "#636efa",
          "symbol": "circle"
         },
         "mode": "markers",
         "name": "",
         "orientation": "v",
         "showlegend": false,
         "type": "scatter",
         "x": [
          1648295,
          2050862,
          4229917,
          2586258,
          1813906,
          1197160,
          2888445,
          1300774,
          4653570,
          1200334,
          1322507,
          1072942,
          2204307,
          2772348,
          3361292,
          1177345,
          1836086,
          1959046,
          3701282,
          6107187,
          11060148,
          9356962,
          3085411,
          2634200,
          9429408,
          4543159,
          2585049,
          2454196,
          1657576,
          4317756,
          3003741,
          1615069,
          849651,
          3876001,
          2822143
         ],
         "xaxis": "x",
         "y": [
          906509,
          1293916,
          2891882,
          1879874,
          1411281,
          869917,
          2251875,
          1019458,
          3673808,
          899860,
          1004243,
          708365,
          1578615,
          2022574,
          2189425,
          790743,
          1157814,
          1195523,
          2503837,
          4345366,
          8227161,
          7575485,
          2509022,
          1939994,
          7171723,
          3151890,
          1718507,
          1650672,
          1137810,
          2910676,
          2225694,
          1199392,
          666067,
          2825845,
          2049467
         ],
         "yaxis": "y"
        },
        {
         "hovertemplate": "<b>OLS trendline</b><br>Literate = 0.770581 * Population + -143979<br>R<sup>2</sup>=0.991371<br><br>Population=%{x}<br>Literate=%{y} <b>(trend)</b><extra></extra>",
         "legendgroup": "",
         "line": {
          "color": "red"
         },
         "marker": {
          "color": "#636efa",
          "symbol": "circle"
         },
         "mode": "lines",
         "name": "",
         "showlegend": false,
         "type": "scatter",
         "x": [
          849651,
          1072942,
          1177345,
          1197160,
          1200334,
          1300774,
          1322507,
          1615069,
          1648295,
          1657576,
          1813906,
          1836086,
          1959046,
          2050862,
          2204307,
          2454196,
          2585049,
          2586258,
          2634200,
          2772348,
          2822143,
          2888445,
          3003741,
          3085411,
          3361292,
          3701282,
          3876001,
          4229917,
          4317756,
          4543159,
          4653570,
          6107187,
          9356962,
          9429408,
          11060148
         ],
         "xaxis": "x",
         "y": [
          510745.9601839937,
          682809.8368303108,
          763260.8398421,
          778529.908974966,
          780975.7341290269,
          858372.923314243,
          875119.9674456876,
          1100562.7836783158,
          1126166.119081223,
          1133317.884441916,
          1253782.8643834216,
          1270874.3583711565,
          1365625.0391976614,
          1436376.7349586114,
          1554618.5877515771,
          1747178.3867191642,
          1848011.2660147944,
          1848942.8988475793,
          1885886.1091613749,
          1992340.3792884084,
          2030711.4768140735,
          2081802.5604197904,
          2170647.5059026526,
          2233580.8834490147,
          2446169.6324494784,
          2708159.5801902353,
          2842794.780282348,
          3115515.8436801466,
          3183202.9374758475,
          3356894.281899536,
          3441974.937565893,
          4562105.064525732,
          7066321.019169156,
          7122146.554490863,
          8378764.359069709
         ],
         "yaxis": "y"
        }
       ],
       "layout": {
        "legend": {
         "tracegroupgap": 0
        },
        "scene": {
         "zaxis": {
          "type": "log"
         }
        },
        "template": {
         "data": {
          "bar": [
           {
            "error_x": {
             "color": "#2a3f5f"
            },
            "error_y": {
             "color": "#2a3f5f"
            },
            "marker": {
             "line": {
              "color": "#E5ECF6",
              "width": 0.5
             },
             "pattern": {
              "fillmode": "overlay",
              "size": 10,
              "solidity": 0.2
             }
            },
            "type": "bar"
           }
          ],
          "barpolar": [
           {
            "marker": {
             "line": {
              "color": "#E5ECF6",
              "width": 0.5
             },
             "pattern": {
              "fillmode": "overlay",
              "size": 10,
              "solidity": 0.2
             }
            },
            "type": "barpolar"
           }
          ],
          "carpet": [
           {
            "aaxis": {
             "endlinecolor": "#2a3f5f",
             "gridcolor": "white",
             "linecolor": "white",
             "minorgridcolor": "white",
             "startlinecolor": "#2a3f5f"
            },
            "baxis": {
             "endlinecolor": "#2a3f5f",
             "gridcolor": "white",
             "linecolor": "white",
             "minorgridcolor": "white",
             "startlinecolor": "#2a3f5f"
            },
            "type": "carpet"
           }
          ],
          "choropleth": [
           {
            "colorbar": {
             "outlinewidth": 0,
             "ticks": ""
            },
            "type": "choropleth"
           }
          ],
          "contour": [
           {
            "colorbar": {
             "outlinewidth": 0,
             "ticks": ""
            },
            "colorscale": [
             [
              0,
              "#0d0887"
             ],
             [
              0.1111111111111111,
              "#46039f"
             ],
             [
              0.2222222222222222,
              "#7201a8"
             ],
             [
              0.3333333333333333,
              "#9c179e"
             ],
             [
              0.4444444444444444,
              "#bd3786"
             ],
             [
              0.5555555555555556,
              "#d8576b"
             ],
             [
              0.6666666666666666,
              "#ed7953"
             ],
             [
              0.7777777777777778,
              "#fb9f3a"
             ],
             [
              0.8888888888888888,
              "#fdca26"
             ],
             [
              1,
              "#f0f921"
             ]
            ],
            "type": "contour"
           }
          ],
          "contourcarpet": [
           {
            "colorbar": {
             "outlinewidth": 0,
             "ticks": ""
            },
            "type": "contourcarpet"
           }
          ],
          "heatmap": [
           {
            "colorbar": {
             "outlinewidth": 0,
             "ticks": ""
            },
            "colorscale": [
             [
              0,
              "#0d0887"
             ],
             [
              0.1111111111111111,
              "#46039f"
             ],
             [
              0.2222222222222222,
              "#7201a8"
             ],
             [
              0.3333333333333333,
              "#9c179e"
             ],
             [
              0.4444444444444444,
              "#bd3786"
             ],
             [
              0.5555555555555556,
              "#d8576b"
             ],
             [
              0.6666666666666666,
              "#ed7953"
             ],
             [
              0.7777777777777778,
              "#fb9f3a"
             ],
             [
              0.8888888888888888,
              "#fdca26"
             ],
             [
              1,
              "#f0f921"
             ]
            ],
            "type": "heatmap"
           }
          ],
          "heatmapgl": [
           {
            "colorbar": {
             "outlinewidth": 0,
             "ticks": ""
            },
            "colorscale": [
             [
              0,
              "#0d0887"
             ],
             [
              0.1111111111111111,
              "#46039f"
             ],
             [
              0.2222222222222222,
              "#7201a8"
             ],
             [
              0.3333333333333333,
              "#9c179e"
             ],
             [
              0.4444444444444444,
              "#bd3786"
             ],
             [
              0.5555555555555556,
              "#d8576b"
             ],
             [
              0.6666666666666666,
              "#ed7953"
             ],
             [
              0.7777777777777778,
              "#fb9f3a"
             ],
             [
              0.8888888888888888,
              "#fdca26"
             ],
             [
              1,
              "#f0f921"
             ]
            ],
            "type": "heatmapgl"
           }
          ],
          "histogram": [
           {
            "marker": {
             "pattern": {
              "fillmode": "overlay",
              "size": 10,
              "solidity": 0.2
             }
            },
            "type": "histogram"
           }
          ],
          "histogram2d": [
           {
            "colorbar": {
             "outlinewidth": 0,
             "ticks": ""
            },
            "colorscale": [
             [
              0,
              "#0d0887"
             ],
             [
              0.1111111111111111,
              "#46039f"
             ],
             [
              0.2222222222222222,
              "#7201a8"
             ],
             [
              0.3333333333333333,
              "#9c179e"
             ],
             [
              0.4444444444444444,
              "#bd3786"
             ],
             [
              0.5555555555555556,
              "#d8576b"
             ],
             [
              0.6666666666666666,
              "#ed7953"
             ],
             [
              0.7777777777777778,
              "#fb9f3a"
             ],
             [
              0.8888888888888888,
              "#fdca26"
             ],
             [
              1,
              "#f0f921"
             ]
            ],
            "type": "histogram2d"
           }
          ],
          "histogram2dcontour": [
           {
            "colorbar": {
             "outlinewidth": 0,
             "ticks": ""
            },
            "colorscale": [
             [
              0,
              "#0d0887"
             ],
             [
              0.1111111111111111,
              "#46039f"
             ],
             [
              0.2222222222222222,
              "#7201a8"
             ],
             [
              0.3333333333333333,
              "#9c179e"
             ],
             [
              0.4444444444444444,
              "#bd3786"
             ],
             [
              0.5555555555555556,
              "#d8576b"
             ],
             [
              0.6666666666666666,
              "#ed7953"
             ],
             [
              0.7777777777777778,
              "#fb9f3a"
             ],
             [
              0.8888888888888888,
              "#fdca26"
             ],
             [
              1,
              "#f0f921"
             ]
            ],
            "type": "histogram2dcontour"
           }
          ],
          "mesh3d": [
           {
            "colorbar": {
             "outlinewidth": 0,
             "ticks": ""
            },
            "type": "mesh3d"
           }
          ],
          "parcoords": [
           {
            "line": {
             "colorbar": {
              "outlinewidth": 0,
              "ticks": ""
             }
            },
            "type": "parcoords"
           }
          ],
          "pie": [
           {
            "automargin": true,
            "type": "pie"
           }
          ],
          "scatter": [
           {
            "fillpattern": {
             "fillmode": "overlay",
             "size": 10,
             "solidity": 0.2
            },
            "type": "scatter"
           }
          ],
          "scatter3d": [
           {
            "line": {
             "colorbar": {
              "outlinewidth": 0,
              "ticks": ""
             }
            },
            "marker": {
             "colorbar": {
              "outlinewidth": 0,
              "ticks": ""
             }
            },
            "type": "scatter3d"
           }
          ],
          "scattercarpet": [
           {
            "marker": {
             "colorbar": {
              "outlinewidth": 0,
              "ticks": ""
             }
            },
            "type": "scattercarpet"
           }
          ],
          "scattergeo": [
           {
            "marker": {
             "colorbar": {
              "outlinewidth": 0,
              "ticks": ""
             }
            },
            "type": "scattergeo"
           }
          ],
          "scattergl": [
           {
            "marker": {
             "colorbar": {
              "outlinewidth": 0,
              "ticks": ""
             }
            },
            "type": "scattergl"
           }
          ],
          "scattermapbox": [
           {
            "marker": {
             "colorbar": {
              "outlinewidth": 0,
              "ticks": ""
             }
            },
            "type": "scattermapbox"
           }
          ],
          "scatterpolar": [
           {
            "marker": {
             "colorbar": {
              "outlinewidth": 0,
              "ticks": ""
             }
            },
            "type": "scatterpolar"
           }
          ],
          "scatterpolargl": [
           {
            "marker": {
             "colorbar": {
              "outlinewidth": 0,
              "ticks": ""
             }
            },
            "type": "scatterpolargl"
           }
          ],
          "scatterternary": [
           {
            "marker": {
             "colorbar": {
              "outlinewidth": 0,
              "ticks": ""
             }
            },
            "type": "scatterternary"
           }
          ],
          "surface": [
           {
            "colorbar": {
             "outlinewidth": 0,
             "ticks": ""
            },
            "colorscale": [
             [
              0,
              "#0d0887"
             ],
             [
              0.1111111111111111,
              "#46039f"
             ],
             [
              0.2222222222222222,
              "#7201a8"
             ],
             [
              0.3333333333333333,
              "#9c179e"
             ],
             [
              0.4444444444444444,
              "#bd3786"
             ],
             [
              0.5555555555555556,
              "#d8576b"
             ],
             [
              0.6666666666666666,
              "#ed7953"
             ],
             [
              0.7777777777777778,
              "#fb9f3a"
             ],
             [
              0.8888888888888888,
              "#fdca26"
             ],
             [
              1,
              "#f0f921"
             ]
            ],
            "type": "surface"
           }
          ],
          "table": [
           {
            "cells": {
             "fill": {
              "color": "#EBF0F8"
             },
             "line": {
              "color": "white"
             }
            },
            "header": {
             "fill": {
              "color": "#C8D4E3"
             },
             "line": {
              "color": "white"
             }
            },
            "type": "table"
           }
          ]
         },
         "layout": {
          "annotationdefaults": {
           "arrowcolor": "#2a3f5f",
           "arrowhead": 0,
           "arrowwidth": 1
          },
          "autotypenumbers": "strict",
          "coloraxis": {
           "colorbar": {
            "outlinewidth": 0,
            "ticks": ""
           }
          },
          "colorscale": {
           "diverging": [
            [
             0,
             "#8e0152"
            ],
            [
             0.1,
             "#c51b7d"
            ],
            [
             0.2,
             "#de77ae"
            ],
            [
             0.3,
             "#f1b6da"
            ],
            [
             0.4,
             "#fde0ef"
            ],
            [
             0.5,
             "#f7f7f7"
            ],
            [
             0.6,
             "#e6f5d0"
            ],
            [
             0.7,
             "#b8e186"
            ],
            [
             0.8,
             "#7fbc41"
            ],
            [
             0.9,
             "#4d9221"
            ],
            [
             1,
             "#276419"
            ]
           ],
           "sequential": [
            [
             0,
             "#0d0887"
            ],
            [
             0.1111111111111111,
             "#46039f"
            ],
            [
             0.2222222222222222,
             "#7201a8"
            ],
            [
             0.3333333333333333,
             "#9c179e"
            ],
            [
             0.4444444444444444,
             "#bd3786"
            ],
            [
             0.5555555555555556,
             "#d8576b"
            ],
            [
             0.6666666666666666,
             "#ed7953"
            ],
            [
             0.7777777777777778,
             "#fb9f3a"
            ],
            [
             0.8888888888888888,
             "#fdca26"
            ],
            [
             1,
             "#f0f921"
            ]
           ],
           "sequentialminus": [
            [
             0,
             "#0d0887"
            ],
            [
             0.1111111111111111,
             "#46039f"
            ],
            [
             0.2222222222222222,
             "#7201a8"
            ],
            [
             0.3333333333333333,
             "#9c179e"
            ],
            [
             0.4444444444444444,
             "#bd3786"
            ],
            [
             0.5555555555555556,
             "#d8576b"
            ],
            [
             0.6666666666666666,
             "#ed7953"
            ],
            [
             0.7777777777777778,
             "#fb9f3a"
            ],
            [
             0.8888888888888888,
             "#fdca26"
            ],
            [
             1,
             "#f0f921"
            ]
           ]
          },
          "colorway": [
           "#636efa",
           "#EF553B",
           "#00cc96",
           "#ab63fa",
           "#FFA15A",
           "#19d3f3",
           "#FF6692",
           "#B6E880",
           "#FF97FF",
           "#FECB52"
          ],
          "font": {
           "color": "#2a3f5f"
          },
          "geo": {
           "bgcolor": "white",
           "lakecolor": "white",
           "landcolor": "#E5ECF6",
           "showlakes": true,
           "showland": true,
           "subunitcolor": "white"
          },
          "hoverlabel": {
           "align": "left"
          },
          "hovermode": "closest",
          "mapbox": {
           "style": "light"
          },
          "paper_bgcolor": "white",
          "plot_bgcolor": "#E5ECF6",
          "polar": {
           "angularaxis": {
            "gridcolor": "white",
            "linecolor": "white",
            "ticks": ""
           },
           "bgcolor": "#E5ECF6",
           "radialaxis": {
            "gridcolor": "white",
            "linecolor": "white",
            "ticks": ""
           }
          },
          "scene": {
           "xaxis": {
            "backgroundcolor": "#E5ECF6",
            "gridcolor": "white",
            "gridwidth": 2,
            "linecolor": "white",
            "showbackground": true,
            "ticks": "",
            "zerolinecolor": "white"
           },
           "yaxis": {
            "backgroundcolor": "#E5ECF6",
            "gridcolor": "white",
            "gridwidth": 2,
            "linecolor": "white",
            "showbackground": true,
            "ticks": "",
            "zerolinecolor": "white"
           },
           "zaxis": {
            "backgroundcolor": "#E5ECF6",
            "gridcolor": "white",
            "gridwidth": 2,
            "linecolor": "white",
            "showbackground": true,
            "ticks": "",
            "zerolinecolor": "white"
           }
          },
          "shapedefaults": {
           "line": {
            "color": "#2a3f5f"
           }
          },
          "ternary": {
           "aaxis": {
            "gridcolor": "white",
            "linecolor": "white",
            "ticks": ""
           },
           "baxis": {
            "gridcolor": "white",
            "linecolor": "white",
            "ticks": ""
           },
           "bgcolor": "#E5ECF6",
           "caxis": {
            "gridcolor": "white",
            "linecolor": "white",
            "ticks": ""
           }
          },
          "title": {
           "x": 0.05
          },
          "xaxis": {
           "automargin": true,
           "gridcolor": "white",
           "linecolor": "white",
           "ticks": "",
           "title": {
            "standoff": 15
           },
           "zerolinecolor": "white",
           "zerolinewidth": 2
          },
          "yaxis": {
           "automargin": true,
           "gridcolor": "white",
           "linecolor": "white",
           "ticks": "",
           "title": {
            "standoff": 15
           },
           "zerolinecolor": "white",
           "zerolinewidth": 2
          }
         }
        },
        "title": {
         "text": "Regression Plot: Population vs Literacy Rate Across Districts in Maharashtra"
        },
        "xaxis": {
         "anchor": "y",
         "domain": [
          0,
          1
         ],
         "title": {
          "text": "Population"
         }
        },
        "yaxis": {
         "anchor": "x",
         "domain": [
          0,
          1
         ],
         "title": {
          "text": "Literate"
         }
        }
       }
      }
     },
     "metadata": {},
     "output_type": "display_data"
    }
   ],
   "source": [
    "# Prepare the data for the regression plot\n",
    "df1 = df[[\"Population\", \"Literate\"]]\n",
    "df1 = df1.dropna()\n",
    "\n",
    "# Create the regression plot\n",
    "fig = px.scatter(\n",
    "    df1,\n",
    "    x=\"Population\",\n",
    "    y=\"Literate\",\n",
    "    trendline=\"ols\",\n",
    "    trendline_color_override=\"red\",\n",
    "    title=\"Regression Plot: Population vs Literacy Rate Across Districts in Maharashtra\",\n",
    ")\n",
    "\n",
    "# Display the plot\n",
    "fig.update_layout(scene_zaxis_type=\"log\")\n",
    "fig.show()"
   ]
  },
  {
   "cell_type": "markdown",
   "metadata": {},
   "source": [
    "**Observation:**\n",
    "- The linear regression plot shows a positive correlation between population and literacy rates, indicating that districts with larger populations tend to have higher literacy rates.\n",
    "- The spread of the data points around the regression line suggests that while there is a relationship, population alone does not fully explain literacy variations across districts. Other factors may also be influencing literacy rates."
   ]
  },
  {
   "cell_type": "markdown",
   "metadata": {},
   "source": [
    "#### 3.5 3D Chart"
   ]
  },
  {
   "cell_type": "code",
   "execution_count": 11,
   "metadata": {},
   "outputs": [
    {
     "data": {
      "application/vnd.plotly.v1+json": {
       "config": {
        "plotlyServerURL": "https://plot.ly"
       },
       "data": [
        {
         "hovertemplate": "District name=Nandurbar<br>Total Population=%{x}<br>Number of Literate Individuals=%{y}<br>Number of Workers=%{z}<extra></extra>",
         "legendgroup": "Nandurbar",
         "marker": {
          "color": "#636efa",
          "symbol": "circle"
         },
         "mode": "markers",
         "name": "Nandurbar",
         "scene": "scene",
         "showlegend": true,
         "type": "scatter3d",
         "x": [
          1648295
         ],
         "y": [
          906509
         ],
         "z": [
          792065
         ]
        },
        {
         "hovertemplate": "District name=Dhule<br>Total Population=%{x}<br>Number of Literate Individuals=%{y}<br>Number of Workers=%{z}<extra></extra>",
         "legendgroup": "Dhule",
         "marker": {
          "color": "#EF553B",
          "symbol": "circle"
         },
         "mode": "markers",
         "name": "Dhule",
         "scene": "scene",
         "showlegend": true,
         "type": "scatter3d",
         "x": [
          2050862
         ],
         "y": [
          1293916
         ],
         "z": [
          936370
         ]
        },
        {
         "hovertemplate": "District name=Jalgaon<br>Total Population=%{x}<br>Number of Literate Individuals=%{y}<br>Number of Workers=%{z}<extra></extra>",
         "legendgroup": "Jalgaon",
         "marker": {
          "color": "#00cc96",
          "symbol": "circle"
         },
         "mode": "markers",
         "name": "Jalgaon",
         "scene": "scene",
         "showlegend": true,
         "type": "scatter3d",
         "x": [
          4229917
         ],
         "y": [
          2891882
         ],
         "z": [
          1863571
         ]
        },
        {
         "hovertemplate": "District name=Buldana<br>Total Population=%{x}<br>Number of Literate Individuals=%{y}<br>Number of Workers=%{z}<extra></extra>",
         "legendgroup": "Buldana",
         "marker": {
          "color": "#ab63fa",
          "symbol": "circle"
         },
         "mode": "markers",
         "name": "Buldana",
         "scene": "scene",
         "showlegend": true,
         "type": "scatter3d",
         "x": [
          2586258
         ],
         "y": [
          1879874
         ],
         "z": [
          1219641
         ]
        },
        {
         "hovertemplate": "District name=Akola<br>Total Population=%{x}<br>Number of Literate Individuals=%{y}<br>Number of Workers=%{z}<extra></extra>",
         "legendgroup": "Akola",
         "marker": {
          "color": "#FFA15A",
          "symbol": "circle"
         },
         "mode": "markers",
         "name": "Akola",
         "scene": "scene",
         "showlegend": true,
         "type": "scatter3d",
         "x": [
          1813906
         ],
         "y": [
          1411281
         ],
         "z": [
          768154
         ]
        },
        {
         "hovertemplate": "District name=Washim<br>Total Population=%{x}<br>Number of Literate Individuals=%{y}<br>Number of Workers=%{z}<extra></extra>",
         "legendgroup": "Washim",
         "marker": {
          "color": "#19d3f3",
          "symbol": "circle"
         },
         "mode": "markers",
         "name": "Washim",
         "scene": "scene",
         "showlegend": true,
         "type": "scatter3d",
         "x": [
          1197160
         ],
         "y": [
          869917
         ],
         "z": [
          569792
         ]
        },
        {
         "hovertemplate": "District name=Amravati<br>Total Population=%{x}<br>Number of Literate Individuals=%{y}<br>Number of Workers=%{z}<extra></extra>",
         "legendgroup": "Amravati",
         "marker": {
          "color": "#FF6692",
          "symbol": "circle"
         },
         "mode": "markers",
         "name": "Amravati",
         "scene": "scene",
         "showlegend": true,
         "type": "scatter3d",
         "x": [
          2888445
         ],
         "y": [
          2251875
         ],
         "z": [
          1236322
         ]
        },
        {
         "hovertemplate": "District name=Wardha<br>Total Population=%{x}<br>Number of Literate Individuals=%{y}<br>Number of Workers=%{z}<extra></extra>",
         "legendgroup": "Wardha",
         "marker": {
          "color": "#B6E880",
          "symbol": "circle"
         },
         "mode": "markers",
         "name": "Wardha",
         "scene": "scene",
         "showlegend": true,
         "type": "scatter3d",
         "x": [
          1300774
         ],
         "y": [
          1019458
         ],
         "z": [
          608235
         ]
        },
        {
         "hovertemplate": "District name=Nagpur<br>Total Population=%{x}<br>Number of Literate Individuals=%{y}<br>Number of Workers=%{z}<extra></extra>",
         "legendgroup": "Nagpur",
         "marker": {
          "color": "#FF97FF",
          "symbol": "circle"
         },
         "mode": "markers",
         "name": "Nagpur",
         "scene": "scene",
         "showlegend": true,
         "type": "scatter3d",
         "x": [
          4653570
         ],
         "y": [
          3673808
         ],
         "z": [
          1868560
         ]
        },
        {
         "hovertemplate": "District name=Bhandara<br>Total Population=%{x}<br>Number of Literate Individuals=%{y}<br>Number of Workers=%{z}<extra></extra>",
         "legendgroup": "Bhandara",
         "marker": {
          "color": "#FECB52",
          "symbol": "circle"
         },
         "mode": "markers",
         "name": "Bhandara",
         "scene": "scene",
         "showlegend": true,
         "type": "scatter3d",
         "x": [
          1200334
         ],
         "y": [
          899860
         ],
         "z": [
          597305
         ]
        },
        {
         "hovertemplate": "District name=Gondiya<br>Total Population=%{x}<br>Number of Literate Individuals=%{y}<br>Number of Workers=%{z}<extra></extra>",
         "legendgroup": "Gondiya",
         "marker": {
          "color": "#636efa",
          "symbol": "circle"
         },
         "mode": "markers",
         "name": "Gondiya",
         "scene": "scene",
         "showlegend": true,
         "type": "scatter3d",
         "x": [
          1322507
         ],
         "y": [
          1004243
         ],
         "z": [
          665419
         ]
        },
        {
         "hovertemplate": "District name=Gadchiroli<br>Total Population=%{x}<br>Number of Literate Individuals=%{y}<br>Number of Workers=%{z}<extra></extra>",
         "legendgroup": "Gadchiroli",
         "marker": {
          "color": "#EF553B",
          "symbol": "circle"
         },
         "mode": "markers",
         "name": "Gadchiroli",
         "scene": "scene",
         "showlegend": true,
         "type": "scatter3d",
         "x": [
          1072942
         ],
         "y": [
          708365
         ],
         "z": [
          584237
         ]
        },
        {
         "hovertemplate": "District name=Chandrapur<br>Total Population=%{x}<br>Number of Literate Individuals=%{y}<br>Number of Workers=%{z}<extra></extra>",
         "legendgroup": "Chandrapur",
         "marker": {
          "color": "#00cc96",
          "symbol": "circle"
         },
         "mode": "markers",
         "name": "Chandrapur",
         "scene": "scene",
         "showlegend": true,
         "type": "scatter3d",
         "x": [
          2204307
         ],
         "y": [
          1578615
         ],
         "z": [
          1058172
         ]
        },
        {
         "hovertemplate": "District name=Yavatmal<br>Total Population=%{x}<br>Number of Literate Individuals=%{y}<br>Number of Workers=%{z}<extra></extra>",
         "legendgroup": "Yavatmal",
         "marker": {
          "color": "#ab63fa",
          "symbol": "circle"
         },
         "mode": "markers",
         "name": "Yavatmal",
         "scene": "scene",
         "showlegend": true,
         "type": "scatter3d",
         "x": [
          2772348
         ],
         "y": [
          2022574
         ],
         "z": [
          1355999
         ]
        },
        {
         "hovertemplate": "District name=Nanded<br>Total Population=%{x}<br>Number of Literate Individuals=%{y}<br>Number of Workers=%{z}<extra></extra>",
         "legendgroup": "Nanded",
         "marker": {
          "color": "#FFA15A",
          "symbol": "circle"
         },
         "mode": "markers",
         "name": "Nanded",
         "scene": "scene",
         "showlegend": true,
         "type": "scatter3d",
         "x": [
          3361292
         ],
         "y": [
          2189425
         ],
         "z": [
          1493953
         ]
        },
        {
         "hovertemplate": "District name=Hingoli<br>Total Population=%{x}<br>Number of Literate Individuals=%{y}<br>Number of Workers=%{z}<extra></extra>",
         "legendgroup": "Hingoli",
         "marker": {
          "color": "#19d3f3",
          "symbol": "circle"
         },
         "mode": "markers",
         "name": "Hingoli",
         "scene": "scene",
         "showlegend": true,
         "type": "scatter3d",
         "x": [
          1177345
         ],
         "y": [
          790743
         ],
         "z": [
          569182
         ]
        },
        {
         "hovertemplate": "District name=Parbhani<br>Total Population=%{x}<br>Number of Literate Individuals=%{y}<br>Number of Workers=%{z}<extra></extra>",
         "legendgroup": "Parbhani",
         "marker": {
          "color": "#FF6692",
          "symbol": "circle"
         },
         "mode": "markers",
         "name": "Parbhani",
         "scene": "scene",
         "showlegend": true,
         "type": "scatter3d",
         "x": [
          1836086
         ],
         "y": [
          1157814
         ],
         "z": [
          822797
         ]
        },
        {
         "hovertemplate": "District name=Jalna<br>Total Population=%{x}<br>Number of Literate Individuals=%{y}<br>Number of Workers=%{z}<extra></extra>",
         "legendgroup": "Jalna",
         "marker": {
          "color": "#B6E880",
          "symbol": "circle"
         },
         "mode": "markers",
         "name": "Jalna",
         "scene": "scene",
         "showlegend": true,
         "type": "scatter3d",
         "x": [
          1959046
         ],
         "y": [
          1195523
         ],
         "z": [
          930886
         ]
        },
        {
         "hovertemplate": "District name=Aurangabad<br>Total Population=%{x}<br>Number of Literate Individuals=%{y}<br>Number of Workers=%{z}<extra></extra>",
         "legendgroup": "Aurangabad",
         "marker": {
          "color": "#FF97FF",
          "symbol": "circle"
         },
         "mode": "markers",
         "name": "Aurangabad",
         "scene": "scene",
         "showlegend": true,
         "type": "scatter3d",
         "x": [
          3701282
         ],
         "y": [
          2503837
         ],
         "z": [
          1575079
         ]
        },
        {
         "hovertemplate": "District name=Nashik<br>Total Population=%{x}<br>Number of Literate Individuals=%{y}<br>Number of Workers=%{z}<extra></extra>",
         "legendgroup": "Nashik",
         "marker": {
          "color": "#FECB52",
          "symbol": "circle"
         },
         "mode": "markers",
         "name": "Nashik",
         "scene": "scene",
         "showlegend": true,
         "type": "scatter3d",
         "x": [
          6107187
         ],
         "y": [
          4345366
         ],
         "z": [
          2763328
         ]
        },
        {
         "hovertemplate": "District name=Thane<br>Total Population=%{x}<br>Number of Literate Individuals=%{y}<br>Number of Workers=%{z}<extra></extra>",
         "legendgroup": "Thane",
         "marker": {
          "color": "#636efa",
          "symbol": "circle"
         },
         "mode": "markers",
         "name": "Thane",
         "scene": "scene",
         "showlegend": true,
         "type": "scatter3d",
         "x": [
          11060148
         ],
         "y": [
          8227161
         ],
         "z": [
          4492767
         ]
        },
        {
         "hovertemplate": "District name=Mumbai Suburban<br>Total Population=%{x}<br>Number of Literate Individuals=%{y}<br>Number of Workers=%{z}<extra></extra>",
         "legendgroup": "Mumbai Suburban",
         "marker": {
          "color": "#EF553B",
          "symbol": "circle"
         },
         "mode": "markers",
         "name": "Mumbai Suburban",
         "scene": "scene",
         "showlegend": true,
         "type": "scatter3d",
         "x": [
          9356962
         ],
         "y": [
          7575485
         ],
         "z": [
          3735021
         ]
        },
        {
         "hovertemplate": "District name=Mumbai<br>Total Population=%{x}<br>Number of Literate Individuals=%{y}<br>Number of Workers=%{z}<extra></extra>",
         "legendgroup": "Mumbai",
         "marker": {
          "color": "#00cc96",
          "symbol": "circle"
         },
         "mode": "markers",
         "name": "Mumbai",
         "scene": "scene",
         "showlegend": true,
         "type": "scatter3d",
         "x": [
          3085411
         ],
         "y": [
          2509022
         ],
         "z": [
          1284396
         ]
        },
        {
         "hovertemplate": "District name=Raigarh<br>Total Population=%{x}<br>Number of Literate Individuals=%{y}<br>Number of Workers=%{z}<extra></extra>",
         "legendgroup": "Raigarh",
         "marker": {
          "color": "#ab63fa",
          "symbol": "circle"
         },
         "mode": "markers",
         "name": "Raigarh",
         "scene": "scene",
         "showlegend": true,
         "type": "scatter3d",
         "x": [
          2634200
         ],
         "y": [
          1939994
         ],
         "z": [
          1072969
         ]
        },
        {
         "hovertemplate": "District name=Pune<br>Total Population=%{x}<br>Number of Literate Individuals=%{y}<br>Number of Workers=%{z}<extra></extra>",
         "legendgroup": "Pune",
         "marker": {
          "color": "#FFA15A",
          "symbol": "circle"
         },
         "mode": "markers",
         "name": "Pune",
         "scene": "scene",
         "showlegend": true,
         "type": "scatter3d",
         "x": [
          9429408
         ],
         "y": [
          7171723
         ],
         "z": [
          4048993
         ]
        },
        {
         "hovertemplate": "District name=Ahmadnagar<br>Total Population=%{x}<br>Number of Literate Individuals=%{y}<br>Number of Workers=%{z}<extra></extra>",
         "legendgroup": "Ahmadnagar",
         "marker": {
          "color": "#19d3f3",
          "symbol": "circle"
         },
         "mode": "markers",
         "name": "Ahmadnagar",
         "scene": "scene",
         "showlegend": true,
         "type": "scatter3d",
         "x": [
          4543159
         ],
         "y": [
          3151890
         ],
         "z": [
          2204590
         ]
        },
        {
         "hovertemplate": "District name=Bid<br>Total Population=%{x}<br>Number of Literate Individuals=%{y}<br>Number of Workers=%{z}<extra></extra>",
         "legendgroup": "Bid",
         "marker": {
          "color": "#FF6692",
          "symbol": "circle"
         },
         "mode": "markers",
         "name": "Bid",
         "scene": "scene",
         "showlegend": true,
         "type": "scatter3d",
         "x": [
          2585049
         ],
         "y": [
          1718507
         ],
         "z": [
          1255548
         ]
        },
        {
         "hovertemplate": "District name=Latur<br>Total Population=%{x}<br>Number of Literate Individuals=%{y}<br>Number of Workers=%{z}<extra></extra>",
         "legendgroup": "Latur",
         "marker": {
          "color": "#B6E880",
          "symbol": "circle"
         },
         "mode": "markers",
         "name": "Latur",
         "scene": "scene",
         "showlegend": true,
         "type": "scatter3d",
         "x": [
          2454196
         ],
         "y": [
          1650672
         ],
         "z": [
          1046857
         ]
        },
        {
         "hovertemplate": "District name=Osmanabad<br>Total Population=%{x}<br>Number of Literate Individuals=%{y}<br>Number of Workers=%{z}<extra></extra>",
         "legendgroup": "Osmanabad",
         "marker": {
          "color": "#FF97FF",
          "symbol": "circle"
         },
         "mode": "markers",
         "name": "Osmanabad",
         "scene": "scene",
         "showlegend": true,
         "type": "scatter3d",
         "x": [
          1657576
         ],
         "y": [
          1137810
         ],
         "z": [
          773916
         ]
        },
        {
         "hovertemplate": "District name=Solapur<br>Total Population=%{x}<br>Number of Literate Individuals=%{y}<br>Number of Workers=%{z}<extra></extra>",
         "legendgroup": "Solapur",
         "marker": {
          "color": "#FECB52",
          "symbol": "circle"
         },
         "mode": "markers",
         "name": "Solapur",
         "scene": "scene",
         "showlegend": true,
         "type": "scatter3d",
         "x": [
          4317756
         ],
         "y": [
          2910676
         ],
         "z": [
          1898395
         ]
        },
        {
         "hovertemplate": "District name=Satara<br>Total Population=%{x}<br>Number of Literate Individuals=%{y}<br>Number of Workers=%{z}<extra></extra>",
         "legendgroup": "Satara",
         "marker": {
          "color": "#636efa",
          "symbol": "circle"
         },
         "mode": "markers",
         "name": "Satara",
         "scene": "scene",
         "showlegend": true,
         "type": "scatter3d",
         "x": [
          3003741
         ],
         "y": [
          2225694
         ],
         "z": [
          1354947
         ]
        },
        {
         "hovertemplate": "District name=Ratnagiri<br>Total Population=%{x}<br>Number of Literate Individuals=%{y}<br>Number of Workers=%{z}<extra></extra>",
         "legendgroup": "Ratnagiri",
         "marker": {
          "color": "#EF553B",
          "symbol": "circle"
         },
         "mode": "markers",
         "name": "Ratnagiri",
         "scene": "scene",
         "showlegend": true,
         "type": "scatter3d",
         "x": [
          1615069
         ],
         "y": [
          1199392
         ],
         "z": [
          714076
         ]
        },
        {
         "hovertemplate": "District name=Sindhudurg<br>Total Population=%{x}<br>Number of Literate Individuals=%{y}<br>Number of Workers=%{z}<extra></extra>",
         "legendgroup": "Sindhudurg",
         "marker": {
          "color": "#00cc96",
          "symbol": "circle"
         },
         "mode": "markers",
         "name": "Sindhudurg",
         "scene": "scene",
         "showlegend": true,
         "type": "scatter3d",
         "x": [
          849651
         ],
         "y": [
          666067
         ],
         "z": [
          347178
         ]
        },
        {
         "hovertemplate": "District name=Kolhapur<br>Total Population=%{x}<br>Number of Literate Individuals=%{y}<br>Number of Workers=%{z}<extra></extra>",
         "legendgroup": "Kolhapur",
         "marker": {
          "color": "#ab63fa",
          "symbol": "circle"
         },
         "mode": "markers",
         "name": "Kolhapur",
         "scene": "scene",
         "showlegend": true,
         "type": "scatter3d",
         "x": [
          3876001
         ],
         "y": [
          2825845
         ],
         "z": [
          1704054
         ]
        },
        {
         "hovertemplate": "District name=Sangli<br>Total Population=%{x}<br>Number of Literate Individuals=%{y}<br>Number of Workers=%{z}<extra></extra>",
         "legendgroup": "Sangli",
         "marker": {
          "color": "#FFA15A",
          "symbol": "circle"
         },
         "mode": "markers",
         "name": "Sangli",
         "scene": "scene",
         "showlegend": true,
         "type": "scatter3d",
         "x": [
          2822143
         ],
         "y": [
          2049467
         ],
         "z": [
          1215104
         ]
        }
       ],
       "layout": {
        "legend": {
         "title": {
          "text": "District name"
         },
         "tracegroupgap": 0
        },
        "margin": {
         "b": 0,
         "l": 0,
         "r": 0,
         "t": 40
        },
        "scene": {
         "domain": {
          "x": [
           0,
           1
          ],
          "y": [
           0,
           1
          ]
         },
         "xaxis": {
          "title": {
           "text": "Population"
          }
         },
         "yaxis": {
          "title": {
           "text": "Literate Individuals"
          }
         },
         "zaxis": {
          "title": {
           "text": "Workers"
          }
         }
        },
        "template": {
         "data": {
          "bar": [
           {
            "error_x": {
             "color": "#2a3f5f"
            },
            "error_y": {
             "color": "#2a3f5f"
            },
            "marker": {
             "line": {
              "color": "#E5ECF6",
              "width": 0.5
             },
             "pattern": {
              "fillmode": "overlay",
              "size": 10,
              "solidity": 0.2
             }
            },
            "type": "bar"
           }
          ],
          "barpolar": [
           {
            "marker": {
             "line": {
              "color": "#E5ECF6",
              "width": 0.5
             },
             "pattern": {
              "fillmode": "overlay",
              "size": 10,
              "solidity": 0.2
             }
            },
            "type": "barpolar"
           }
          ],
          "carpet": [
           {
            "aaxis": {
             "endlinecolor": "#2a3f5f",
             "gridcolor": "white",
             "linecolor": "white",
             "minorgridcolor": "white",
             "startlinecolor": "#2a3f5f"
            },
            "baxis": {
             "endlinecolor": "#2a3f5f",
             "gridcolor": "white",
             "linecolor": "white",
             "minorgridcolor": "white",
             "startlinecolor": "#2a3f5f"
            },
            "type": "carpet"
           }
          ],
          "choropleth": [
           {
            "colorbar": {
             "outlinewidth": 0,
             "ticks": ""
            },
            "type": "choropleth"
           }
          ],
          "contour": [
           {
            "colorbar": {
             "outlinewidth": 0,
             "ticks": ""
            },
            "colorscale": [
             [
              0,
              "#0d0887"
             ],
             [
              0.1111111111111111,
              "#46039f"
             ],
             [
              0.2222222222222222,
              "#7201a8"
             ],
             [
              0.3333333333333333,
              "#9c179e"
             ],
             [
              0.4444444444444444,
              "#bd3786"
             ],
             [
              0.5555555555555556,
              "#d8576b"
             ],
             [
              0.6666666666666666,
              "#ed7953"
             ],
             [
              0.7777777777777778,
              "#fb9f3a"
             ],
             [
              0.8888888888888888,
              "#fdca26"
             ],
             [
              1,
              "#f0f921"
             ]
            ],
            "type": "contour"
           }
          ],
          "contourcarpet": [
           {
            "colorbar": {
             "outlinewidth": 0,
             "ticks": ""
            },
            "type": "contourcarpet"
           }
          ],
          "heatmap": [
           {
            "colorbar": {
             "outlinewidth": 0,
             "ticks": ""
            },
            "colorscale": [
             [
              0,
              "#0d0887"
             ],
             [
              0.1111111111111111,
              "#46039f"
             ],
             [
              0.2222222222222222,
              "#7201a8"
             ],
             [
              0.3333333333333333,
              "#9c179e"
             ],
             [
              0.4444444444444444,
              "#bd3786"
             ],
             [
              0.5555555555555556,
              "#d8576b"
             ],
             [
              0.6666666666666666,
              "#ed7953"
             ],
             [
              0.7777777777777778,
              "#fb9f3a"
             ],
             [
              0.8888888888888888,
              "#fdca26"
             ],
             [
              1,
              "#f0f921"
             ]
            ],
            "type": "heatmap"
           }
          ],
          "heatmapgl": [
           {
            "colorbar": {
             "outlinewidth": 0,
             "ticks": ""
            },
            "colorscale": [
             [
              0,
              "#0d0887"
             ],
             [
              0.1111111111111111,
              "#46039f"
             ],
             [
              0.2222222222222222,
              "#7201a8"
             ],
             [
              0.3333333333333333,
              "#9c179e"
             ],
             [
              0.4444444444444444,
              "#bd3786"
             ],
             [
              0.5555555555555556,
              "#d8576b"
             ],
             [
              0.6666666666666666,
              "#ed7953"
             ],
             [
              0.7777777777777778,
              "#fb9f3a"
             ],
             [
              0.8888888888888888,
              "#fdca26"
             ],
             [
              1,
              "#f0f921"
             ]
            ],
            "type": "heatmapgl"
           }
          ],
          "histogram": [
           {
            "marker": {
             "pattern": {
              "fillmode": "overlay",
              "size": 10,
              "solidity": 0.2
             }
            },
            "type": "histogram"
           }
          ],
          "histogram2d": [
           {
            "colorbar": {
             "outlinewidth": 0,
             "ticks": ""
            },
            "colorscale": [
             [
              0,
              "#0d0887"
             ],
             [
              0.1111111111111111,
              "#46039f"
             ],
             [
              0.2222222222222222,
              "#7201a8"
             ],
             [
              0.3333333333333333,
              "#9c179e"
             ],
             [
              0.4444444444444444,
              "#bd3786"
             ],
             [
              0.5555555555555556,
              "#d8576b"
             ],
             [
              0.6666666666666666,
              "#ed7953"
             ],
             [
              0.7777777777777778,
              "#fb9f3a"
             ],
             [
              0.8888888888888888,
              "#fdca26"
             ],
             [
              1,
              "#f0f921"
             ]
            ],
            "type": "histogram2d"
           }
          ],
          "histogram2dcontour": [
           {
            "colorbar": {
             "outlinewidth": 0,
             "ticks": ""
            },
            "colorscale": [
             [
              0,
              "#0d0887"
             ],
             [
              0.1111111111111111,
              "#46039f"
             ],
             [
              0.2222222222222222,
              "#7201a8"
             ],
             [
              0.3333333333333333,
              "#9c179e"
             ],
             [
              0.4444444444444444,
              "#bd3786"
             ],
             [
              0.5555555555555556,
              "#d8576b"
             ],
             [
              0.6666666666666666,
              "#ed7953"
             ],
             [
              0.7777777777777778,
              "#fb9f3a"
             ],
             [
              0.8888888888888888,
              "#fdca26"
             ],
             [
              1,
              "#f0f921"
             ]
            ],
            "type": "histogram2dcontour"
           }
          ],
          "mesh3d": [
           {
            "colorbar": {
             "outlinewidth": 0,
             "ticks": ""
            },
            "type": "mesh3d"
           }
          ],
          "parcoords": [
           {
            "line": {
             "colorbar": {
              "outlinewidth": 0,
              "ticks": ""
             }
            },
            "type": "parcoords"
           }
          ],
          "pie": [
           {
            "automargin": true,
            "type": "pie"
           }
          ],
          "scatter": [
           {
            "fillpattern": {
             "fillmode": "overlay",
             "size": 10,
             "solidity": 0.2
            },
            "type": "scatter"
           }
          ],
          "scatter3d": [
           {
            "line": {
             "colorbar": {
              "outlinewidth": 0,
              "ticks": ""
             }
            },
            "marker": {
             "colorbar": {
              "outlinewidth": 0,
              "ticks": ""
             }
            },
            "type": "scatter3d"
           }
          ],
          "scattercarpet": [
           {
            "marker": {
             "colorbar": {
              "outlinewidth": 0,
              "ticks": ""
             }
            },
            "type": "scattercarpet"
           }
          ],
          "scattergeo": [
           {
            "marker": {
             "colorbar": {
              "outlinewidth": 0,
              "ticks": ""
             }
            },
            "type": "scattergeo"
           }
          ],
          "scattergl": [
           {
            "marker": {
             "colorbar": {
              "outlinewidth": 0,
              "ticks": ""
             }
            },
            "type": "scattergl"
           }
          ],
          "scattermapbox": [
           {
            "marker": {
             "colorbar": {
              "outlinewidth": 0,
              "ticks": ""
             }
            },
            "type": "scattermapbox"
           }
          ],
          "scatterpolar": [
           {
            "marker": {
             "colorbar": {
              "outlinewidth": 0,
              "ticks": ""
             }
            },
            "type": "scatterpolar"
           }
          ],
          "scatterpolargl": [
           {
            "marker": {
             "colorbar": {
              "outlinewidth": 0,
              "ticks": ""
             }
            },
            "type": "scatterpolargl"
           }
          ],
          "scatterternary": [
           {
            "marker": {
             "colorbar": {
              "outlinewidth": 0,
              "ticks": ""
             }
            },
            "type": "scatterternary"
           }
          ],
          "surface": [
           {
            "colorbar": {
             "outlinewidth": 0,
             "ticks": ""
            },
            "colorscale": [
             [
              0,
              "#0d0887"
             ],
             [
              0.1111111111111111,
              "#46039f"
             ],
             [
              0.2222222222222222,
              "#7201a8"
             ],
             [
              0.3333333333333333,
              "#9c179e"
             ],
             [
              0.4444444444444444,
              "#bd3786"
             ],
             [
              0.5555555555555556,
              "#d8576b"
             ],
             [
              0.6666666666666666,
              "#ed7953"
             ],
             [
              0.7777777777777778,
              "#fb9f3a"
             ],
             [
              0.8888888888888888,
              "#fdca26"
             ],
             [
              1,
              "#f0f921"
             ]
            ],
            "type": "surface"
           }
          ],
          "table": [
           {
            "cells": {
             "fill": {
              "color": "#EBF0F8"
             },
             "line": {
              "color": "white"
             }
            },
            "header": {
             "fill": {
              "color": "#C8D4E3"
             },
             "line": {
              "color": "white"
             }
            },
            "type": "table"
           }
          ]
         },
         "layout": {
          "annotationdefaults": {
           "arrowcolor": "#2a3f5f",
           "arrowhead": 0,
           "arrowwidth": 1
          },
          "autotypenumbers": "strict",
          "coloraxis": {
           "colorbar": {
            "outlinewidth": 0,
            "ticks": ""
           }
          },
          "colorscale": {
           "diverging": [
            [
             0,
             "#8e0152"
            ],
            [
             0.1,
             "#c51b7d"
            ],
            [
             0.2,
             "#de77ae"
            ],
            [
             0.3,
             "#f1b6da"
            ],
            [
             0.4,
             "#fde0ef"
            ],
            [
             0.5,
             "#f7f7f7"
            ],
            [
             0.6,
             "#e6f5d0"
            ],
            [
             0.7,
             "#b8e186"
            ],
            [
             0.8,
             "#7fbc41"
            ],
            [
             0.9,
             "#4d9221"
            ],
            [
             1,
             "#276419"
            ]
           ],
           "sequential": [
            [
             0,
             "#0d0887"
            ],
            [
             0.1111111111111111,
             "#46039f"
            ],
            [
             0.2222222222222222,
             "#7201a8"
            ],
            [
             0.3333333333333333,
             "#9c179e"
            ],
            [
             0.4444444444444444,
             "#bd3786"
            ],
            [
             0.5555555555555556,
             "#d8576b"
            ],
            [
             0.6666666666666666,
             "#ed7953"
            ],
            [
             0.7777777777777778,
             "#fb9f3a"
            ],
            [
             0.8888888888888888,
             "#fdca26"
            ],
            [
             1,
             "#f0f921"
            ]
           ],
           "sequentialminus": [
            [
             0,
             "#0d0887"
            ],
            [
             0.1111111111111111,
             "#46039f"
            ],
            [
             0.2222222222222222,
             "#7201a8"
            ],
            [
             0.3333333333333333,
             "#9c179e"
            ],
            [
             0.4444444444444444,
             "#bd3786"
            ],
            [
             0.5555555555555556,
             "#d8576b"
            ],
            [
             0.6666666666666666,
             "#ed7953"
            ],
            [
             0.7777777777777778,
             "#fb9f3a"
            ],
            [
             0.8888888888888888,
             "#fdca26"
            ],
            [
             1,
             "#f0f921"
            ]
           ]
          },
          "colorway": [
           "#636efa",
           "#EF553B",
           "#00cc96",
           "#ab63fa",
           "#FFA15A",
           "#19d3f3",
           "#FF6692",
           "#B6E880",
           "#FF97FF",
           "#FECB52"
          ],
          "font": {
           "color": "#2a3f5f"
          },
          "geo": {
           "bgcolor": "white",
           "lakecolor": "white",
           "landcolor": "#E5ECF6",
           "showlakes": true,
           "showland": true,
           "subunitcolor": "white"
          },
          "hoverlabel": {
           "align": "left"
          },
          "hovermode": "closest",
          "mapbox": {
           "style": "light"
          },
          "paper_bgcolor": "white",
          "plot_bgcolor": "#E5ECF6",
          "polar": {
           "angularaxis": {
            "gridcolor": "white",
            "linecolor": "white",
            "ticks": ""
           },
           "bgcolor": "#E5ECF6",
           "radialaxis": {
            "gridcolor": "white",
            "linecolor": "white",
            "ticks": ""
           }
          },
          "scene": {
           "xaxis": {
            "backgroundcolor": "#E5ECF6",
            "gridcolor": "white",
            "gridwidth": 2,
            "linecolor": "white",
            "showbackground": true,
            "ticks": "",
            "zerolinecolor": "white"
           },
           "yaxis": {
            "backgroundcolor": "#E5ECF6",
            "gridcolor": "white",
            "gridwidth": 2,
            "linecolor": "white",
            "showbackground": true,
            "ticks": "",
            "zerolinecolor": "white"
           },
           "zaxis": {
            "backgroundcolor": "#E5ECF6",
            "gridcolor": "white",
            "gridwidth": 2,
            "linecolor": "white",
            "showbackground": true,
            "ticks": "",
            "zerolinecolor": "white"
           }
          },
          "shapedefaults": {
           "line": {
            "color": "#2a3f5f"
           }
          },
          "ternary": {
           "aaxis": {
            "gridcolor": "white",
            "linecolor": "white",
            "ticks": ""
           },
           "baxis": {
            "gridcolor": "white",
            "linecolor": "white",
            "ticks": ""
           },
           "bgcolor": "#E5ECF6",
           "caxis": {
            "gridcolor": "white",
            "linecolor": "white",
            "ticks": ""
           }
          },
          "title": {
           "x": 0.05
          },
          "xaxis": {
           "automargin": true,
           "gridcolor": "white",
           "linecolor": "white",
           "ticks": "",
           "title": {
            "standoff": 15
           },
           "zerolinecolor": "white",
           "zerolinewidth": 2
          },
          "yaxis": {
           "automargin": true,
           "gridcolor": "white",
           "linecolor": "white",
           "ticks": "",
           "title": {
            "standoff": 15
           },
           "zerolinecolor": "white",
           "zerolinewidth": 2
          }
         }
        },
        "title": {
         "text": "3D Scatter Plot: Population, Literacy Rate, and Workforce Participation in Maharashtra"
        }
       }
      }
     },
     "metadata": {},
     "output_type": "display_data"
    }
   ],
   "source": [
    "# 3D Chart - Population, Literate, and Workers\n",
    "# Create a 3D scatter plot\n",
    "fig = px.scatter_3d(\n",
    "    df,\n",
    "    x=\"Population\",\n",
    "    y=\"Literate\",\n",
    "    z=\"Workers\",\n",
    "    color=\"District name\",\n",
    "    title=\"3D Scatter Plot: Population, Literacy Rate, and Workforce Participation in Maharashtra\",\n",
    "    labels={\n",
    "        \"Population\": \"Total Population\",\n",
    "        \"Literate\": \"Number of Literate Individuals\",\n",
    "        \"Workers\": \"Number of Workers\",\n",
    "    },\n",
    ")\n",
    "\n",
    "# Update the layout for better visualization\n",
    "fig.update_layout(\n",
    "    scene=dict(\n",
    "        xaxis_title=\"Population\",\n",
    "        yaxis_title=\"Literate Individuals\",\n",
    "        zaxis_title=\"Workers\",\n",
    "    ),\n",
    "    margin=dict(l=0, r=0, b=0, t=40),\n",
    ")\n",
    "\n",
    "# Show the plot\n",
    "fig.show()"
   ]
  },
  {
   "cell_type": "markdown",
   "metadata": {},
   "source": [
    "**Observation:**\n",
    "- The 3D scatter plot reveals several key insights:\n",
    "- Districts with higher populations tend to have higher literacy rates, suggesting that larger districts may have better access to educational resources.\n",
    "- There is also a positive correlation between the number of workers and both population size and literacy rates. Districts with more literate individuals generally have higher workforce participation, indicating that education plays a crucial role in employment.\n",
    "- Some districts deviate from the general trend, indicating that other factors, such as economic development, access to jobs, or regional policies, may also play a significant role in shaping these outcomes."
   ]
  },
  {
   "cell_type": "markdown",
   "metadata": {},
   "source": [
    "#### 3.6 Jitter Plot"
   ]
  },
  {
   "cell_type": "code",
   "execution_count": 12,
   "metadata": {},
   "outputs": [
    {
     "data": {
      "application/vnd.plotly.v1+json": {
       "config": {
        "plotlyServerURL": "https://plot.ly"
       },
       "data": [
        {
         "marker": {
          "size": 8
         },
         "mode": "markers",
         "name": "Below_Primary_Education",
         "text": [
          "Nandurbar",
          "Dhule",
          "Jalgaon",
          "Buldana",
          "Akola",
          "Washim",
          "Amravati",
          "Wardha",
          "Nagpur",
          "Bhandara",
          "Gondiya",
          "Gadchiroli",
          "Chandrapur",
          "Yavatmal",
          "Nanded",
          "Hingoli",
          "Parbhani",
          "Jalna",
          "Aurangabad",
          "Nashik",
          "Thane",
          "Mumbai Suburban",
          "Mumbai",
          "Raigarh",
          "Pune",
          "Ahmadnagar",
          "Bid",
          "Latur",
          "Osmanabad",
          "Solapur",
          "Satara",
          "Ratnagiri",
          "Sindhudurg",
          "Kolhapur",
          "Sangli"
         ],
         "type": "scatter",
         "x": [
          1648295.0806971332,
          2050861.9963488053,
          4229917.061262353,
          2586258.003025046,
          1813905.981976805,
          1197160.086052074,
          2888444.9599506375,
          1300774.0069175188,
          4653570.041115736,
          1200333.9465108258,
          1322507.003199129,
          1072941.9821984353,
          2204306.9369283416,
          2772347.9202052318,
          3361292.014802892,
          1177344.9593224213,
          1836086.0960271752,
          1959046.094678875,
          3701282.049913923,
          6107186.99897814,
          11060148.03823663,
          9356961.998658778,
          3085410.9570342554,
          2634199.9339387026,
          9429408.070278274,
          4543159.093650614,
          2585048.991692571,
          2454196.0165823405,
          1657576.0400517182,
          4317756.022418005,
          3003740.9249901134,
          1615068.9543630965,
          849650.9194941114,
          3876000.9670443567,
          2822143.0586976055
         ],
         "y": [
          166664,
          200494,
          482462,
          315408,
          231841,
          166509,
          326195,
          140470,
          325084,
          115150,
          138457,
          108850,
          243773,
          391944,
          416869,
          175736,
          229217,
          271061,
          381695,
          544346,
          712171,
          512268,
          118967,
          231263,
          559840,
          483996,
          309704,
          268627,
          183972,
          390337,
          288427,
          163025,
          86480,
          321457,
          208511
         ]
        },
        {
         "marker": {
          "size": 8
         },
         "mode": "markers",
         "name": "Primary_Education",
         "text": [
          "Nandurbar",
          "Dhule",
          "Jalgaon",
          "Buldana",
          "Akola",
          "Washim",
          "Amravati",
          "Wardha",
          "Nagpur",
          "Bhandara",
          "Gondiya",
          "Gadchiroli",
          "Chandrapur",
          "Yavatmal",
          "Nanded",
          "Hingoli",
          "Parbhani",
          "Jalna",
          "Aurangabad",
          "Nashik",
          "Thane",
          "Mumbai Suburban",
          "Mumbai",
          "Raigarh",
          "Pune",
          "Ahmadnagar",
          "Bid",
          "Latur",
          "Osmanabad",
          "Solapur",
          "Satara",
          "Ratnagiri",
          "Sindhudurg",
          "Kolhapur",
          "Sangli"
         ],
         "type": "scatter",
         "x": [
          1648295.0978002753,
          2050861.9734289641,
          4229916.965332628,
          2586258.0152425724,
          1813905.9221157604,
          1197159.9163828928,
          2888445.0446602064,
          1300773.9036707957,
          4653570.081192212,
          1200333.9827732856,
          1322506.9819779082,
          1072942.05749727,
          2204307.0282262913,
          2772347.934346386,
          3361292.015170559,
          1177345.0624934984,
          1836085.9659361884,
          1959045.9529545377,
          3701282.0129389507,
          6107186.92781895,
          11060147.998381702,
          9356962.08079567,
          3085410.9901523176,
          2634200.064364837,
          9429407.955354445,
          4543159.090725659,
          2585049.027632595,
          2454195.9033724824,
          1657576.0149543379,
          4317755.927211422,
          3003740.921250818,
          1615069.0293441718,
          849651.0240352617,
          3876001.0348025593,
          2822142.9899733784
         ],
         "y": [
          218718,
          323641,
          735730,
          457067,
          328367,
          238985,
          468853,
          186781,
          666693,
          187870,
          237888,
          145767,
          316192,
          562739,
          691348,
          266649,
          396713,
          422207,
          686271,
          1038955,
          1530916,
          1140066,
          399792,
          407662,
          1234549,
          833691,
          436446,
          423711,
          300965,
          788150,
          495822,
          378554,
          165284,
          622362,
          507318
         ]
        },
        {
         "marker": {
          "size": 8
         },
         "mode": "markers",
         "name": "Middle_Education",
         "text": [
          "Nandurbar",
          "Dhule",
          "Jalgaon",
          "Buldana",
          "Akola",
          "Washim",
          "Amravati",
          "Wardha",
          "Nagpur",
          "Bhandara",
          "Gondiya",
          "Gadchiroli",
          "Chandrapur",
          "Yavatmal",
          "Nanded",
          "Hingoli",
          "Parbhani",
          "Jalna",
          "Aurangabad",
          "Nashik",
          "Thane",
          "Mumbai Suburban",
          "Mumbai",
          "Raigarh",
          "Pune",
          "Ahmadnagar",
          "Bid",
          "Latur",
          "Osmanabad",
          "Solapur",
          "Satara",
          "Ratnagiri",
          "Sindhudurg",
          "Kolhapur",
          "Sangli"
         ],
         "type": "scatter",
         "x": [
          1648295.0226326038,
          2050862.000260623,
          4229916.964694288,
          2586258.0515976413,
          1813906.0081463647,
          1197159.9636980076,
          2888444.9074692656,
          1300774.099810936,
          4653570.0950226765,
          1200334.002871359,
          1322506.9537328968,
          1072941.9019850092,
          2204307.0050876755,
          2772348.095744016,
          3361292.040428365,
          1177344.984086327,
          1836085.9522884993,
          1959045.9787575568,
          3701281.924990058,
          6107187.092049334,
          11060147.945135178,
          9356961.941610206,
          3085411.082855126,
          2634200.05858313,
          9429407.991180545,
          4543158.987400055,
          2585049.0592096476,
          2454195.966916252,
          1657575.9960592233,
          4317755.922288208,
          3003740.947604765,
          1615069.0312134095,
          849651.0258173735,
          3876001.029969305,
          2822142.9138501743
         ],
         "y": [
          121404,
          208571,
          532587,
          400342,
          275264,
          160331,
          463051,
          201471,
          812381,
          208902,
          231153,
          139482,
          337320,
          382001,
          368723,
          127246,
          204316,
          218189,
          422964,
          851714,
          1588196,
          1628031,
          603937,
          335886,
          1383055,
          580959,
          280800,
          296910,
          201646,
          535848,
          407977,
          269872,
          134734,
          487227,
          459156
         ]
        },
        {
         "marker": {
          "size": 8
         },
         "mode": "markers",
         "name": "Secondary_Education",
         "text": [
          "Nandurbar",
          "Dhule",
          "Jalgaon",
          "Buldana",
          "Akola",
          "Washim",
          "Amravati",
          "Wardha",
          "Nagpur",
          "Bhandara",
          "Gondiya",
          "Gadchiroli",
          "Chandrapur",
          "Yavatmal",
          "Nanded",
          "Hingoli",
          "Parbhani",
          "Jalna",
          "Aurangabad",
          "Nashik",
          "Thane",
          "Mumbai Suburban",
          "Mumbai",
          "Raigarh",
          "Pune",
          "Ahmadnagar",
          "Bid",
          "Latur",
          "Osmanabad",
          "Solapur",
          "Satara",
          "Ratnagiri",
          "Sindhudurg",
          "Kolhapur",
          "Sangli"
         ],
         "type": "scatter",
         "x": [
          1648294.9446672979,
          2050861.9310276937,
          4229916.989250545,
          2586257.9810137763,
          1813906.033196038,
          1197159.9711053886,
          2888445.069262171,
          1300773.9350567686,
          4653570.074178487,
          1200333.9508847466,
          1322507.0016694064,
          1072941.9359813149,
          2204307.0220945515,
          2772347.900366809,
          3361291.94605459,
          1177345.087561046,
          1836085.9650676162,
          1959046.0262935667,
          3701281.94805867,
          6107186.9147956325,
          11060147.968031114,
          9356961.943821909,
          3085411.0615465753,
          2634199.9251126,
          9429408.053171208,
          4543159.007496754,
          2585049.0076835295,
          2454195.995661537,
          1657576.0720741877,
          4317756.022132811,
          3003741.0177676193,
          1615068.9597088783,
          849650.9535302517,
          3876001.020489337,
          2822142.9332134416
         ],
         "y": [
          160961,
          290656,
          627198,
          406379,
          291391,
          162762,
          525116,
          225208,
          790443,
          204435,
          225595,
          140345,
          351610,
          389924,
          416761,
          136075,
          229103,
          225331,
          537936,
          830070,
          1751284,
          1914168,
          665263,
          441072,
          1414563,
          745895,
          316758,
          380344,
          260772,
          643327,
          556706,
          247257,
          175070,
          698604,
          453404
         ]
        },
        {
         "marker": {
          "size": 8
         },
         "mode": "markers",
         "name": "Higher_Education",
         "text": [
          "Nandurbar",
          "Dhule",
          "Jalgaon",
          "Buldana",
          "Akola",
          "Washim",
          "Amravati",
          "Wardha",
          "Nagpur",
          "Bhandara",
          "Gondiya",
          "Gadchiroli",
          "Chandrapur",
          "Yavatmal",
          "Nanded",
          "Hingoli",
          "Parbhani",
          "Jalna",
          "Aurangabad",
          "Nashik",
          "Thane",
          "Mumbai Suburban",
          "Mumbai",
          "Raigarh",
          "Pune",
          "Ahmadnagar",
          "Bid",
          "Latur",
          "Osmanabad",
          "Solapur",
          "Satara",
          "Ratnagiri",
          "Sindhudurg",
          "Kolhapur",
          "Sangli"
         ],
         "type": "scatter",
         "x": [
          1648294.9456590514,
          2050861.9031340997,
          4229916.948837655,
          2586258.0822901814,
          1813906.0718128479,
          1197160.0200188963,
          2888444.9174132776,
          1300774.0333185722,
          4653569.942057251,
          1200334.0273530588,
          1322507.0042829637,
          1072942.036584759,
          2204307.090664064,
          2772347.98094984,
          3361291.9782941197,
          1177344.9867934848,
          1836086.0371759513,
          1959046.0837917477,
          3701281.9588073883,
          6107187.086430757,
          11060148.088875346,
          9356962.063130325,
          3085411.0815036963,
          2634200.0420042058,
          9429408.053587701,
          4543158.988433816,
          2585049.0923166843,
          2454195.9787869724,
          1657576.0258280737,
          4317755.9613701,
          3003740.911228546,
          1615068.9984604775,
          849651.040382124,
          3876000.911565731,
          2822143.074477686
         ],
         "y": [
          113019,
          182739,
          375643,
          228266,
          205723,
          116032,
          346876,
          158055,
          542228,
          153749,
          159570,
          95911,
          241179,
          245819,
          255650,
          74544,
          116041,
          120715,
          310762,
          485052,
          1080597,
          1091433,
          378764,
          221410,
          867256,
          411908,
          206530,
          224998,
          139479,
          328020,
          299993,
          111600,
          89023,
          395234,
          244804
         ]
        },
        {
         "marker": {
          "size": 8
         },
         "mode": "markers",
         "name": "Graduate_Education",
         "text": [
          "Nandurbar",
          "Dhule",
          "Jalgaon",
          "Buldana",
          "Akola",
          "Washim",
          "Amravati",
          "Wardha",
          "Nagpur",
          "Bhandara",
          "Gondiya",
          "Gadchiroli",
          "Chandrapur",
          "Yavatmal",
          "Nanded",
          "Hingoli",
          "Parbhani",
          "Jalna",
          "Aurangabad",
          "Nashik",
          "Thane",
          "Mumbai Suburban",
          "Mumbai",
          "Raigarh",
          "Pune",
          "Ahmadnagar",
          "Bid",
          "Latur",
          "Osmanabad",
          "Solapur",
          "Satara",
          "Ratnagiri",
          "Sindhudurg",
          "Kolhapur",
          "Sangli"
         ],
         "type": "scatter",
         "x": [
          1648295.0694983113,
          2050862.0681088096,
          4229917.033121929,
          2586257.9725818867,
          1813906.0833961936,
          1197159.924004868,
          2888445.0275856657,
          1300773.973236152,
          4653569.938125297,
          1200334.001973736,
          1322507.0837681238,
          1072942.0674948639,
          2204307.094596359,
          2772347.9583658674,
          3361291.973888139,
          1177345.0646300507,
          1836085.972917615,
          1959045.9644928332,
          3701281.97020707,
          6107186.983715881,
          11060148.050534759,
          9356961.912028722,
          3085411.0998282046,
          2634200.0666966797,
          9429407.916628528,
          4543159.068747487,
          2585048.973652086,
          2454195.9152737944,
          1657575.9664146202,
          4317756.062050056,
          3003740.916856408,
          1615069.0748972339,
          849650.9336858977,
          3876001.0890152697,
          2822143.0235001165
         ],
         "y": [
          58461,
          114931,
          229987,
          113783,
          112574,
          47865,
          203273,
          93772,
          493236,
          67061,
          57923,
          35809,
          126488,
          123074,
          156225,
          38698,
          81333,
          64060,
          253253,
          373100,
          961719,
          1183117,
          343374,
          204507,
          1086650,
          315842,
          129996,
          153256,
          96847,
          236302,
          243457,
          65700,
          48418,
          335413,
          214003
         ]
        },
        {
         "marker": {
          "size": 8
         },
         "mode": "markers",
         "name": "Other_Education",
         "text": [
          "Nandurbar",
          "Dhule",
          "Jalgaon",
          "Buldana",
          "Akola",
          "Washim",
          "Amravati",
          "Wardha",
          "Nagpur",
          "Bhandara",
          "Gondiya",
          "Gadchiroli",
          "Chandrapur",
          "Yavatmal",
          "Nanded",
          "Hingoli",
          "Parbhani",
          "Jalna",
          "Aurangabad",
          "Nashik",
          "Thane",
          "Mumbai Suburban",
          "Mumbai",
          "Raigarh",
          "Pune",
          "Ahmadnagar",
          "Bid",
          "Latur",
          "Osmanabad",
          "Solapur",
          "Satara",
          "Ratnagiri",
          "Sindhudurg",
          "Kolhapur",
          "Sangli"
         ],
         "type": "scatter",
         "x": [
          1648294.9349038235,
          2050862.0324701627,
          4229916.929350771,
          2586257.9134652438,
          1813906.0220831216,
          1197160.0056264997,
          2888445.093061382,
          1300773.9113823674,
          4653570.083002249,
          1200334.0640742772,
          1322506.9163882043,
          1072942.0965473454,
          2204307.0000454234,
          2772348.033943262,
          3361291.908932896,
          1177345.0632123575,
          1836086.005287076,
          1959045.9204312575,
          3701281.993333007,
          6107186.9415641595,
          11060147.984714326,
          9356962.04518421,
          3085410.9869219665,
          2634199.9391604494,
          9429407.961187778,
          4543159.091323672,
          2585049.059927114,
          2454196.019439241,
          1657575.9238213866,
          4317756.0551099,
          3003740.937370936,
          1615068.9768220845,
          849651.0650992932,
          3876001.02354526,
          2822142.9954079664
         ],
         "y": [
          9248,
          14526,
          31008,
          19619,
          15157,
          7294,
          16148,
          7017,
          73475,
          12452,
          9620,
          4154,
          15040,
          21889,
          21729,
          5932,
          9703,
          9724,
          19101,
          97219,
          114453,
          189063,
          57044,
          19940,
          190336,
          32304,
          11438,
          18106,
          9913,
          29051,
          20884,
          15429,
          3451,
          40828,
          36983
         ]
        }
       ],
       "layout": {
        "legend": {
         "title": {
          "text": "Education Level"
         }
        },
        "template": {
         "data": {
          "bar": [
           {
            "error_x": {
             "color": "#2a3f5f"
            },
            "error_y": {
             "color": "#2a3f5f"
            },
            "marker": {
             "line": {
              "color": "#E5ECF6",
              "width": 0.5
             },
             "pattern": {
              "fillmode": "overlay",
              "size": 10,
              "solidity": 0.2
             }
            },
            "type": "bar"
           }
          ],
          "barpolar": [
           {
            "marker": {
             "line": {
              "color": "#E5ECF6",
              "width": 0.5
             },
             "pattern": {
              "fillmode": "overlay",
              "size": 10,
              "solidity": 0.2
             }
            },
            "type": "barpolar"
           }
          ],
          "carpet": [
           {
            "aaxis": {
             "endlinecolor": "#2a3f5f",
             "gridcolor": "white",
             "linecolor": "white",
             "minorgridcolor": "white",
             "startlinecolor": "#2a3f5f"
            },
            "baxis": {
             "endlinecolor": "#2a3f5f",
             "gridcolor": "white",
             "linecolor": "white",
             "minorgridcolor": "white",
             "startlinecolor": "#2a3f5f"
            },
            "type": "carpet"
           }
          ],
          "choropleth": [
           {
            "colorbar": {
             "outlinewidth": 0,
             "ticks": ""
            },
            "type": "choropleth"
           }
          ],
          "contour": [
           {
            "colorbar": {
             "outlinewidth": 0,
             "ticks": ""
            },
            "colorscale": [
             [
              0,
              "#0d0887"
             ],
             [
              0.1111111111111111,
              "#46039f"
             ],
             [
              0.2222222222222222,
              "#7201a8"
             ],
             [
              0.3333333333333333,
              "#9c179e"
             ],
             [
              0.4444444444444444,
              "#bd3786"
             ],
             [
              0.5555555555555556,
              "#d8576b"
             ],
             [
              0.6666666666666666,
              "#ed7953"
             ],
             [
              0.7777777777777778,
              "#fb9f3a"
             ],
             [
              0.8888888888888888,
              "#fdca26"
             ],
             [
              1,
              "#f0f921"
             ]
            ],
            "type": "contour"
           }
          ],
          "contourcarpet": [
           {
            "colorbar": {
             "outlinewidth": 0,
             "ticks": ""
            },
            "type": "contourcarpet"
           }
          ],
          "heatmap": [
           {
            "colorbar": {
             "outlinewidth": 0,
             "ticks": ""
            },
            "colorscale": [
             [
              0,
              "#0d0887"
             ],
             [
              0.1111111111111111,
              "#46039f"
             ],
             [
              0.2222222222222222,
              "#7201a8"
             ],
             [
              0.3333333333333333,
              "#9c179e"
             ],
             [
              0.4444444444444444,
              "#bd3786"
             ],
             [
              0.5555555555555556,
              "#d8576b"
             ],
             [
              0.6666666666666666,
              "#ed7953"
             ],
             [
              0.7777777777777778,
              "#fb9f3a"
             ],
             [
              0.8888888888888888,
              "#fdca26"
             ],
             [
              1,
              "#f0f921"
             ]
            ],
            "type": "heatmap"
           }
          ],
          "heatmapgl": [
           {
            "colorbar": {
             "outlinewidth": 0,
             "ticks": ""
            },
            "colorscale": [
             [
              0,
              "#0d0887"
             ],
             [
              0.1111111111111111,
              "#46039f"
             ],
             [
              0.2222222222222222,
              "#7201a8"
             ],
             [
              0.3333333333333333,
              "#9c179e"
             ],
             [
              0.4444444444444444,
              "#bd3786"
             ],
             [
              0.5555555555555556,
              "#d8576b"
             ],
             [
              0.6666666666666666,
              "#ed7953"
             ],
             [
              0.7777777777777778,
              "#fb9f3a"
             ],
             [
              0.8888888888888888,
              "#fdca26"
             ],
             [
              1,
              "#f0f921"
             ]
            ],
            "type": "heatmapgl"
           }
          ],
          "histogram": [
           {
            "marker": {
             "pattern": {
              "fillmode": "overlay",
              "size": 10,
              "solidity": 0.2
             }
            },
            "type": "histogram"
           }
          ],
          "histogram2d": [
           {
            "colorbar": {
             "outlinewidth": 0,
             "ticks": ""
            },
            "colorscale": [
             [
              0,
              "#0d0887"
             ],
             [
              0.1111111111111111,
              "#46039f"
             ],
             [
              0.2222222222222222,
              "#7201a8"
             ],
             [
              0.3333333333333333,
              "#9c179e"
             ],
             [
              0.4444444444444444,
              "#bd3786"
             ],
             [
              0.5555555555555556,
              "#d8576b"
             ],
             [
              0.6666666666666666,
              "#ed7953"
             ],
             [
              0.7777777777777778,
              "#fb9f3a"
             ],
             [
              0.8888888888888888,
              "#fdca26"
             ],
             [
              1,
              "#f0f921"
             ]
            ],
            "type": "histogram2d"
           }
          ],
          "histogram2dcontour": [
           {
            "colorbar": {
             "outlinewidth": 0,
             "ticks": ""
            },
            "colorscale": [
             [
              0,
              "#0d0887"
             ],
             [
              0.1111111111111111,
              "#46039f"
             ],
             [
              0.2222222222222222,
              "#7201a8"
             ],
             [
              0.3333333333333333,
              "#9c179e"
             ],
             [
              0.4444444444444444,
              "#bd3786"
             ],
             [
              0.5555555555555556,
              "#d8576b"
             ],
             [
              0.6666666666666666,
              "#ed7953"
             ],
             [
              0.7777777777777778,
              "#fb9f3a"
             ],
             [
              0.8888888888888888,
              "#fdca26"
             ],
             [
              1,
              "#f0f921"
             ]
            ],
            "type": "histogram2dcontour"
           }
          ],
          "mesh3d": [
           {
            "colorbar": {
             "outlinewidth": 0,
             "ticks": ""
            },
            "type": "mesh3d"
           }
          ],
          "parcoords": [
           {
            "line": {
             "colorbar": {
              "outlinewidth": 0,
              "ticks": ""
             }
            },
            "type": "parcoords"
           }
          ],
          "pie": [
           {
            "automargin": true,
            "type": "pie"
           }
          ],
          "scatter": [
           {
            "fillpattern": {
             "fillmode": "overlay",
             "size": 10,
             "solidity": 0.2
            },
            "type": "scatter"
           }
          ],
          "scatter3d": [
           {
            "line": {
             "colorbar": {
              "outlinewidth": 0,
              "ticks": ""
             }
            },
            "marker": {
             "colorbar": {
              "outlinewidth": 0,
              "ticks": ""
             }
            },
            "type": "scatter3d"
           }
          ],
          "scattercarpet": [
           {
            "marker": {
             "colorbar": {
              "outlinewidth": 0,
              "ticks": ""
             }
            },
            "type": "scattercarpet"
           }
          ],
          "scattergeo": [
           {
            "marker": {
             "colorbar": {
              "outlinewidth": 0,
              "ticks": ""
             }
            },
            "type": "scattergeo"
           }
          ],
          "scattergl": [
           {
            "marker": {
             "colorbar": {
              "outlinewidth": 0,
              "ticks": ""
             }
            },
            "type": "scattergl"
           }
          ],
          "scattermapbox": [
           {
            "marker": {
             "colorbar": {
              "outlinewidth": 0,
              "ticks": ""
             }
            },
            "type": "scattermapbox"
           }
          ],
          "scatterpolar": [
           {
            "marker": {
             "colorbar": {
              "outlinewidth": 0,
              "ticks": ""
             }
            },
            "type": "scatterpolar"
           }
          ],
          "scatterpolargl": [
           {
            "marker": {
             "colorbar": {
              "outlinewidth": 0,
              "ticks": ""
             }
            },
            "type": "scatterpolargl"
           }
          ],
          "scatterternary": [
           {
            "marker": {
             "colorbar": {
              "outlinewidth": 0,
              "ticks": ""
             }
            },
            "type": "scatterternary"
           }
          ],
          "surface": [
           {
            "colorbar": {
             "outlinewidth": 0,
             "ticks": ""
            },
            "colorscale": [
             [
              0,
              "#0d0887"
             ],
             [
              0.1111111111111111,
              "#46039f"
             ],
             [
              0.2222222222222222,
              "#7201a8"
             ],
             [
              0.3333333333333333,
              "#9c179e"
             ],
             [
              0.4444444444444444,
              "#bd3786"
             ],
             [
              0.5555555555555556,
              "#d8576b"
             ],
             [
              0.6666666666666666,
              "#ed7953"
             ],
             [
              0.7777777777777778,
              "#fb9f3a"
             ],
             [
              0.8888888888888888,
              "#fdca26"
             ],
             [
              1,
              "#f0f921"
             ]
            ],
            "type": "surface"
           }
          ],
          "table": [
           {
            "cells": {
             "fill": {
              "color": "#EBF0F8"
             },
             "line": {
              "color": "white"
             }
            },
            "header": {
             "fill": {
              "color": "#C8D4E3"
             },
             "line": {
              "color": "white"
             }
            },
            "type": "table"
           }
          ]
         },
         "layout": {
          "annotationdefaults": {
           "arrowcolor": "#2a3f5f",
           "arrowhead": 0,
           "arrowwidth": 1
          },
          "autotypenumbers": "strict",
          "coloraxis": {
           "colorbar": {
            "outlinewidth": 0,
            "ticks": ""
           }
          },
          "colorscale": {
           "diverging": [
            [
             0,
             "#8e0152"
            ],
            [
             0.1,
             "#c51b7d"
            ],
            [
             0.2,
             "#de77ae"
            ],
            [
             0.3,
             "#f1b6da"
            ],
            [
             0.4,
             "#fde0ef"
            ],
            [
             0.5,
             "#f7f7f7"
            ],
            [
             0.6,
             "#e6f5d0"
            ],
            [
             0.7,
             "#b8e186"
            ],
            [
             0.8,
             "#7fbc41"
            ],
            [
             0.9,
             "#4d9221"
            ],
            [
             1,
             "#276419"
            ]
           ],
           "sequential": [
            [
             0,
             "#0d0887"
            ],
            [
             0.1111111111111111,
             "#46039f"
            ],
            [
             0.2222222222222222,
             "#7201a8"
            ],
            [
             0.3333333333333333,
             "#9c179e"
            ],
            [
             0.4444444444444444,
             "#bd3786"
            ],
            [
             0.5555555555555556,
             "#d8576b"
            ],
            [
             0.6666666666666666,
             "#ed7953"
            ],
            [
             0.7777777777777778,
             "#fb9f3a"
            ],
            [
             0.8888888888888888,
             "#fdca26"
            ],
            [
             1,
             "#f0f921"
            ]
           ],
           "sequentialminus": [
            [
             0,
             "#0d0887"
            ],
            [
             0.1111111111111111,
             "#46039f"
            ],
            [
             0.2222222222222222,
             "#7201a8"
            ],
            [
             0.3333333333333333,
             "#9c179e"
            ],
            [
             0.4444444444444444,
             "#bd3786"
            ],
            [
             0.5555555555555556,
             "#d8576b"
            ],
            [
             0.6666666666666666,
             "#ed7953"
            ],
            [
             0.7777777777777778,
             "#fb9f3a"
            ],
            [
             0.8888888888888888,
             "#fdca26"
            ],
            [
             1,
             "#f0f921"
            ]
           ]
          },
          "colorway": [
           "#636efa",
           "#EF553B",
           "#00cc96",
           "#ab63fa",
           "#FFA15A",
           "#19d3f3",
           "#FF6692",
           "#B6E880",
           "#FF97FF",
           "#FECB52"
          ],
          "font": {
           "color": "#2a3f5f"
          },
          "geo": {
           "bgcolor": "white",
           "lakecolor": "white",
           "landcolor": "#E5ECF6",
           "showlakes": true,
           "showland": true,
           "subunitcolor": "white"
          },
          "hoverlabel": {
           "align": "left"
          },
          "hovermode": "closest",
          "mapbox": {
           "style": "light"
          },
          "paper_bgcolor": "white",
          "plot_bgcolor": "#E5ECF6",
          "polar": {
           "angularaxis": {
            "gridcolor": "white",
            "linecolor": "white",
            "ticks": ""
           },
           "bgcolor": "#E5ECF6",
           "radialaxis": {
            "gridcolor": "white",
            "linecolor": "white",
            "ticks": ""
           }
          },
          "scene": {
           "xaxis": {
            "backgroundcolor": "#E5ECF6",
            "gridcolor": "white",
            "gridwidth": 2,
            "linecolor": "white",
            "showbackground": true,
            "ticks": "",
            "zerolinecolor": "white"
           },
           "yaxis": {
            "backgroundcolor": "#E5ECF6",
            "gridcolor": "white",
            "gridwidth": 2,
            "linecolor": "white",
            "showbackground": true,
            "ticks": "",
            "zerolinecolor": "white"
           },
           "zaxis": {
            "backgroundcolor": "#E5ECF6",
            "gridcolor": "white",
            "gridwidth": 2,
            "linecolor": "white",
            "showbackground": true,
            "ticks": "",
            "zerolinecolor": "white"
           }
          },
          "shapedefaults": {
           "line": {
            "color": "#2a3f5f"
           }
          },
          "ternary": {
           "aaxis": {
            "gridcolor": "white",
            "linecolor": "white",
            "ticks": ""
           },
           "baxis": {
            "gridcolor": "white",
            "linecolor": "white",
            "ticks": ""
           },
           "bgcolor": "#E5ECF6",
           "caxis": {
            "gridcolor": "white",
            "linecolor": "white",
            "ticks": ""
           }
          },
          "title": {
           "x": 0.05
          },
          "xaxis": {
           "automargin": true,
           "gridcolor": "white",
           "linecolor": "white",
           "ticks": "",
           "title": {
            "standoff": 15
           },
           "zerolinecolor": "white",
           "zerolinewidth": 2
          },
          "yaxis": {
           "automargin": true,
           "gridcolor": "white",
           "linecolor": "white",
           "ticks": "",
           "title": {
            "standoff": 15
           },
           "zerolinecolor": "white",
           "zerolinewidth": 2
          }
         }
        },
        "title": {
         "text": "Jitter Plot: Education Levels vs. Population Across Districts in Maharashtra"
        },
        "xaxis": {
         "title": {
          "text": "Population"
         }
        },
        "yaxis": {
         "title": {
          "text": "Number of Individuals"
         }
        }
       }
      }
     },
     "metadata": {},
     "output_type": "display_data"
    }
   ],
   "source": [
    "# Prepare the data\n",
    "education_columns = [\n",
    "    \"Below_Primary_Education\",\n",
    "    \"Primary_Education\",\n",
    "    \"Middle_Education\",\n",
    "    \"Secondary_Education\",\n",
    "    \"Higher_Education\",\n",
    "    \"Graduate_Education\",\n",
    "    \"Other_Education\",\n",
    "]\n",
    "\n",
    "df2 = df[[\"District name\", \"Population\"] + education_columns]\n",
    "\n",
    "education_data = df2.melt(\n",
    "    id_vars=[\"District name\", \"Population\"],\n",
    "    value_vars=education_columns,\n",
    "    var_name=\"Education_Level\",\n",
    "    value_name=\"Count\",\n",
    ")\n",
    "\n",
    "# Add jitter to the population values\n",
    "jitter_strength = 0.1  # Adjust this value for more or less jitter\n",
    "education_data[\"Jittered_Population\"] = education_data[\n",
    "    \"Population\"\n",
    "] + np.random.uniform(-jitter_strength, jitter_strength, size=len(education_data))\n",
    "\n",
    "# Create the jitter plot\n",
    "fig = go.Figure()\n",
    "\n",
    "for education_level in education_columns:\n",
    "    subset = education_data[education_data[\"Education_Level\"] == education_level]\n",
    "    fig.add_trace(\n",
    "        go.Scatter(\n",
    "            x=subset[\"Jittered_Population\"],\n",
    "            y=subset[\"Count\"],\n",
    "            mode=\"markers\",\n",
    "            name=education_level,\n",
    "            text=subset[\"District name\"],\n",
    "            marker=dict(size=8),\n",
    "        )\n",
    "    )\n",
    "\n",
    "# Update the layout\n",
    "fig.update_layout(\n",
    "    title=\"Jitter Plot: Education Levels vs. Population Across Districts in Maharashtra\",\n",
    "    xaxis_title=\"Population\",\n",
    "    yaxis_title=\"Number of Individuals\",\n",
    "    legend_title=\"Education Level\",\n",
    ")\n",
    "\n",
    "# Show the plot\n",
    "fig.show()"
   ]
  },
  {
   "cell_type": "markdown",
   "metadata": {},
   "source": [
    "**Observation:**\n",
    "- The Jitter Plot provides several key insights into the distribution of education levels across districts in Maharashtra:\n",
    "- The plot reveals that primary and secondary education levels are prevalent across most districts, irrespective of population size. This indicates that foundational education is widespread, even in less populated districts.\n",
    "- Higher education levels, such as graduate education, are more concentrated in districts with larger populations. This suggests that access to advanced education is more limited in smaller or less populated districts, which may lack the necessary infrastructure or resources."
   ]
  },
  {
   "cell_type": "markdown",
   "metadata": {},
   "source": [
    "#### 3.7 Line Plot"
   ]
  },
  {
   "cell_type": "code",
   "execution_count": 13,
   "metadata": {},
   "outputs": [
    {
     "data": {
      "application/vnd.plotly.v1+json": {
       "config": {
        "plotlyServerURL": "https://plot.ly"
       },
       "data": [
        {
         "line": {
          "color": "blue"
         },
         "marker": {
          "color": "blue",
          "size": 8
         },
         "mode": "lines+markers",
         "name": "Literate Individuals",
         "type": "scatter",
         "x": [
          "Sindhudurg",
          "Gadchiroli",
          "Hingoli",
          "Washim",
          "Bhandara",
          "Nandurbar",
          "Gondiya",
          "Wardha",
          "Osmanabad",
          "Parbhani",
          "Jalna",
          "Ratnagiri",
          "Dhule",
          "Akola",
          "Chandrapur",
          "Latur",
          "Bid",
          "Buldana",
          "Raigarh",
          "Yavatmal",
          "Sangli",
          "Nanded",
          "Satara",
          "Amravati",
          "Aurangabad",
          "Mumbai",
          "Kolhapur",
          "Jalgaon",
          "Solapur",
          "Ahmadnagar",
          "Nagpur",
          "Nashik",
          "Pune",
          "Mumbai Suburban",
          "Thane"
         ],
         "y": [
          666067,
          708365,
          790743,
          869917,
          899860,
          906509,
          1004243,
          1019458,
          1137810,
          1157814,
          1195523,
          1199392,
          1293916,
          1411281,
          1578615,
          1650672,
          1718507,
          1879874,
          1939994,
          2022574,
          2049467,
          2189425,
          2225694,
          2251875,
          2503837,
          2509022,
          2825845,
          2891882,
          2910676,
          3151890,
          3673808,
          4345366,
          7171723,
          7575485,
          8227161
         ]
        }
       ],
       "layout": {
        "showlegend": true,
        "template": {
         "data": {
          "bar": [
           {
            "error_x": {
             "color": "#2a3f5f"
            },
            "error_y": {
             "color": "#2a3f5f"
            },
            "marker": {
             "line": {
              "color": "#E5ECF6",
              "width": 0.5
             },
             "pattern": {
              "fillmode": "overlay",
              "size": 10,
              "solidity": 0.2
             }
            },
            "type": "bar"
           }
          ],
          "barpolar": [
           {
            "marker": {
             "line": {
              "color": "#E5ECF6",
              "width": 0.5
             },
             "pattern": {
              "fillmode": "overlay",
              "size": 10,
              "solidity": 0.2
             }
            },
            "type": "barpolar"
           }
          ],
          "carpet": [
           {
            "aaxis": {
             "endlinecolor": "#2a3f5f",
             "gridcolor": "white",
             "linecolor": "white",
             "minorgridcolor": "white",
             "startlinecolor": "#2a3f5f"
            },
            "baxis": {
             "endlinecolor": "#2a3f5f",
             "gridcolor": "white",
             "linecolor": "white",
             "minorgridcolor": "white",
             "startlinecolor": "#2a3f5f"
            },
            "type": "carpet"
           }
          ],
          "choropleth": [
           {
            "colorbar": {
             "outlinewidth": 0,
             "ticks": ""
            },
            "type": "choropleth"
           }
          ],
          "contour": [
           {
            "colorbar": {
             "outlinewidth": 0,
             "ticks": ""
            },
            "colorscale": [
             [
              0,
              "#0d0887"
             ],
             [
              0.1111111111111111,
              "#46039f"
             ],
             [
              0.2222222222222222,
              "#7201a8"
             ],
             [
              0.3333333333333333,
              "#9c179e"
             ],
             [
              0.4444444444444444,
              "#bd3786"
             ],
             [
              0.5555555555555556,
              "#d8576b"
             ],
             [
              0.6666666666666666,
              "#ed7953"
             ],
             [
              0.7777777777777778,
              "#fb9f3a"
             ],
             [
              0.8888888888888888,
              "#fdca26"
             ],
             [
              1,
              "#f0f921"
             ]
            ],
            "type": "contour"
           }
          ],
          "contourcarpet": [
           {
            "colorbar": {
             "outlinewidth": 0,
             "ticks": ""
            },
            "type": "contourcarpet"
           }
          ],
          "heatmap": [
           {
            "colorbar": {
             "outlinewidth": 0,
             "ticks": ""
            },
            "colorscale": [
             [
              0,
              "#0d0887"
             ],
             [
              0.1111111111111111,
              "#46039f"
             ],
             [
              0.2222222222222222,
              "#7201a8"
             ],
             [
              0.3333333333333333,
              "#9c179e"
             ],
             [
              0.4444444444444444,
              "#bd3786"
             ],
             [
              0.5555555555555556,
              "#d8576b"
             ],
             [
              0.6666666666666666,
              "#ed7953"
             ],
             [
              0.7777777777777778,
              "#fb9f3a"
             ],
             [
              0.8888888888888888,
              "#fdca26"
             ],
             [
              1,
              "#f0f921"
             ]
            ],
            "type": "heatmap"
           }
          ],
          "heatmapgl": [
           {
            "colorbar": {
             "outlinewidth": 0,
             "ticks": ""
            },
            "colorscale": [
             [
              0,
              "#0d0887"
             ],
             [
              0.1111111111111111,
              "#46039f"
             ],
             [
              0.2222222222222222,
              "#7201a8"
             ],
             [
              0.3333333333333333,
              "#9c179e"
             ],
             [
              0.4444444444444444,
              "#bd3786"
             ],
             [
              0.5555555555555556,
              "#d8576b"
             ],
             [
              0.6666666666666666,
              "#ed7953"
             ],
             [
              0.7777777777777778,
              "#fb9f3a"
             ],
             [
              0.8888888888888888,
              "#fdca26"
             ],
             [
              1,
              "#f0f921"
             ]
            ],
            "type": "heatmapgl"
           }
          ],
          "histogram": [
           {
            "marker": {
             "pattern": {
              "fillmode": "overlay",
              "size": 10,
              "solidity": 0.2
             }
            },
            "type": "histogram"
           }
          ],
          "histogram2d": [
           {
            "colorbar": {
             "outlinewidth": 0,
             "ticks": ""
            },
            "colorscale": [
             [
              0,
              "#0d0887"
             ],
             [
              0.1111111111111111,
              "#46039f"
             ],
             [
              0.2222222222222222,
              "#7201a8"
             ],
             [
              0.3333333333333333,
              "#9c179e"
             ],
             [
              0.4444444444444444,
              "#bd3786"
             ],
             [
              0.5555555555555556,
              "#d8576b"
             ],
             [
              0.6666666666666666,
              "#ed7953"
             ],
             [
              0.7777777777777778,
              "#fb9f3a"
             ],
             [
              0.8888888888888888,
              "#fdca26"
             ],
             [
              1,
              "#f0f921"
             ]
            ],
            "type": "histogram2d"
           }
          ],
          "histogram2dcontour": [
           {
            "colorbar": {
             "outlinewidth": 0,
             "ticks": ""
            },
            "colorscale": [
             [
              0,
              "#0d0887"
             ],
             [
              0.1111111111111111,
              "#46039f"
             ],
             [
              0.2222222222222222,
              "#7201a8"
             ],
             [
              0.3333333333333333,
              "#9c179e"
             ],
             [
              0.4444444444444444,
              "#bd3786"
             ],
             [
              0.5555555555555556,
              "#d8576b"
             ],
             [
              0.6666666666666666,
              "#ed7953"
             ],
             [
              0.7777777777777778,
              "#fb9f3a"
             ],
             [
              0.8888888888888888,
              "#fdca26"
             ],
             [
              1,
              "#f0f921"
             ]
            ],
            "type": "histogram2dcontour"
           }
          ],
          "mesh3d": [
           {
            "colorbar": {
             "outlinewidth": 0,
             "ticks": ""
            },
            "type": "mesh3d"
           }
          ],
          "parcoords": [
           {
            "line": {
             "colorbar": {
              "outlinewidth": 0,
              "ticks": ""
             }
            },
            "type": "parcoords"
           }
          ],
          "pie": [
           {
            "automargin": true,
            "type": "pie"
           }
          ],
          "scatter": [
           {
            "fillpattern": {
             "fillmode": "overlay",
             "size": 10,
             "solidity": 0.2
            },
            "type": "scatter"
           }
          ],
          "scatter3d": [
           {
            "line": {
             "colorbar": {
              "outlinewidth": 0,
              "ticks": ""
             }
            },
            "marker": {
             "colorbar": {
              "outlinewidth": 0,
              "ticks": ""
             }
            },
            "type": "scatter3d"
           }
          ],
          "scattercarpet": [
           {
            "marker": {
             "colorbar": {
              "outlinewidth": 0,
              "ticks": ""
             }
            },
            "type": "scattercarpet"
           }
          ],
          "scattergeo": [
           {
            "marker": {
             "colorbar": {
              "outlinewidth": 0,
              "ticks": ""
             }
            },
            "type": "scattergeo"
           }
          ],
          "scattergl": [
           {
            "marker": {
             "colorbar": {
              "outlinewidth": 0,
              "ticks": ""
             }
            },
            "type": "scattergl"
           }
          ],
          "scattermapbox": [
           {
            "marker": {
             "colorbar": {
              "outlinewidth": 0,
              "ticks": ""
             }
            },
            "type": "scattermapbox"
           }
          ],
          "scatterpolar": [
           {
            "marker": {
             "colorbar": {
              "outlinewidth": 0,
              "ticks": ""
             }
            },
            "type": "scatterpolar"
           }
          ],
          "scatterpolargl": [
           {
            "marker": {
             "colorbar": {
              "outlinewidth": 0,
              "ticks": ""
             }
            },
            "type": "scatterpolargl"
           }
          ],
          "scatterternary": [
           {
            "marker": {
             "colorbar": {
              "outlinewidth": 0,
              "ticks": ""
             }
            },
            "type": "scatterternary"
           }
          ],
          "surface": [
           {
            "colorbar": {
             "outlinewidth": 0,
             "ticks": ""
            },
            "colorscale": [
             [
              0,
              "#0d0887"
             ],
             [
              0.1111111111111111,
              "#46039f"
             ],
             [
              0.2222222222222222,
              "#7201a8"
             ],
             [
              0.3333333333333333,
              "#9c179e"
             ],
             [
              0.4444444444444444,
              "#bd3786"
             ],
             [
              0.5555555555555556,
              "#d8576b"
             ],
             [
              0.6666666666666666,
              "#ed7953"
             ],
             [
              0.7777777777777778,
              "#fb9f3a"
             ],
             [
              0.8888888888888888,
              "#fdca26"
             ],
             [
              1,
              "#f0f921"
             ]
            ],
            "type": "surface"
           }
          ],
          "table": [
           {
            "cells": {
             "fill": {
              "color": "#EBF0F8"
             },
             "line": {
              "color": "white"
             }
            },
            "header": {
             "fill": {
              "color": "#C8D4E3"
             },
             "line": {
              "color": "white"
             }
            },
            "type": "table"
           }
          ]
         },
         "layout": {
          "annotationdefaults": {
           "arrowcolor": "#2a3f5f",
           "arrowhead": 0,
           "arrowwidth": 1
          },
          "autotypenumbers": "strict",
          "coloraxis": {
           "colorbar": {
            "outlinewidth": 0,
            "ticks": ""
           }
          },
          "colorscale": {
           "diverging": [
            [
             0,
             "#8e0152"
            ],
            [
             0.1,
             "#c51b7d"
            ],
            [
             0.2,
             "#de77ae"
            ],
            [
             0.3,
             "#f1b6da"
            ],
            [
             0.4,
             "#fde0ef"
            ],
            [
             0.5,
             "#f7f7f7"
            ],
            [
             0.6,
             "#e6f5d0"
            ],
            [
             0.7,
             "#b8e186"
            ],
            [
             0.8,
             "#7fbc41"
            ],
            [
             0.9,
             "#4d9221"
            ],
            [
             1,
             "#276419"
            ]
           ],
           "sequential": [
            [
             0,
             "#0d0887"
            ],
            [
             0.1111111111111111,
             "#46039f"
            ],
            [
             0.2222222222222222,
             "#7201a8"
            ],
            [
             0.3333333333333333,
             "#9c179e"
            ],
            [
             0.4444444444444444,
             "#bd3786"
            ],
            [
             0.5555555555555556,
             "#d8576b"
            ],
            [
             0.6666666666666666,
             "#ed7953"
            ],
            [
             0.7777777777777778,
             "#fb9f3a"
            ],
            [
             0.8888888888888888,
             "#fdca26"
            ],
            [
             1,
             "#f0f921"
            ]
           ],
           "sequentialminus": [
            [
             0,
             "#0d0887"
            ],
            [
             0.1111111111111111,
             "#46039f"
            ],
            [
             0.2222222222222222,
             "#7201a8"
            ],
            [
             0.3333333333333333,
             "#9c179e"
            ],
            [
             0.4444444444444444,
             "#bd3786"
            ],
            [
             0.5555555555555556,
             "#d8576b"
            ],
            [
             0.6666666666666666,
             "#ed7953"
            ],
            [
             0.7777777777777778,
             "#fb9f3a"
            ],
            [
             0.8888888888888888,
             "#fdca26"
            ],
            [
             1,
             "#f0f921"
            ]
           ]
          },
          "colorway": [
           "#636efa",
           "#EF553B",
           "#00cc96",
           "#ab63fa",
           "#FFA15A",
           "#19d3f3",
           "#FF6692",
           "#B6E880",
           "#FF97FF",
           "#FECB52"
          ],
          "font": {
           "color": "#2a3f5f"
          },
          "geo": {
           "bgcolor": "white",
           "lakecolor": "white",
           "landcolor": "#E5ECF6",
           "showlakes": true,
           "showland": true,
           "subunitcolor": "white"
          },
          "hoverlabel": {
           "align": "left"
          },
          "hovermode": "closest",
          "mapbox": {
           "style": "light"
          },
          "paper_bgcolor": "white",
          "plot_bgcolor": "#E5ECF6",
          "polar": {
           "angularaxis": {
            "gridcolor": "white",
            "linecolor": "white",
            "ticks": ""
           },
           "bgcolor": "#E5ECF6",
           "radialaxis": {
            "gridcolor": "white",
            "linecolor": "white",
            "ticks": ""
           }
          },
          "scene": {
           "xaxis": {
            "backgroundcolor": "#E5ECF6",
            "gridcolor": "white",
            "gridwidth": 2,
            "linecolor": "white",
            "showbackground": true,
            "ticks": "",
            "zerolinecolor": "white"
           },
           "yaxis": {
            "backgroundcolor": "#E5ECF6",
            "gridcolor": "white",
            "gridwidth": 2,
            "linecolor": "white",
            "showbackground": true,
            "ticks": "",
            "zerolinecolor": "white"
           },
           "zaxis": {
            "backgroundcolor": "#E5ECF6",
            "gridcolor": "white",
            "gridwidth": 2,
            "linecolor": "white",
            "showbackground": true,
            "ticks": "",
            "zerolinecolor": "white"
           }
          },
          "shapedefaults": {
           "line": {
            "color": "#2a3f5f"
           }
          },
          "ternary": {
           "aaxis": {
            "gridcolor": "white",
            "linecolor": "white",
            "ticks": ""
           },
           "baxis": {
            "gridcolor": "white",
            "linecolor": "white",
            "ticks": ""
           },
           "bgcolor": "#E5ECF6",
           "caxis": {
            "gridcolor": "white",
            "linecolor": "white",
            "ticks": ""
           }
          },
          "title": {
           "x": 0.05
          },
          "xaxis": {
           "automargin": true,
           "gridcolor": "white",
           "linecolor": "white",
           "ticks": "",
           "title": {
            "standoff": 15
           },
           "zerolinecolor": "white",
           "zerolinewidth": 2
          },
          "yaxis": {
           "automargin": true,
           "gridcolor": "white",
           "linecolor": "white",
           "ticks": "",
           "title": {
            "standoff": 15
           },
           "zerolinecolor": "white",
           "zerolinewidth": 2
          }
         }
        },
        "title": {
         "text": "Line Plot: Literacy Rates Across Districts in Maharashtra"
        },
        "xaxis": {
         "tickangle": -45,
         "title": {
          "text": "Districts"
         }
        },
        "yaxis": {
         "title": {
          "text": "Number of Literate Individuals"
         }
        }
       }
      }
     },
     "metadata": {},
     "output_type": "display_data"
    }
   ],
   "source": [
    "# Prepare the data for literacy rates\n",
    "literacy_data = df[[\"District name\", \"Literate\"]]\n",
    "\n",
    "# Sort by literacy rate for better trend visualization\n",
    "literacy_data_sorted = literacy_data.sort_values(by=\"Literate\")\n",
    "\n",
    "# Create the line plot\n",
    "fig = go.Figure()\n",
    "\n",
    "fig.add_trace(\n",
    "    go.Scatter(\n",
    "        x=literacy_data_sorted[\"District name\"],\n",
    "        y=literacy_data_sorted[\"Literate\"],\n",
    "        mode=\"lines+markers\",\n",
    "        name=\"Literate Individuals\",\n",
    "        line=dict(color=\"blue\"),\n",
    "        marker=dict(size=8, color=\"blue\"),\n",
    "    )\n",
    ")\n",
    "\n",
    "# Update the layout\n",
    "fig.update_layout(\n",
    "    title=\"Line Plot: Literacy Rates Across Districts in Maharashtra\",\n",
    "    xaxis_title=\"Districts\",\n",
    "    yaxis_title=\"Number of Literate Individuals\",\n",
    "    xaxis_tickangle=-45,  # Rotate x-axis labels for better readability\n",
    "    showlegend=True,\n",
    ")\n",
    "\n",
    "# Show the plot\n",
    "fig.show()"
   ]
  },
  {
   "cell_type": "markdown",
   "metadata": {},
   "source": [
    "**Observation:**\n",
    "- The Line Plot provides insights into:\n",
    "- The plot shows how literacy rates vary across different districts in Maharashtra. It displays the number of literate individuals in each district, connected by lines to reveal trends.\n",
    "- By examining the line plot, we can see which districts have higher or lower literacy rates. For example, districts with steeper lines indicate significant changes in literacy rates, while flatter sections show more consistency."
   ]
  },
  {
   "cell_type": "markdown",
   "metadata": {},
   "source": [
    "#### 3.8 Area Plot"
   ]
  },
  {
   "cell_type": "code",
   "execution_count": 14,
   "metadata": {},
   "outputs": [
    {
     "data": {
      "application/vnd.plotly.v1+json": {
       "config": {
        "plotlyServerURL": "https://plot.ly"
       },
       "data": [
        {
         "mode": "lines",
         "name": "Cultivator_Workers",
         "stackgroup": "one",
         "type": "scatter",
         "x": [
          "Nandurbar",
          "Dhule",
          "Jalgaon",
          "Buldana",
          "Akola",
          "Washim",
          "Amravati",
          "Wardha",
          "Nagpur",
          "Bhandara",
          "Gondiya",
          "Gadchiroli",
          "Chandrapur",
          "Yavatmal",
          "Nanded",
          "Hingoli",
          "Parbhani",
          "Jalna",
          "Aurangabad",
          "Nashik",
          "Thane",
          "Mumbai Suburban",
          "Mumbai",
          "Raigarh",
          "Pune",
          "Ahmadnagar",
          "Bid",
          "Latur",
          "Osmanabad",
          "Solapur",
          "Satara",
          "Ratnagiri",
          "Sindhudurg",
          "Kolhapur",
          "Sangli"
         ],
         "y": [
          211672,
          239139,
          384359,
          385447,
          129680,
          165598,
          198793,
          132989,
          206606,
          123099,
          186509,
          225358,
          220978,
          333504,
          447823,
          241613,
          295030,
          418952,
          554518,
          967385,
          349931,
          16086,
          6051,
          206975,
          886530,
          1013050,
          606280,
          331780,
          297361,
          637250,
          585876,
          296913,
          124812,
          660872,
          480554
         ]
        },
        {
         "mode": "lines",
         "name": "Agricultural_Workers",
         "stackgroup": "one",
         "type": "scatter",
         "x": [
          "Nandurbar",
          "Dhule",
          "Jalgaon",
          "Buldana",
          "Akola",
          "Washim",
          "Amravati",
          "Wardha",
          "Nagpur",
          "Bhandara",
          "Gondiya",
          "Gadchiroli",
          "Chandrapur",
          "Yavatmal",
          "Nanded",
          "Hingoli",
          "Parbhani",
          "Jalna",
          "Aurangabad",
          "Nashik",
          "Thane",
          "Mumbai Suburban",
          "Mumbai",
          "Raigarh",
          "Pune",
          "Ahmadnagar",
          "Bid",
          "Latur",
          "Osmanabad",
          "Solapur",
          "Satara",
          "Ratnagiri",
          "Sindhudurg",
          "Kolhapur",
          "Sangli"
         ],
         "y": [
          438176,
          429536,
          937174,
          603227,
          388521,
          310195,
          667943,
          282170,
          423587,
          312183,
          281414,
          247813,
          473983,
          739718,
          632395,
          226483,
          317806,
          300937,
          396630,
          730228,
          418004,
          20722,
          5745,
          191182,
          414461,
          559009,
          373566,
          416578,
          299525,
          558334,
          297241,
          153117,
          81816,
          266028,
          290693
         ]
        },
        {
         "mode": "lines",
         "name": "Household_Workers",
         "stackgroup": "one",
         "type": "scatter",
         "x": [
          "Nandurbar",
          "Dhule",
          "Jalgaon",
          "Buldana",
          "Akola",
          "Washim",
          "Amravati",
          "Wardha",
          "Nagpur",
          "Bhandara",
          "Gondiya",
          "Gadchiroli",
          "Chandrapur",
          "Yavatmal",
          "Nanded",
          "Hingoli",
          "Parbhani",
          "Jalna",
          "Aurangabad",
          "Nashik",
          "Thane",
          "Mumbai Suburban",
          "Mumbai",
          "Raigarh",
          "Pune",
          "Ahmadnagar",
          "Bid",
          "Latur",
          "Osmanabad",
          "Solapur",
          "Satara",
          "Ratnagiri",
          "Sindhudurg",
          "Kolhapur",
          "Sangli"
         ],
         "y": [
          14599,
          20646,
          38930,
          13770,
          9660,
          7122,
          20998,
          13785,
          52419,
          17169,
          32525,
          11321,
          21346,
          17899,
          29158,
          8268,
          13210,
          16705,
          28033,
          56132,
          124461,
          118816,
          45538,
          32919,
          105711,
          57156,
          21093,
          17663,
          19831,
          71106,
          39772,
          17230,
          9679,
          59932,
          40824
         ]
        },
        {
         "mode": "lines",
         "name": "Other_Workers",
         "stackgroup": "one",
         "type": "scatter",
         "x": [
          "Nandurbar",
          "Dhule",
          "Jalgaon",
          "Buldana",
          "Akola",
          "Washim",
          "Amravati",
          "Wardha",
          "Nagpur",
          "Bhandara",
          "Gondiya",
          "Gadchiroli",
          "Chandrapur",
          "Yavatmal",
          "Nanded",
          "Hingoli",
          "Parbhani",
          "Jalna",
          "Aurangabad",
          "Nashik",
          "Thane",
          "Mumbai Suburban",
          "Mumbai",
          "Raigarh",
          "Pune",
          "Ahmadnagar",
          "Bid",
          "Latur",
          "Osmanabad",
          "Solapur",
          "Satara",
          "Ratnagiri",
          "Sindhudurg",
          "Kolhapur",
          "Sangli"
         ],
         "y": [
          127618,
          247049,
          503108,
          217197,
          240293,
          86877,
          348588,
          179291,
          1185948,
          144854,
          164971,
          99745,
          341865,
          264878,
          384577,
          92818,
          196751,
          194292,
          595898,
          1009583,
          3600371,
          3579397,
          1227062,
          641893,
          2642291,
          575375,
          254609,
          280836,
          157199,
          631705,
          432058,
          246816,
          130871,
          717222,
          403033
         ]
        }
       ],
       "layout": {
        "legend": {
         "title": {
          "text": "Worker Type"
         }
        },
        "template": {
         "data": {
          "bar": [
           {
            "error_x": {
             "color": "#2a3f5f"
            },
            "error_y": {
             "color": "#2a3f5f"
            },
            "marker": {
             "line": {
              "color": "#E5ECF6",
              "width": 0.5
             },
             "pattern": {
              "fillmode": "overlay",
              "size": 10,
              "solidity": 0.2
             }
            },
            "type": "bar"
           }
          ],
          "barpolar": [
           {
            "marker": {
             "line": {
              "color": "#E5ECF6",
              "width": 0.5
             },
             "pattern": {
              "fillmode": "overlay",
              "size": 10,
              "solidity": 0.2
             }
            },
            "type": "barpolar"
           }
          ],
          "carpet": [
           {
            "aaxis": {
             "endlinecolor": "#2a3f5f",
             "gridcolor": "white",
             "linecolor": "white",
             "minorgridcolor": "white",
             "startlinecolor": "#2a3f5f"
            },
            "baxis": {
             "endlinecolor": "#2a3f5f",
             "gridcolor": "white",
             "linecolor": "white",
             "minorgridcolor": "white",
             "startlinecolor": "#2a3f5f"
            },
            "type": "carpet"
           }
          ],
          "choropleth": [
           {
            "colorbar": {
             "outlinewidth": 0,
             "ticks": ""
            },
            "type": "choropleth"
           }
          ],
          "contour": [
           {
            "colorbar": {
             "outlinewidth": 0,
             "ticks": ""
            },
            "colorscale": [
             [
              0,
              "#0d0887"
             ],
             [
              0.1111111111111111,
              "#46039f"
             ],
             [
              0.2222222222222222,
              "#7201a8"
             ],
             [
              0.3333333333333333,
              "#9c179e"
             ],
             [
              0.4444444444444444,
              "#bd3786"
             ],
             [
              0.5555555555555556,
              "#d8576b"
             ],
             [
              0.6666666666666666,
              "#ed7953"
             ],
             [
              0.7777777777777778,
              "#fb9f3a"
             ],
             [
              0.8888888888888888,
              "#fdca26"
             ],
             [
              1,
              "#f0f921"
             ]
            ],
            "type": "contour"
           }
          ],
          "contourcarpet": [
           {
            "colorbar": {
             "outlinewidth": 0,
             "ticks": ""
            },
            "type": "contourcarpet"
           }
          ],
          "heatmap": [
           {
            "colorbar": {
             "outlinewidth": 0,
             "ticks": ""
            },
            "colorscale": [
             [
              0,
              "#0d0887"
             ],
             [
              0.1111111111111111,
              "#46039f"
             ],
             [
              0.2222222222222222,
              "#7201a8"
             ],
             [
              0.3333333333333333,
              "#9c179e"
             ],
             [
              0.4444444444444444,
              "#bd3786"
             ],
             [
              0.5555555555555556,
              "#d8576b"
             ],
             [
              0.6666666666666666,
              "#ed7953"
             ],
             [
              0.7777777777777778,
              "#fb9f3a"
             ],
             [
              0.8888888888888888,
              "#fdca26"
             ],
             [
              1,
              "#f0f921"
             ]
            ],
            "type": "heatmap"
           }
          ],
          "heatmapgl": [
           {
            "colorbar": {
             "outlinewidth": 0,
             "ticks": ""
            },
            "colorscale": [
             [
              0,
              "#0d0887"
             ],
             [
              0.1111111111111111,
              "#46039f"
             ],
             [
              0.2222222222222222,
              "#7201a8"
             ],
             [
              0.3333333333333333,
              "#9c179e"
             ],
             [
              0.4444444444444444,
              "#bd3786"
             ],
             [
              0.5555555555555556,
              "#d8576b"
             ],
             [
              0.6666666666666666,
              "#ed7953"
             ],
             [
              0.7777777777777778,
              "#fb9f3a"
             ],
             [
              0.8888888888888888,
              "#fdca26"
             ],
             [
              1,
              "#f0f921"
             ]
            ],
            "type": "heatmapgl"
           }
          ],
          "histogram": [
           {
            "marker": {
             "pattern": {
              "fillmode": "overlay",
              "size": 10,
              "solidity": 0.2
             }
            },
            "type": "histogram"
           }
          ],
          "histogram2d": [
           {
            "colorbar": {
             "outlinewidth": 0,
             "ticks": ""
            },
            "colorscale": [
             [
              0,
              "#0d0887"
             ],
             [
              0.1111111111111111,
              "#46039f"
             ],
             [
              0.2222222222222222,
              "#7201a8"
             ],
             [
              0.3333333333333333,
              "#9c179e"
             ],
             [
              0.4444444444444444,
              "#bd3786"
             ],
             [
              0.5555555555555556,
              "#d8576b"
             ],
             [
              0.6666666666666666,
              "#ed7953"
             ],
             [
              0.7777777777777778,
              "#fb9f3a"
             ],
             [
              0.8888888888888888,
              "#fdca26"
             ],
             [
              1,
              "#f0f921"
             ]
            ],
            "type": "histogram2d"
           }
          ],
          "histogram2dcontour": [
           {
            "colorbar": {
             "outlinewidth": 0,
             "ticks": ""
            },
            "colorscale": [
             [
              0,
              "#0d0887"
             ],
             [
              0.1111111111111111,
              "#46039f"
             ],
             [
              0.2222222222222222,
              "#7201a8"
             ],
             [
              0.3333333333333333,
              "#9c179e"
             ],
             [
              0.4444444444444444,
              "#bd3786"
             ],
             [
              0.5555555555555556,
              "#d8576b"
             ],
             [
              0.6666666666666666,
              "#ed7953"
             ],
             [
              0.7777777777777778,
              "#fb9f3a"
             ],
             [
              0.8888888888888888,
              "#fdca26"
             ],
             [
              1,
              "#f0f921"
             ]
            ],
            "type": "histogram2dcontour"
           }
          ],
          "mesh3d": [
           {
            "colorbar": {
             "outlinewidth": 0,
             "ticks": ""
            },
            "type": "mesh3d"
           }
          ],
          "parcoords": [
           {
            "line": {
             "colorbar": {
              "outlinewidth": 0,
              "ticks": ""
             }
            },
            "type": "parcoords"
           }
          ],
          "pie": [
           {
            "automargin": true,
            "type": "pie"
           }
          ],
          "scatter": [
           {
            "fillpattern": {
             "fillmode": "overlay",
             "size": 10,
             "solidity": 0.2
            },
            "type": "scatter"
           }
          ],
          "scatter3d": [
           {
            "line": {
             "colorbar": {
              "outlinewidth": 0,
              "ticks": ""
             }
            },
            "marker": {
             "colorbar": {
              "outlinewidth": 0,
              "ticks": ""
             }
            },
            "type": "scatter3d"
           }
          ],
          "scattercarpet": [
           {
            "marker": {
             "colorbar": {
              "outlinewidth": 0,
              "ticks": ""
             }
            },
            "type": "scattercarpet"
           }
          ],
          "scattergeo": [
           {
            "marker": {
             "colorbar": {
              "outlinewidth": 0,
              "ticks": ""
             }
            },
            "type": "scattergeo"
           }
          ],
          "scattergl": [
           {
            "marker": {
             "colorbar": {
              "outlinewidth": 0,
              "ticks": ""
             }
            },
            "type": "scattergl"
           }
          ],
          "scattermapbox": [
           {
            "marker": {
             "colorbar": {
              "outlinewidth": 0,
              "ticks": ""
             }
            },
            "type": "scattermapbox"
           }
          ],
          "scatterpolar": [
           {
            "marker": {
             "colorbar": {
              "outlinewidth": 0,
              "ticks": ""
             }
            },
            "type": "scatterpolar"
           }
          ],
          "scatterpolargl": [
           {
            "marker": {
             "colorbar": {
              "outlinewidth": 0,
              "ticks": ""
             }
            },
            "type": "scatterpolargl"
           }
          ],
          "scatterternary": [
           {
            "marker": {
             "colorbar": {
              "outlinewidth": 0,
              "ticks": ""
             }
            },
            "type": "scatterternary"
           }
          ],
          "surface": [
           {
            "colorbar": {
             "outlinewidth": 0,
             "ticks": ""
            },
            "colorscale": [
             [
              0,
              "#0d0887"
             ],
             [
              0.1111111111111111,
              "#46039f"
             ],
             [
              0.2222222222222222,
              "#7201a8"
             ],
             [
              0.3333333333333333,
              "#9c179e"
             ],
             [
              0.4444444444444444,
              "#bd3786"
             ],
             [
              0.5555555555555556,
              "#d8576b"
             ],
             [
              0.6666666666666666,
              "#ed7953"
             ],
             [
              0.7777777777777778,
              "#fb9f3a"
             ],
             [
              0.8888888888888888,
              "#fdca26"
             ],
             [
              1,
              "#f0f921"
             ]
            ],
            "type": "surface"
           }
          ],
          "table": [
           {
            "cells": {
             "fill": {
              "color": "#EBF0F8"
             },
             "line": {
              "color": "white"
             }
            },
            "header": {
             "fill": {
              "color": "#C8D4E3"
             },
             "line": {
              "color": "white"
             }
            },
            "type": "table"
           }
          ]
         },
         "layout": {
          "annotationdefaults": {
           "arrowcolor": "#2a3f5f",
           "arrowhead": 0,
           "arrowwidth": 1
          },
          "autotypenumbers": "strict",
          "coloraxis": {
           "colorbar": {
            "outlinewidth": 0,
            "ticks": ""
           }
          },
          "colorscale": {
           "diverging": [
            [
             0,
             "#8e0152"
            ],
            [
             0.1,
             "#c51b7d"
            ],
            [
             0.2,
             "#de77ae"
            ],
            [
             0.3,
             "#f1b6da"
            ],
            [
             0.4,
             "#fde0ef"
            ],
            [
             0.5,
             "#f7f7f7"
            ],
            [
             0.6,
             "#e6f5d0"
            ],
            [
             0.7,
             "#b8e186"
            ],
            [
             0.8,
             "#7fbc41"
            ],
            [
             0.9,
             "#4d9221"
            ],
            [
             1,
             "#276419"
            ]
           ],
           "sequential": [
            [
             0,
             "#0d0887"
            ],
            [
             0.1111111111111111,
             "#46039f"
            ],
            [
             0.2222222222222222,
             "#7201a8"
            ],
            [
             0.3333333333333333,
             "#9c179e"
            ],
            [
             0.4444444444444444,
             "#bd3786"
            ],
            [
             0.5555555555555556,
             "#d8576b"
            ],
            [
             0.6666666666666666,
             "#ed7953"
            ],
            [
             0.7777777777777778,
             "#fb9f3a"
            ],
            [
             0.8888888888888888,
             "#fdca26"
            ],
            [
             1,
             "#f0f921"
            ]
           ],
           "sequentialminus": [
            [
             0,
             "#0d0887"
            ],
            [
             0.1111111111111111,
             "#46039f"
            ],
            [
             0.2222222222222222,
             "#7201a8"
            ],
            [
             0.3333333333333333,
             "#9c179e"
            ],
            [
             0.4444444444444444,
             "#bd3786"
            ],
            [
             0.5555555555555556,
             "#d8576b"
            ],
            [
             0.6666666666666666,
             "#ed7953"
            ],
            [
             0.7777777777777778,
             "#fb9f3a"
            ],
            [
             0.8888888888888888,
             "#fdca26"
            ],
            [
             1,
             "#f0f921"
            ]
           ]
          },
          "colorway": [
           "#636efa",
           "#EF553B",
           "#00cc96",
           "#ab63fa",
           "#FFA15A",
           "#19d3f3",
           "#FF6692",
           "#B6E880",
           "#FF97FF",
           "#FECB52"
          ],
          "font": {
           "color": "#2a3f5f"
          },
          "geo": {
           "bgcolor": "white",
           "lakecolor": "white",
           "landcolor": "#E5ECF6",
           "showlakes": true,
           "showland": true,
           "subunitcolor": "white"
          },
          "hoverlabel": {
           "align": "left"
          },
          "hovermode": "closest",
          "mapbox": {
           "style": "light"
          },
          "paper_bgcolor": "white",
          "plot_bgcolor": "#E5ECF6",
          "polar": {
           "angularaxis": {
            "gridcolor": "white",
            "linecolor": "white",
            "ticks": ""
           },
           "bgcolor": "#E5ECF6",
           "radialaxis": {
            "gridcolor": "white",
            "linecolor": "white",
            "ticks": ""
           }
          },
          "scene": {
           "xaxis": {
            "backgroundcolor": "#E5ECF6",
            "gridcolor": "white",
            "gridwidth": 2,
            "linecolor": "white",
            "showbackground": true,
            "ticks": "",
            "zerolinecolor": "white"
           },
           "yaxis": {
            "backgroundcolor": "#E5ECF6",
            "gridcolor": "white",
            "gridwidth": 2,
            "linecolor": "white",
            "showbackground": true,
            "ticks": "",
            "zerolinecolor": "white"
           },
           "zaxis": {
            "backgroundcolor": "#E5ECF6",
            "gridcolor": "white",
            "gridwidth": 2,
            "linecolor": "white",
            "showbackground": true,
            "ticks": "",
            "zerolinecolor": "white"
           }
          },
          "shapedefaults": {
           "line": {
            "color": "#2a3f5f"
           }
          },
          "ternary": {
           "aaxis": {
            "gridcolor": "white",
            "linecolor": "white",
            "ticks": ""
           },
           "baxis": {
            "gridcolor": "white",
            "linecolor": "white",
            "ticks": ""
           },
           "bgcolor": "#E5ECF6",
           "caxis": {
            "gridcolor": "white",
            "linecolor": "white",
            "ticks": ""
           }
          },
          "title": {
           "x": 0.05
          },
          "xaxis": {
           "automargin": true,
           "gridcolor": "white",
           "linecolor": "white",
           "ticks": "",
           "title": {
            "standoff": 15
           },
           "zerolinecolor": "white",
           "zerolinewidth": 2
          },
          "yaxis": {
           "automargin": true,
           "gridcolor": "white",
           "linecolor": "white",
           "ticks": "",
           "title": {
            "standoff": 15
           },
           "zerolinecolor": "white",
           "zerolinewidth": 2
          }
         }
        },
        "title": {
         "text": "Area Plot: Distribution of Different Types of Workers Across Districts in Maharashtra"
        },
        "xaxis": {
         "tickangle": -45,
         "title": {
          "text": "Districts"
         }
        },
        "yaxis": {
         "title": {
          "text": "Number of Workers"
         }
        }
       }
      }
     },
     "metadata": {},
     "output_type": "display_data"
    }
   ],
   "source": [
    "# Prepare the data by summing up the different types of workers\n",
    "workers_data = df[\n",
    "    [\n",
    "        \"District name\",\n",
    "        \"Cultivator_Workers\",\n",
    "        \"Agricultural_Workers\",\n",
    "        \"Household_Workers\",\n",
    "        \"Other_Workers\",\n",
    "    ]\n",
    "]\n",
    "\n",
    "# Create the area plot\n",
    "fig = go.Figure()\n",
    "\n",
    "# Add traces for each type of worker\n",
    "for worker_type in [\n",
    "    \"Cultivator_Workers\",\n",
    "    \"Agricultural_Workers\",\n",
    "    \"Household_Workers\",\n",
    "    \"Other_Workers\",\n",
    "]:\n",
    "    fig.add_trace(\n",
    "        go.Scatter(\n",
    "            x=workers_data[\"District name\"],\n",
    "            y=workers_data[worker_type],\n",
    "            mode=\"lines\",\n",
    "            stackgroup=\"one\",\n",
    "            name=worker_type,\n",
    "        )\n",
    "    )\n",
    "\n",
    "# Update the layout\n",
    "fig.update_layout(\n",
    "    title=\"Area Plot: Distribution of Different Types of Workers Across Districts in Maharashtra\",\n",
    "    xaxis_title=\"Districts\",\n",
    "    yaxis_title=\"Number of Workers\",\n",
    "    legend_title=\"Worker Type\",\n",
    "    xaxis_tickangle=-45,  # Rotate x-axis labels for better readability\n",
    ")\n",
    "\n",
    "# Show the plot\n",
    "fig.show()"
   ]
  },
  {
   "cell_type": "markdown",
   "metadata": {},
   "source": [
    "**Observation:**\n",
    "- The Area Plot provides several insights into the distribution of different types of workers across Maharashtra's districts:\n",
    "- The plot shows the number of individuals in various worker categories, such as cultivator, agricultural, household, and other workers. Each type of worker is represented by a different color, with the area under the curve indicating the proportion of that worker type across districts.\n",
    "- The stacked areas allow for an easy comparison of the relative sizes of each worker category. For example, if one category consistently occupies a larger area, it suggests that this type of work is more prevalent in those districts.\n",
    "- By examining the plot, we can identify trends or disparities in workforce distribution. For instance, if a particular worker type dominates in certain districts, it may indicate a specialized economic activity or local industry. Conversely, if the areas are more balanced, it may reflect a diverse workforce."
   ]
  },
  {
   "cell_type": "markdown",
   "metadata": {},
   "source": [
    "#### 3.9 Waterfall Chart"
   ]
  },
  {
   "cell_type": "code",
   "execution_count": 15,
   "metadata": {},
   "outputs": [
    {
     "data": {
      "application/vnd.plotly.v1+json": {
       "config": {
        "plotlyServerURL": "https://plot.ly"
       },
       "data": [
        {
         "connector": {
          "line": {
           "color": "rgba(63, 63, 63, 0.8)",
           "width": 2
          }
         },
         "measure": [
          "relative",
          "relative",
          "relative",
          "relative",
          "relative",
          "relative",
          "relative",
          "total"
         ],
         "name": "Literacy Contribution",
         "text": [
          "0",
          "10,211,270",
          "18,242,722",
          "15,861,646",
          "17,831,786",
          "10,618,622",
          "8,463,507",
          "1,209,278",
          "81,554,290"
         ],
         "textposition": "outside",
         "type": "waterfall",
         "x": [
          "Start",
          "Below_Primary_Education",
          "Primary_Education",
          "Middle_Education",
          "Secondary_Education",
          "Higher_Education",
          "Graduate_Education",
          "Other_Education",
          "Total Literacy"
         ],
         "y": [
          0,
          10211270,
          18242722,
          15861646,
          17831786,
          10618622,
          8463507,
          1209278,
          81554290
         ]
        }
       ],
       "layout": {
        "showlegend": false,
        "template": {
         "data": {
          "bar": [
           {
            "error_x": {
             "color": "#2a3f5f"
            },
            "error_y": {
             "color": "#2a3f5f"
            },
            "marker": {
             "line": {
              "color": "#E5ECF6",
              "width": 0.5
             },
             "pattern": {
              "fillmode": "overlay",
              "size": 10,
              "solidity": 0.2
             }
            },
            "type": "bar"
           }
          ],
          "barpolar": [
           {
            "marker": {
             "line": {
              "color": "#E5ECF6",
              "width": 0.5
             },
             "pattern": {
              "fillmode": "overlay",
              "size": 10,
              "solidity": 0.2
             }
            },
            "type": "barpolar"
           }
          ],
          "carpet": [
           {
            "aaxis": {
             "endlinecolor": "#2a3f5f",
             "gridcolor": "white",
             "linecolor": "white",
             "minorgridcolor": "white",
             "startlinecolor": "#2a3f5f"
            },
            "baxis": {
             "endlinecolor": "#2a3f5f",
             "gridcolor": "white",
             "linecolor": "white",
             "minorgridcolor": "white",
             "startlinecolor": "#2a3f5f"
            },
            "type": "carpet"
           }
          ],
          "choropleth": [
           {
            "colorbar": {
             "outlinewidth": 0,
             "ticks": ""
            },
            "type": "choropleth"
           }
          ],
          "contour": [
           {
            "colorbar": {
             "outlinewidth": 0,
             "ticks": ""
            },
            "colorscale": [
             [
              0,
              "#0d0887"
             ],
             [
              0.1111111111111111,
              "#46039f"
             ],
             [
              0.2222222222222222,
              "#7201a8"
             ],
             [
              0.3333333333333333,
              "#9c179e"
             ],
             [
              0.4444444444444444,
              "#bd3786"
             ],
             [
              0.5555555555555556,
              "#d8576b"
             ],
             [
              0.6666666666666666,
              "#ed7953"
             ],
             [
              0.7777777777777778,
              "#fb9f3a"
             ],
             [
              0.8888888888888888,
              "#fdca26"
             ],
             [
              1,
              "#f0f921"
             ]
            ],
            "type": "contour"
           }
          ],
          "contourcarpet": [
           {
            "colorbar": {
             "outlinewidth": 0,
             "ticks": ""
            },
            "type": "contourcarpet"
           }
          ],
          "heatmap": [
           {
            "colorbar": {
             "outlinewidth": 0,
             "ticks": ""
            },
            "colorscale": [
             [
              0,
              "#0d0887"
             ],
             [
              0.1111111111111111,
              "#46039f"
             ],
             [
              0.2222222222222222,
              "#7201a8"
             ],
             [
              0.3333333333333333,
              "#9c179e"
             ],
             [
              0.4444444444444444,
              "#bd3786"
             ],
             [
              0.5555555555555556,
              "#d8576b"
             ],
             [
              0.6666666666666666,
              "#ed7953"
             ],
             [
              0.7777777777777778,
              "#fb9f3a"
             ],
             [
              0.8888888888888888,
              "#fdca26"
             ],
             [
              1,
              "#f0f921"
             ]
            ],
            "type": "heatmap"
           }
          ],
          "heatmapgl": [
           {
            "colorbar": {
             "outlinewidth": 0,
             "ticks": ""
            },
            "colorscale": [
             [
              0,
              "#0d0887"
             ],
             [
              0.1111111111111111,
              "#46039f"
             ],
             [
              0.2222222222222222,
              "#7201a8"
             ],
             [
              0.3333333333333333,
              "#9c179e"
             ],
             [
              0.4444444444444444,
              "#bd3786"
             ],
             [
              0.5555555555555556,
              "#d8576b"
             ],
             [
              0.6666666666666666,
              "#ed7953"
             ],
             [
              0.7777777777777778,
              "#fb9f3a"
             ],
             [
              0.8888888888888888,
              "#fdca26"
             ],
             [
              1,
              "#f0f921"
             ]
            ],
            "type": "heatmapgl"
           }
          ],
          "histogram": [
           {
            "marker": {
             "pattern": {
              "fillmode": "overlay",
              "size": 10,
              "solidity": 0.2
             }
            },
            "type": "histogram"
           }
          ],
          "histogram2d": [
           {
            "colorbar": {
             "outlinewidth": 0,
             "ticks": ""
            },
            "colorscale": [
             [
              0,
              "#0d0887"
             ],
             [
              0.1111111111111111,
              "#46039f"
             ],
             [
              0.2222222222222222,
              "#7201a8"
             ],
             [
              0.3333333333333333,
              "#9c179e"
             ],
             [
              0.4444444444444444,
              "#bd3786"
             ],
             [
              0.5555555555555556,
              "#d8576b"
             ],
             [
              0.6666666666666666,
              "#ed7953"
             ],
             [
              0.7777777777777778,
              "#fb9f3a"
             ],
             [
              0.8888888888888888,
              "#fdca26"
             ],
             [
              1,
              "#f0f921"
             ]
            ],
            "type": "histogram2d"
           }
          ],
          "histogram2dcontour": [
           {
            "colorbar": {
             "outlinewidth": 0,
             "ticks": ""
            },
            "colorscale": [
             [
              0,
              "#0d0887"
             ],
             [
              0.1111111111111111,
              "#46039f"
             ],
             [
              0.2222222222222222,
              "#7201a8"
             ],
             [
              0.3333333333333333,
              "#9c179e"
             ],
             [
              0.4444444444444444,
              "#bd3786"
             ],
             [
              0.5555555555555556,
              "#d8576b"
             ],
             [
              0.6666666666666666,
              "#ed7953"
             ],
             [
              0.7777777777777778,
              "#fb9f3a"
             ],
             [
              0.8888888888888888,
              "#fdca26"
             ],
             [
              1,
              "#f0f921"
             ]
            ],
            "type": "histogram2dcontour"
           }
          ],
          "mesh3d": [
           {
            "colorbar": {
             "outlinewidth": 0,
             "ticks": ""
            },
            "type": "mesh3d"
           }
          ],
          "parcoords": [
           {
            "line": {
             "colorbar": {
              "outlinewidth": 0,
              "ticks": ""
             }
            },
            "type": "parcoords"
           }
          ],
          "pie": [
           {
            "automargin": true,
            "type": "pie"
           }
          ],
          "scatter": [
           {
            "fillpattern": {
             "fillmode": "overlay",
             "size": 10,
             "solidity": 0.2
            },
            "type": "scatter"
           }
          ],
          "scatter3d": [
           {
            "line": {
             "colorbar": {
              "outlinewidth": 0,
              "ticks": ""
             }
            },
            "marker": {
             "colorbar": {
              "outlinewidth": 0,
              "ticks": ""
             }
            },
            "type": "scatter3d"
           }
          ],
          "scattercarpet": [
           {
            "marker": {
             "colorbar": {
              "outlinewidth": 0,
              "ticks": ""
             }
            },
            "type": "scattercarpet"
           }
          ],
          "scattergeo": [
           {
            "marker": {
             "colorbar": {
              "outlinewidth": 0,
              "ticks": ""
             }
            },
            "type": "scattergeo"
           }
          ],
          "scattergl": [
           {
            "marker": {
             "colorbar": {
              "outlinewidth": 0,
              "ticks": ""
             }
            },
            "type": "scattergl"
           }
          ],
          "scattermapbox": [
           {
            "marker": {
             "colorbar": {
              "outlinewidth": 0,
              "ticks": ""
             }
            },
            "type": "scattermapbox"
           }
          ],
          "scatterpolar": [
           {
            "marker": {
             "colorbar": {
              "outlinewidth": 0,
              "ticks": ""
             }
            },
            "type": "scatterpolar"
           }
          ],
          "scatterpolargl": [
           {
            "marker": {
             "colorbar": {
              "outlinewidth": 0,
              "ticks": ""
             }
            },
            "type": "scatterpolargl"
           }
          ],
          "scatterternary": [
           {
            "marker": {
             "colorbar": {
              "outlinewidth": 0,
              "ticks": ""
             }
            },
            "type": "scatterternary"
           }
          ],
          "surface": [
           {
            "colorbar": {
             "outlinewidth": 0,
             "ticks": ""
            },
            "colorscale": [
             [
              0,
              "#0d0887"
             ],
             [
              0.1111111111111111,
              "#46039f"
             ],
             [
              0.2222222222222222,
              "#7201a8"
             ],
             [
              0.3333333333333333,
              "#9c179e"
             ],
             [
              0.4444444444444444,
              "#bd3786"
             ],
             [
              0.5555555555555556,
              "#d8576b"
             ],
             [
              0.6666666666666666,
              "#ed7953"
             ],
             [
              0.7777777777777778,
              "#fb9f3a"
             ],
             [
              0.8888888888888888,
              "#fdca26"
             ],
             [
              1,
              "#f0f921"
             ]
            ],
            "type": "surface"
           }
          ],
          "table": [
           {
            "cells": {
             "fill": {
              "color": "#EBF0F8"
             },
             "line": {
              "color": "white"
             }
            },
            "header": {
             "fill": {
              "color": "#C8D4E3"
             },
             "line": {
              "color": "white"
             }
            },
            "type": "table"
           }
          ]
         },
         "layout": {
          "annotationdefaults": {
           "arrowcolor": "#2a3f5f",
           "arrowhead": 0,
           "arrowwidth": 1
          },
          "autotypenumbers": "strict",
          "coloraxis": {
           "colorbar": {
            "outlinewidth": 0,
            "ticks": ""
           }
          },
          "colorscale": {
           "diverging": [
            [
             0,
             "#8e0152"
            ],
            [
             0.1,
             "#c51b7d"
            ],
            [
             0.2,
             "#de77ae"
            ],
            [
             0.3,
             "#f1b6da"
            ],
            [
             0.4,
             "#fde0ef"
            ],
            [
             0.5,
             "#f7f7f7"
            ],
            [
             0.6,
             "#e6f5d0"
            ],
            [
             0.7,
             "#b8e186"
            ],
            [
             0.8,
             "#7fbc41"
            ],
            [
             0.9,
             "#4d9221"
            ],
            [
             1,
             "#276419"
            ]
           ],
           "sequential": [
            [
             0,
             "#0d0887"
            ],
            [
             0.1111111111111111,
             "#46039f"
            ],
            [
             0.2222222222222222,
             "#7201a8"
            ],
            [
             0.3333333333333333,
             "#9c179e"
            ],
            [
             0.4444444444444444,
             "#bd3786"
            ],
            [
             0.5555555555555556,
             "#d8576b"
            ],
            [
             0.6666666666666666,
             "#ed7953"
            ],
            [
             0.7777777777777778,
             "#fb9f3a"
            ],
            [
             0.8888888888888888,
             "#fdca26"
            ],
            [
             1,
             "#f0f921"
            ]
           ],
           "sequentialminus": [
            [
             0,
             "#0d0887"
            ],
            [
             0.1111111111111111,
             "#46039f"
            ],
            [
             0.2222222222222222,
             "#7201a8"
            ],
            [
             0.3333333333333333,
             "#9c179e"
            ],
            [
             0.4444444444444444,
             "#bd3786"
            ],
            [
             0.5555555555555556,
             "#d8576b"
            ],
            [
             0.6666666666666666,
             "#ed7953"
            ],
            [
             0.7777777777777778,
             "#fb9f3a"
            ],
            [
             0.8888888888888888,
             "#fdca26"
            ],
            [
             1,
             "#f0f921"
            ]
           ]
          },
          "colorway": [
           "#636efa",
           "#EF553B",
           "#00cc96",
           "#ab63fa",
           "#FFA15A",
           "#19d3f3",
           "#FF6692",
           "#B6E880",
           "#FF97FF",
           "#FECB52"
          ],
          "font": {
           "color": "#2a3f5f"
          },
          "geo": {
           "bgcolor": "white",
           "lakecolor": "white",
           "landcolor": "#E5ECF6",
           "showlakes": true,
           "showland": true,
           "subunitcolor": "white"
          },
          "hoverlabel": {
           "align": "left"
          },
          "hovermode": "closest",
          "mapbox": {
           "style": "light"
          },
          "paper_bgcolor": "white",
          "plot_bgcolor": "#E5ECF6",
          "polar": {
           "angularaxis": {
            "gridcolor": "white",
            "linecolor": "white",
            "ticks": ""
           },
           "bgcolor": "#E5ECF6",
           "radialaxis": {
            "gridcolor": "white",
            "linecolor": "white",
            "ticks": ""
           }
          },
          "scene": {
           "xaxis": {
            "backgroundcolor": "#E5ECF6",
            "gridcolor": "white",
            "gridwidth": 2,
            "linecolor": "white",
            "showbackground": true,
            "ticks": "",
            "zerolinecolor": "white"
           },
           "yaxis": {
            "backgroundcolor": "#E5ECF6",
            "gridcolor": "white",
            "gridwidth": 2,
            "linecolor": "white",
            "showbackground": true,
            "ticks": "",
            "zerolinecolor": "white"
           },
           "zaxis": {
            "backgroundcolor": "#E5ECF6",
            "gridcolor": "white",
            "gridwidth": 2,
            "linecolor": "white",
            "showbackground": true,
            "ticks": "",
            "zerolinecolor": "white"
           }
          },
          "shapedefaults": {
           "line": {
            "color": "#2a3f5f"
           }
          },
          "ternary": {
           "aaxis": {
            "gridcolor": "white",
            "linecolor": "white",
            "ticks": ""
           },
           "baxis": {
            "gridcolor": "white",
            "linecolor": "white",
            "ticks": ""
           },
           "bgcolor": "#E5ECF6",
           "caxis": {
            "gridcolor": "white",
            "linecolor": "white",
            "ticks": ""
           }
          },
          "title": {
           "x": 0.05
          },
          "xaxis": {
           "automargin": true,
           "gridcolor": "white",
           "linecolor": "white",
           "ticks": "",
           "title": {
            "standoff": 15
           },
           "zerolinecolor": "white",
           "zerolinewidth": 2
          },
          "yaxis": {
           "automargin": true,
           "gridcolor": "white",
           "linecolor": "white",
           "ticks": "",
           "title": {
            "standoff": 15
           },
           "zerolinecolor": "white",
           "zerolinewidth": 2
          }
         }
        },
        "title": {
         "text": "Waterfall Chart: Contribution of Different Education Levels to Total Literacy Rate"
        },
        "xaxis": {
         "tickangle": -45,
         "title": {
          "text": "Education Level"
         }
        },
        "yaxis": {
         "title": {
          "text": "Number of Literate Individuals"
         }
        }
       }
      }
     },
     "metadata": {},
     "output_type": "display_data"
    }
   ],
   "source": [
    "# Calculate the total literacy from different education levels\n",
    "education_totals = {\n",
    "    \"Below_Primary_Education\": df[\"Below_Primary_Education\"].sum(),\n",
    "    \"Primary_Education\": df[\"Primary_Education\"].sum(),\n",
    "    \"Middle_Education\": df[\"Middle_Education\"].sum(),\n",
    "    \"Secondary_Education\": df[\"Secondary_Education\"].sum(),\n",
    "    \"Higher_Education\": df[\"Higher_Education\"].sum(),\n",
    "    \"Graduate_Education\": df[\"Graduate_Education\"].sum(),\n",
    "    \"Other_Education\": df[\"Other_Education\"].sum(),\n",
    "}\n",
    "\n",
    "# Prepare the data for the waterfall chart\n",
    "education_data = list(education_totals.items())\n",
    "education_data.insert(0, (\"Start\", 0))  # Starting point\n",
    "education_data.append((\"Total Literacy\", df[\"Literate\"].sum()))  # Ending point\n",
    "\n",
    "# Create the waterfall chart\n",
    "fig = go.Figure()\n",
    "\n",
    "# Add the waterfall chart bars\n",
    "fig.add_trace(\n",
    "    go.Waterfall(\n",
    "        measure=[\"relative\"] * (len(education_data) - 2) + [\"total\"],\n",
    "        x=[item[0] for item in education_data],\n",
    "        y=[item[1] for item in education_data],\n",
    "        text=[f\"{item[1]:,}\" for item in education_data],\n",
    "        textposition=\"outside\",\n",
    "        connector=dict(line=dict(color=\"rgba(63, 63, 63, 0.8)\", width=2)),\n",
    "        name=\"Literacy Contribution\",\n",
    "    )\n",
    ")\n",
    "\n",
    "# Update the layout\n",
    "fig.update_layout(\n",
    "    title=\"Waterfall Chart: Contribution of Different Education Levels to Total Literacy Rate\",\n",
    "    xaxis_title=\"Education Level\",\n",
    "    yaxis_title=\"Number of Literate Individuals\",\n",
    "    xaxis_tickangle=-45,  # Rotate x-axis labels for better readability\n",
    "    showlegend=False,\n",
    ")\n",
    "\n",
    "# Show the plot\n",
    "fig.show()"
   ]
  },
  {
   "cell_type": "markdown",
   "metadata": {},
   "source": [
    "**Observation:**\n",
    "- Each bar in the chart represents how different education levels contribute to the total literacy rate. It starts with zero and cumulatively adds the number of literate individuals from each education category.\n",
    "- Primary and secondary education levels contribute the most to the total literacy rate, highlighting their importance in the overall educational landscape.\n",
    "- Higher and graduate education levels add less to the total literacy rate, which may reflect the relative scarcity of individuals with these levels of education compared to foundational education.\n",
    "- The final bar shows the total number of literate individuals, providing a clear picture of how different educational achievements accumulate to contribute to overall literacy."
   ]
  },
  {
   "cell_type": "markdown",
   "metadata": {},
   "source": [
    "#### 3.10 Donut Chart"
   ]
  },
  {
   "cell_type": "code",
   "execution_count": 16,
   "metadata": {},
   "outputs": [
    {
     "data": {
      "application/vnd.plotly.v1+json": {
       "config": {
        "plotlyServerURL": "https://plot.ly"
       },
       "data": [
        {
         "hole": 0.4,
         "insidetextorientation": "radial",
         "labels": [
          "Hindus",
          "Muslims",
          "Christians",
          "Sikhs",
          "Buddhists",
          "Jains",
          "Others",
          "Religion Not Stated"
         ],
         "marker": {
          "colors": [
           "#636EFA",
           "#EF553B",
           "#00CC96",
           "#AB63FA",
           "#FFA15A",
           "#19D3F3",
           "#FF6692",
           "#B6E880",
           "#FF97FF",
           "#FECB52"
          ]
         },
         "textinfo": "label+percent",
         "type": "pie",
         "values": [
          89703057,
          12971152,
          1080073,
          223247,
          6531200,
          1400349,
          178965,
          286290
         ]
        }
       ],
       "layout": {
        "showlegend": true,
        "template": {
         "data": {
          "bar": [
           {
            "error_x": {
             "color": "#2a3f5f"
            },
            "error_y": {
             "color": "#2a3f5f"
            },
            "marker": {
             "line": {
              "color": "#E5ECF6",
              "width": 0.5
             },
             "pattern": {
              "fillmode": "overlay",
              "size": 10,
              "solidity": 0.2
             }
            },
            "type": "bar"
           }
          ],
          "barpolar": [
           {
            "marker": {
             "line": {
              "color": "#E5ECF6",
              "width": 0.5
             },
             "pattern": {
              "fillmode": "overlay",
              "size": 10,
              "solidity": 0.2
             }
            },
            "type": "barpolar"
           }
          ],
          "carpet": [
           {
            "aaxis": {
             "endlinecolor": "#2a3f5f",
             "gridcolor": "white",
             "linecolor": "white",
             "minorgridcolor": "white",
             "startlinecolor": "#2a3f5f"
            },
            "baxis": {
             "endlinecolor": "#2a3f5f",
             "gridcolor": "white",
             "linecolor": "white",
             "minorgridcolor": "white",
             "startlinecolor": "#2a3f5f"
            },
            "type": "carpet"
           }
          ],
          "choropleth": [
           {
            "colorbar": {
             "outlinewidth": 0,
             "ticks": ""
            },
            "type": "choropleth"
           }
          ],
          "contour": [
           {
            "colorbar": {
             "outlinewidth": 0,
             "ticks": ""
            },
            "colorscale": [
             [
              0,
              "#0d0887"
             ],
             [
              0.1111111111111111,
              "#46039f"
             ],
             [
              0.2222222222222222,
              "#7201a8"
             ],
             [
              0.3333333333333333,
              "#9c179e"
             ],
             [
              0.4444444444444444,
              "#bd3786"
             ],
             [
              0.5555555555555556,
              "#d8576b"
             ],
             [
              0.6666666666666666,
              "#ed7953"
             ],
             [
              0.7777777777777778,
              "#fb9f3a"
             ],
             [
              0.8888888888888888,
              "#fdca26"
             ],
             [
              1,
              "#f0f921"
             ]
            ],
            "type": "contour"
           }
          ],
          "contourcarpet": [
           {
            "colorbar": {
             "outlinewidth": 0,
             "ticks": ""
            },
            "type": "contourcarpet"
           }
          ],
          "heatmap": [
           {
            "colorbar": {
             "outlinewidth": 0,
             "ticks": ""
            },
            "colorscale": [
             [
              0,
              "#0d0887"
             ],
             [
              0.1111111111111111,
              "#46039f"
             ],
             [
              0.2222222222222222,
              "#7201a8"
             ],
             [
              0.3333333333333333,
              "#9c179e"
             ],
             [
              0.4444444444444444,
              "#bd3786"
             ],
             [
              0.5555555555555556,
              "#d8576b"
             ],
             [
              0.6666666666666666,
              "#ed7953"
             ],
             [
              0.7777777777777778,
              "#fb9f3a"
             ],
             [
              0.8888888888888888,
              "#fdca26"
             ],
             [
              1,
              "#f0f921"
             ]
            ],
            "type": "heatmap"
           }
          ],
          "heatmapgl": [
           {
            "colorbar": {
             "outlinewidth": 0,
             "ticks": ""
            },
            "colorscale": [
             [
              0,
              "#0d0887"
             ],
             [
              0.1111111111111111,
              "#46039f"
             ],
             [
              0.2222222222222222,
              "#7201a8"
             ],
             [
              0.3333333333333333,
              "#9c179e"
             ],
             [
              0.4444444444444444,
              "#bd3786"
             ],
             [
              0.5555555555555556,
              "#d8576b"
             ],
             [
              0.6666666666666666,
              "#ed7953"
             ],
             [
              0.7777777777777778,
              "#fb9f3a"
             ],
             [
              0.8888888888888888,
              "#fdca26"
             ],
             [
              1,
              "#f0f921"
             ]
            ],
            "type": "heatmapgl"
           }
          ],
          "histogram": [
           {
            "marker": {
             "pattern": {
              "fillmode": "overlay",
              "size": 10,
              "solidity": 0.2
             }
            },
            "type": "histogram"
           }
          ],
          "histogram2d": [
           {
            "colorbar": {
             "outlinewidth": 0,
             "ticks": ""
            },
            "colorscale": [
             [
              0,
              "#0d0887"
             ],
             [
              0.1111111111111111,
              "#46039f"
             ],
             [
              0.2222222222222222,
              "#7201a8"
             ],
             [
              0.3333333333333333,
              "#9c179e"
             ],
             [
              0.4444444444444444,
              "#bd3786"
             ],
             [
              0.5555555555555556,
              "#d8576b"
             ],
             [
              0.6666666666666666,
              "#ed7953"
             ],
             [
              0.7777777777777778,
              "#fb9f3a"
             ],
             [
              0.8888888888888888,
              "#fdca26"
             ],
             [
              1,
              "#f0f921"
             ]
            ],
            "type": "histogram2d"
           }
          ],
          "histogram2dcontour": [
           {
            "colorbar": {
             "outlinewidth": 0,
             "ticks": ""
            },
            "colorscale": [
             [
              0,
              "#0d0887"
             ],
             [
              0.1111111111111111,
              "#46039f"
             ],
             [
              0.2222222222222222,
              "#7201a8"
             ],
             [
              0.3333333333333333,
              "#9c179e"
             ],
             [
              0.4444444444444444,
              "#bd3786"
             ],
             [
              0.5555555555555556,
              "#d8576b"
             ],
             [
              0.6666666666666666,
              "#ed7953"
             ],
             [
              0.7777777777777778,
              "#fb9f3a"
             ],
             [
              0.8888888888888888,
              "#fdca26"
             ],
             [
              1,
              "#f0f921"
             ]
            ],
            "type": "histogram2dcontour"
           }
          ],
          "mesh3d": [
           {
            "colorbar": {
             "outlinewidth": 0,
             "ticks": ""
            },
            "type": "mesh3d"
           }
          ],
          "parcoords": [
           {
            "line": {
             "colorbar": {
              "outlinewidth": 0,
              "ticks": ""
             }
            },
            "type": "parcoords"
           }
          ],
          "pie": [
           {
            "automargin": true,
            "type": "pie"
           }
          ],
          "scatter": [
           {
            "fillpattern": {
             "fillmode": "overlay",
             "size": 10,
             "solidity": 0.2
            },
            "type": "scatter"
           }
          ],
          "scatter3d": [
           {
            "line": {
             "colorbar": {
              "outlinewidth": 0,
              "ticks": ""
             }
            },
            "marker": {
             "colorbar": {
              "outlinewidth": 0,
              "ticks": ""
             }
            },
            "type": "scatter3d"
           }
          ],
          "scattercarpet": [
           {
            "marker": {
             "colorbar": {
              "outlinewidth": 0,
              "ticks": ""
             }
            },
            "type": "scattercarpet"
           }
          ],
          "scattergeo": [
           {
            "marker": {
             "colorbar": {
              "outlinewidth": 0,
              "ticks": ""
             }
            },
            "type": "scattergeo"
           }
          ],
          "scattergl": [
           {
            "marker": {
             "colorbar": {
              "outlinewidth": 0,
              "ticks": ""
             }
            },
            "type": "scattergl"
           }
          ],
          "scattermapbox": [
           {
            "marker": {
             "colorbar": {
              "outlinewidth": 0,
              "ticks": ""
             }
            },
            "type": "scattermapbox"
           }
          ],
          "scatterpolar": [
           {
            "marker": {
             "colorbar": {
              "outlinewidth": 0,
              "ticks": ""
             }
            },
            "type": "scatterpolar"
           }
          ],
          "scatterpolargl": [
           {
            "marker": {
             "colorbar": {
              "outlinewidth": 0,
              "ticks": ""
             }
            },
            "type": "scatterpolargl"
           }
          ],
          "scatterternary": [
           {
            "marker": {
             "colorbar": {
              "outlinewidth": 0,
              "ticks": ""
             }
            },
            "type": "scatterternary"
           }
          ],
          "surface": [
           {
            "colorbar": {
             "outlinewidth": 0,
             "ticks": ""
            },
            "colorscale": [
             [
              0,
              "#0d0887"
             ],
             [
              0.1111111111111111,
              "#46039f"
             ],
             [
              0.2222222222222222,
              "#7201a8"
             ],
             [
              0.3333333333333333,
              "#9c179e"
             ],
             [
              0.4444444444444444,
              "#bd3786"
             ],
             [
              0.5555555555555556,
              "#d8576b"
             ],
             [
              0.6666666666666666,
              "#ed7953"
             ],
             [
              0.7777777777777778,
              "#fb9f3a"
             ],
             [
              0.8888888888888888,
              "#fdca26"
             ],
             [
              1,
              "#f0f921"
             ]
            ],
            "type": "surface"
           }
          ],
          "table": [
           {
            "cells": {
             "fill": {
              "color": "#EBF0F8"
             },
             "line": {
              "color": "white"
             }
            },
            "header": {
             "fill": {
              "color": "#C8D4E3"
             },
             "line": {
              "color": "white"
             }
            },
            "type": "table"
           }
          ]
         },
         "layout": {
          "annotationdefaults": {
           "arrowcolor": "#2a3f5f",
           "arrowhead": 0,
           "arrowwidth": 1
          },
          "autotypenumbers": "strict",
          "coloraxis": {
           "colorbar": {
            "outlinewidth": 0,
            "ticks": ""
           }
          },
          "colorscale": {
           "diverging": [
            [
             0,
             "#8e0152"
            ],
            [
             0.1,
             "#c51b7d"
            ],
            [
             0.2,
             "#de77ae"
            ],
            [
             0.3,
             "#f1b6da"
            ],
            [
             0.4,
             "#fde0ef"
            ],
            [
             0.5,
             "#f7f7f7"
            ],
            [
             0.6,
             "#e6f5d0"
            ],
            [
             0.7,
             "#b8e186"
            ],
            [
             0.8,
             "#7fbc41"
            ],
            [
             0.9,
             "#4d9221"
            ],
            [
             1,
             "#276419"
            ]
           ],
           "sequential": [
            [
             0,
             "#0d0887"
            ],
            [
             0.1111111111111111,
             "#46039f"
            ],
            [
             0.2222222222222222,
             "#7201a8"
            ],
            [
             0.3333333333333333,
             "#9c179e"
            ],
            [
             0.4444444444444444,
             "#bd3786"
            ],
            [
             0.5555555555555556,
             "#d8576b"
            ],
            [
             0.6666666666666666,
             "#ed7953"
            ],
            [
             0.7777777777777778,
             "#fb9f3a"
            ],
            [
             0.8888888888888888,
             "#fdca26"
            ],
            [
             1,
             "#f0f921"
            ]
           ],
           "sequentialminus": [
            [
             0,
             "#0d0887"
            ],
            [
             0.1111111111111111,
             "#46039f"
            ],
            [
             0.2222222222222222,
             "#7201a8"
            ],
            [
             0.3333333333333333,
             "#9c179e"
            ],
            [
             0.4444444444444444,
             "#bd3786"
            ],
            [
             0.5555555555555556,
             "#d8576b"
            ],
            [
             0.6666666666666666,
             "#ed7953"
            ],
            [
             0.7777777777777778,
             "#fb9f3a"
            ],
            [
             0.8888888888888888,
             "#fdca26"
            ],
            [
             1,
             "#f0f921"
            ]
           ]
          },
          "colorway": [
           "#636efa",
           "#EF553B",
           "#00cc96",
           "#ab63fa",
           "#FFA15A",
           "#19d3f3",
           "#FF6692",
           "#B6E880",
           "#FF97FF",
           "#FECB52"
          ],
          "font": {
           "color": "#2a3f5f"
          },
          "geo": {
           "bgcolor": "white",
           "lakecolor": "white",
           "landcolor": "#E5ECF6",
           "showlakes": true,
           "showland": true,
           "subunitcolor": "white"
          },
          "hoverlabel": {
           "align": "left"
          },
          "hovermode": "closest",
          "mapbox": {
           "style": "light"
          },
          "paper_bgcolor": "white",
          "plot_bgcolor": "#E5ECF6",
          "polar": {
           "angularaxis": {
            "gridcolor": "white",
            "linecolor": "white",
            "ticks": ""
           },
           "bgcolor": "#E5ECF6",
           "radialaxis": {
            "gridcolor": "white",
            "linecolor": "white",
            "ticks": ""
           }
          },
          "scene": {
           "xaxis": {
            "backgroundcolor": "#E5ECF6",
            "gridcolor": "white",
            "gridwidth": 2,
            "linecolor": "white",
            "showbackground": true,
            "ticks": "",
            "zerolinecolor": "white"
           },
           "yaxis": {
            "backgroundcolor": "#E5ECF6",
            "gridcolor": "white",
            "gridwidth": 2,
            "linecolor": "white",
            "showbackground": true,
            "ticks": "",
            "zerolinecolor": "white"
           },
           "zaxis": {
            "backgroundcolor": "#E5ECF6",
            "gridcolor": "white",
            "gridwidth": 2,
            "linecolor": "white",
            "showbackground": true,
            "ticks": "",
            "zerolinecolor": "white"
           }
          },
          "shapedefaults": {
           "line": {
            "color": "#2a3f5f"
           }
          },
          "ternary": {
           "aaxis": {
            "gridcolor": "white",
            "linecolor": "white",
            "ticks": ""
           },
           "baxis": {
            "gridcolor": "white",
            "linecolor": "white",
            "ticks": ""
           },
           "bgcolor": "#E5ECF6",
           "caxis": {
            "gridcolor": "white",
            "linecolor": "white",
            "ticks": ""
           }
          },
          "title": {
           "x": 0.05
          },
          "xaxis": {
           "automargin": true,
           "gridcolor": "white",
           "linecolor": "white",
           "ticks": "",
           "title": {
            "standoff": 15
           },
           "zerolinecolor": "white",
           "zerolinewidth": 2
          },
          "yaxis": {
           "automargin": true,
           "gridcolor": "white",
           "linecolor": "white",
           "ticks": "",
           "title": {
            "standoff": 15
           },
           "zerolinecolor": "white",
           "zerolinewidth": 2
          }
         }
        },
        "title": {
         "text": "Religious Groups in Maharashtra"
        }
       }
      }
     },
     "metadata": {},
     "output_type": "display_data"
    }
   ],
   "source": [
    "# Prepare the data for religious groups\n",
    "religious_groups = {\n",
    "    \"Hindus\": df[\"Hindus\"].sum(),\n",
    "    \"Muslims\": df[\"Muslims\"].sum(),\n",
    "    \"Christians\": df[\"Christians\"].sum(),\n",
    "    \"Sikhs\": df[\"Sikhs\"].sum(),\n",
    "    \"Buddhists\": df[\"Buddhists\"].sum(),\n",
    "    \"Jains\": df[\"Jains\"].sum(),\n",
    "    \"Others\": df[\"Others_Religions\"].sum(),\n",
    "    \"Religion Not Stated\": df[\"Religion_Not_Stated\"].sum(),\n",
    "}\n",
    "\n",
    "# Prepare data for the donut chart\n",
    "religion_names = list(religious_groups.keys())\n",
    "religion_values = list(religious_groups.values())\n",
    "\n",
    "# Create the donut chart\n",
    "fig = go.Figure()\n",
    "\n",
    "fig.add_trace(\n",
    "    go.Pie(\n",
    "        labels=religion_names,\n",
    "        values=religion_values,\n",
    "        hole=0.4,  # Hole size for the donut effect\n",
    "        textinfo=\"label+percent\",\n",
    "        insidetextorientation=\"radial\",\n",
    "        marker=dict(colors=px.colors.qualitative.Plotly),\n",
    "    )\n",
    ")\n",
    "\n",
    "# Update the layout\n",
    "fig.update_layout(\n",
    "    title=\"Religious Groups in Maharashtra\", showlegend=True\n",
    ")\n",
    "\n",
    "# Show the plot\n",
    "fig.show()"
   ]
  },
  {
   "cell_type": "markdown",
   "metadata": {},
   "source": [
    "**Observation:**\n",
    "- Each segment of the donut chart represents a different religious group, with the size of the segment showing the proportion of the group within the total population of Maharashtra's districts.\n",
    "- The chart highlights the predominant religious groups, such as Hindus and Muslims, which have larger segments, indicating they make up significant portions of the population.\n",
    "- Smaller segments represent minority religions, showing their relative size compared to the major groups."
   ]
  },
  {
   "cell_type": "markdown",
   "metadata": {},
   "source": [
    "#### 3.11 Treemap"
   ]
  },
  {
   "cell_type": "code",
   "execution_count": 17,
   "metadata": {},
   "outputs": [
    {
     "data": {
      "application/vnd.plotly.v1+json": {
       "config": {
        "plotlyServerURL": "https://plot.ly"
       },
       "data": [
        {
         "branchvalues": "total",
         "customdata": [
          [
           "Ahmadnagar",
           4543159,
           2342825,
           2200334
          ],
          [
           "Akola",
           1813906,
           932334,
           881572
          ],
          [
           "Amravati",
           2888445,
           1480768,
           1407677
          ],
          [
           "Aurangabad",
           3701282,
           1924469,
           1776813
          ],
          [
           "Bhandara",
           1200334,
           605520,
           594814
          ],
          [
           "Bid",
           2585049,
           1349106,
           1235943
          ],
          [
           "Buldana",
           2586258,
           1337560,
           1248698
          ],
          [
           "Chandrapur",
           2204307,
           1123834,
           1080473
          ],
          [
           "Dhule",
           2050862,
           1054031,
           996831
          ],
          [
           "Gadchiroli",
           1072942,
           541328,
           531614
          ],
          [
           "Gondiya",
           1322507,
           661554,
           660953
          ],
          [
           "Hingoli",
           1177345,
           606294,
           571051
          ],
          [
           "Jalgaon",
           4229917,
           2197365,
           2032552
          ],
          [
           "Jalna",
           1959046,
           1011473,
           947573
          ],
          [
           "Kolhapur",
           3876001,
           1980658,
           1895343
          ],
          [
           "Latur",
           2454196,
           1273140,
           1181056
          ],
          [
           "Mumbai",
           3085411,
           1684608,
           1400803
          ],
          [
           "Mumbai Suburban",
           9356962,
           5031323,
           4325639
          ],
          [
           "Nagpur",
           4653570,
           2384975,
           2268595
          ],
          [
           "Nanded",
           3361292,
           1730075,
           1631217
          ],
          [
           "Nandurbar",
           1648295,
           833170,
           815125
          ],
          [
           "Nashik",
           6107187,
           3157186,
           2950001
          ],
          [
           "Osmanabad",
           1657576,
           861535,
           796041
          ],
          [
           "Parbhani",
           1836086,
           942870,
           893216
          ],
          [
           "Pune",
           9429408,
           4924105,
           4505303
          ],
          [
           "Raigarh",
           2634200,
           1344345,
           1289855
          ],
          [
           "Ratnagiri",
           1615069,
           761121,
           853948
          ],
          [
           "Sangli",
           2822143,
           1435728,
           1386415
          ],
          [
           "Satara",
           3003741,
           1510842,
           1492899
          ],
          [
           "Sindhudurg",
           849651,
           417332,
           432319
          ],
          [
           "Solapur",
           4317756,
           2227852,
           2089904
          ],
          [
           "Thane",
           11060148,
           5865078,
           5195070
          ],
          [
           "Wardha",
           1300774,
           668385,
           632389
          ],
          [
           "Washim",
           1197160,
           620302,
           576858
          ],
          [
           "Yavatmal",
           2772348,
           1419965,
           1352383
          ]
         ],
         "domain": {
          "x": [
           0,
           1
          ],
          "y": [
           0,
           1
          ]
         },
         "hovertemplate": "labels=%{label}<br>Population_sum=%{value}<br>parent=%{parent}<br>id=%{id}<br>District name=%{customdata[0]}<br>Total Population=%{color}<br>Male=%{customdata[2]}<br>Female=%{customdata[3]}<extra></extra>",
         "ids": [
          "Ahmadnagar",
          "Akola",
          "Amravati",
          "Aurangabad",
          "Bhandara",
          "Bid",
          "Buldana",
          "Chandrapur",
          "Dhule",
          "Gadchiroli",
          "Gondiya",
          "Hingoli",
          "Jalgaon",
          "Jalna",
          "Kolhapur",
          "Latur",
          "Mumbai",
          "Mumbai Suburban",
          "Nagpur",
          "Nanded",
          "Nandurbar",
          "Nashik",
          "Osmanabad",
          "Parbhani",
          "Pune",
          "Raigarh",
          "Ratnagiri",
          "Sangli",
          "Satara",
          "Sindhudurg",
          "Solapur",
          "Thane",
          "Wardha",
          "Washim",
          "Yavatmal"
         ],
         "labels": [
          "Ahmadnagar",
          "Akola",
          "Amravati",
          "Aurangabad",
          "Bhandara",
          "Bid",
          "Buldana",
          "Chandrapur",
          "Dhule",
          "Gadchiroli",
          "Gondiya",
          "Hingoli",
          "Jalgaon",
          "Jalna",
          "Kolhapur",
          "Latur",
          "Mumbai",
          "Mumbai Suburban",
          "Nagpur",
          "Nanded",
          "Nandurbar",
          "Nashik",
          "Osmanabad",
          "Parbhani",
          "Pune",
          "Raigarh",
          "Ratnagiri",
          "Sangli",
          "Satara",
          "Sindhudurg",
          "Solapur",
          "Thane",
          "Wardha",
          "Washim",
          "Yavatmal"
         ],
         "marker": {
          "coloraxis": "coloraxis",
          "colors": [
           4543159,
           1813906,
           2888445,
           3701282,
           1200334,
           2585049,
           2586258,
           2204307,
           2050862,
           1072942,
           1322507,
           1177345,
           4229917,
           1959046,
           3876001,
           2454196,
           3085411,
           9356962,
           4653570,
           3361292,
           1648295,
           6107187,
           1657576,
           1836086,
           9429408,
           2634200,
           1615069,
           2822143,
           3003741,
           849651,
           4317756,
           11060148,
           1300774,
           1197160,
           2772348
          ]
         },
         "name": "",
         "parents": [
          "",
          "",
          "",
          "",
          "",
          "",
          "",
          "",
          "",
          "",
          "",
          "",
          "",
          "",
          "",
          "",
          "",
          "",
          "",
          "",
          "",
          "",
          "",
          "",
          "",
          "",
          "",
          "",
          "",
          "",
          "",
          "",
          "",
          "",
          ""
         ],
         "type": "treemap",
         "values": [
          4543159,
          1813906,
          2888445,
          3701282,
          1200334,
          2585049,
          2586258,
          2204307,
          2050862,
          1072942,
          1322507,
          1177345,
          4229917,
          1959046,
          3876001,
          2454196,
          3085411,
          9356962,
          4653570,
          3361292,
          1648295,
          6107187,
          1657576,
          1836086,
          9429408,
          2634200,
          1615069,
          2822143,
          3003741,
          849651,
          4317756,
          11060148,
          1300774,
          1197160,
          2772348
         ]
        }
       ],
       "layout": {
        "coloraxis": {
         "colorbar": {
          "title": {
           "text": "Total Population"
          }
         },
         "colorscale": [
          [
           0,
           "#440154"
          ],
          [
           0.1111111111111111,
           "#482878"
          ],
          [
           0.2222222222222222,
           "#3e4989"
          ],
          [
           0.3333333333333333,
           "#31688e"
          ],
          [
           0.4444444444444444,
           "#26828e"
          ],
          [
           0.5555555555555556,
           "#1f9e89"
          ],
          [
           0.6666666666666666,
           "#35b779"
          ],
          [
           0.7777777777777778,
           "#6ece58"
          ],
          [
           0.8888888888888888,
           "#b5de2b"
          ],
          [
           1,
           "#fde725"
          ]
         ]
        },
        "legend": {
         "tracegroupgap": 0
        },
        "margin": {
         "b": 0,
         "l": 0,
         "r": 0,
         "t": 40
        },
        "template": {
         "data": {
          "bar": [
           {
            "error_x": {
             "color": "#2a3f5f"
            },
            "error_y": {
             "color": "#2a3f5f"
            },
            "marker": {
             "line": {
              "color": "#E5ECF6",
              "width": 0.5
             },
             "pattern": {
              "fillmode": "overlay",
              "size": 10,
              "solidity": 0.2
             }
            },
            "type": "bar"
           }
          ],
          "barpolar": [
           {
            "marker": {
             "line": {
              "color": "#E5ECF6",
              "width": 0.5
             },
             "pattern": {
              "fillmode": "overlay",
              "size": 10,
              "solidity": 0.2
             }
            },
            "type": "barpolar"
           }
          ],
          "carpet": [
           {
            "aaxis": {
             "endlinecolor": "#2a3f5f",
             "gridcolor": "white",
             "linecolor": "white",
             "minorgridcolor": "white",
             "startlinecolor": "#2a3f5f"
            },
            "baxis": {
             "endlinecolor": "#2a3f5f",
             "gridcolor": "white",
             "linecolor": "white",
             "minorgridcolor": "white",
             "startlinecolor": "#2a3f5f"
            },
            "type": "carpet"
           }
          ],
          "choropleth": [
           {
            "colorbar": {
             "outlinewidth": 0,
             "ticks": ""
            },
            "type": "choropleth"
           }
          ],
          "contour": [
           {
            "colorbar": {
             "outlinewidth": 0,
             "ticks": ""
            },
            "colorscale": [
             [
              0,
              "#0d0887"
             ],
             [
              0.1111111111111111,
              "#46039f"
             ],
             [
              0.2222222222222222,
              "#7201a8"
             ],
             [
              0.3333333333333333,
              "#9c179e"
             ],
             [
              0.4444444444444444,
              "#bd3786"
             ],
             [
              0.5555555555555556,
              "#d8576b"
             ],
             [
              0.6666666666666666,
              "#ed7953"
             ],
             [
              0.7777777777777778,
              "#fb9f3a"
             ],
             [
              0.8888888888888888,
              "#fdca26"
             ],
             [
              1,
              "#f0f921"
             ]
            ],
            "type": "contour"
           }
          ],
          "contourcarpet": [
           {
            "colorbar": {
             "outlinewidth": 0,
             "ticks": ""
            },
            "type": "contourcarpet"
           }
          ],
          "heatmap": [
           {
            "colorbar": {
             "outlinewidth": 0,
             "ticks": ""
            },
            "colorscale": [
             [
              0,
              "#0d0887"
             ],
             [
              0.1111111111111111,
              "#46039f"
             ],
             [
              0.2222222222222222,
              "#7201a8"
             ],
             [
              0.3333333333333333,
              "#9c179e"
             ],
             [
              0.4444444444444444,
              "#bd3786"
             ],
             [
              0.5555555555555556,
              "#d8576b"
             ],
             [
              0.6666666666666666,
              "#ed7953"
             ],
             [
              0.7777777777777778,
              "#fb9f3a"
             ],
             [
              0.8888888888888888,
              "#fdca26"
             ],
             [
              1,
              "#f0f921"
             ]
            ],
            "type": "heatmap"
           }
          ],
          "heatmapgl": [
           {
            "colorbar": {
             "outlinewidth": 0,
             "ticks": ""
            },
            "colorscale": [
             [
              0,
              "#0d0887"
             ],
             [
              0.1111111111111111,
              "#46039f"
             ],
             [
              0.2222222222222222,
              "#7201a8"
             ],
             [
              0.3333333333333333,
              "#9c179e"
             ],
             [
              0.4444444444444444,
              "#bd3786"
             ],
             [
              0.5555555555555556,
              "#d8576b"
             ],
             [
              0.6666666666666666,
              "#ed7953"
             ],
             [
              0.7777777777777778,
              "#fb9f3a"
             ],
             [
              0.8888888888888888,
              "#fdca26"
             ],
             [
              1,
              "#f0f921"
             ]
            ],
            "type": "heatmapgl"
           }
          ],
          "histogram": [
           {
            "marker": {
             "pattern": {
              "fillmode": "overlay",
              "size": 10,
              "solidity": 0.2
             }
            },
            "type": "histogram"
           }
          ],
          "histogram2d": [
           {
            "colorbar": {
             "outlinewidth": 0,
             "ticks": ""
            },
            "colorscale": [
             [
              0,
              "#0d0887"
             ],
             [
              0.1111111111111111,
              "#46039f"
             ],
             [
              0.2222222222222222,
              "#7201a8"
             ],
             [
              0.3333333333333333,
              "#9c179e"
             ],
             [
              0.4444444444444444,
              "#bd3786"
             ],
             [
              0.5555555555555556,
              "#d8576b"
             ],
             [
              0.6666666666666666,
              "#ed7953"
             ],
             [
              0.7777777777777778,
              "#fb9f3a"
             ],
             [
              0.8888888888888888,
              "#fdca26"
             ],
             [
              1,
              "#f0f921"
             ]
            ],
            "type": "histogram2d"
           }
          ],
          "histogram2dcontour": [
           {
            "colorbar": {
             "outlinewidth": 0,
             "ticks": ""
            },
            "colorscale": [
             [
              0,
              "#0d0887"
             ],
             [
              0.1111111111111111,
              "#46039f"
             ],
             [
              0.2222222222222222,
              "#7201a8"
             ],
             [
              0.3333333333333333,
              "#9c179e"
             ],
             [
              0.4444444444444444,
              "#bd3786"
             ],
             [
              0.5555555555555556,
              "#d8576b"
             ],
             [
              0.6666666666666666,
              "#ed7953"
             ],
             [
              0.7777777777777778,
              "#fb9f3a"
             ],
             [
              0.8888888888888888,
              "#fdca26"
             ],
             [
              1,
              "#f0f921"
             ]
            ],
            "type": "histogram2dcontour"
           }
          ],
          "mesh3d": [
           {
            "colorbar": {
             "outlinewidth": 0,
             "ticks": ""
            },
            "type": "mesh3d"
           }
          ],
          "parcoords": [
           {
            "line": {
             "colorbar": {
              "outlinewidth": 0,
              "ticks": ""
             }
            },
            "type": "parcoords"
           }
          ],
          "pie": [
           {
            "automargin": true,
            "type": "pie"
           }
          ],
          "scatter": [
           {
            "fillpattern": {
             "fillmode": "overlay",
             "size": 10,
             "solidity": 0.2
            },
            "type": "scatter"
           }
          ],
          "scatter3d": [
           {
            "line": {
             "colorbar": {
              "outlinewidth": 0,
              "ticks": ""
             }
            },
            "marker": {
             "colorbar": {
              "outlinewidth": 0,
              "ticks": ""
             }
            },
            "type": "scatter3d"
           }
          ],
          "scattercarpet": [
           {
            "marker": {
             "colorbar": {
              "outlinewidth": 0,
              "ticks": ""
             }
            },
            "type": "scattercarpet"
           }
          ],
          "scattergeo": [
           {
            "marker": {
             "colorbar": {
              "outlinewidth": 0,
              "ticks": ""
             }
            },
            "type": "scattergeo"
           }
          ],
          "scattergl": [
           {
            "marker": {
             "colorbar": {
              "outlinewidth": 0,
              "ticks": ""
             }
            },
            "type": "scattergl"
           }
          ],
          "scattermapbox": [
           {
            "marker": {
             "colorbar": {
              "outlinewidth": 0,
              "ticks": ""
             }
            },
            "type": "scattermapbox"
           }
          ],
          "scatterpolar": [
           {
            "marker": {
             "colorbar": {
              "outlinewidth": 0,
              "ticks": ""
             }
            },
            "type": "scatterpolar"
           }
          ],
          "scatterpolargl": [
           {
            "marker": {
             "colorbar": {
              "outlinewidth": 0,
              "ticks": ""
             }
            },
            "type": "scatterpolargl"
           }
          ],
          "scatterternary": [
           {
            "marker": {
             "colorbar": {
              "outlinewidth": 0,
              "ticks": ""
             }
            },
            "type": "scatterternary"
           }
          ],
          "surface": [
           {
            "colorbar": {
             "outlinewidth": 0,
             "ticks": ""
            },
            "colorscale": [
             [
              0,
              "#0d0887"
             ],
             [
              0.1111111111111111,
              "#46039f"
             ],
             [
              0.2222222222222222,
              "#7201a8"
             ],
             [
              0.3333333333333333,
              "#9c179e"
             ],
             [
              0.4444444444444444,
              "#bd3786"
             ],
             [
              0.5555555555555556,
              "#d8576b"
             ],
             [
              0.6666666666666666,
              "#ed7953"
             ],
             [
              0.7777777777777778,
              "#fb9f3a"
             ],
             [
              0.8888888888888888,
              "#fdca26"
             ],
             [
              1,
              "#f0f921"
             ]
            ],
            "type": "surface"
           }
          ],
          "table": [
           {
            "cells": {
             "fill": {
              "color": "#EBF0F8"
             },
             "line": {
              "color": "white"
             }
            },
            "header": {
             "fill": {
              "color": "#C8D4E3"
             },
             "line": {
              "color": "white"
             }
            },
            "type": "table"
           }
          ]
         },
         "layout": {
          "annotationdefaults": {
           "arrowcolor": "#2a3f5f",
           "arrowhead": 0,
           "arrowwidth": 1
          },
          "autotypenumbers": "strict",
          "coloraxis": {
           "colorbar": {
            "outlinewidth": 0,
            "ticks": ""
           }
          },
          "colorscale": {
           "diverging": [
            [
             0,
             "#8e0152"
            ],
            [
             0.1,
             "#c51b7d"
            ],
            [
             0.2,
             "#de77ae"
            ],
            [
             0.3,
             "#f1b6da"
            ],
            [
             0.4,
             "#fde0ef"
            ],
            [
             0.5,
             "#f7f7f7"
            ],
            [
             0.6,
             "#e6f5d0"
            ],
            [
             0.7,
             "#b8e186"
            ],
            [
             0.8,
             "#7fbc41"
            ],
            [
             0.9,
             "#4d9221"
            ],
            [
             1,
             "#276419"
            ]
           ],
           "sequential": [
            [
             0,
             "#0d0887"
            ],
            [
             0.1111111111111111,
             "#46039f"
            ],
            [
             0.2222222222222222,
             "#7201a8"
            ],
            [
             0.3333333333333333,
             "#9c179e"
            ],
            [
             0.4444444444444444,
             "#bd3786"
            ],
            [
             0.5555555555555556,
             "#d8576b"
            ],
            [
             0.6666666666666666,
             "#ed7953"
            ],
            [
             0.7777777777777778,
             "#fb9f3a"
            ],
            [
             0.8888888888888888,
             "#fdca26"
            ],
            [
             1,
             "#f0f921"
            ]
           ],
           "sequentialminus": [
            [
             0,
             "#0d0887"
            ],
            [
             0.1111111111111111,
             "#46039f"
            ],
            [
             0.2222222222222222,
             "#7201a8"
            ],
            [
             0.3333333333333333,
             "#9c179e"
            ],
            [
             0.4444444444444444,
             "#bd3786"
            ],
            [
             0.5555555555555556,
             "#d8576b"
            ],
            [
             0.6666666666666666,
             "#ed7953"
            ],
            [
             0.7777777777777778,
             "#fb9f3a"
            ],
            [
             0.8888888888888888,
             "#fdca26"
            ],
            [
             1,
             "#f0f921"
            ]
           ]
          },
          "colorway": [
           "#636efa",
           "#EF553B",
           "#00cc96",
           "#ab63fa",
           "#FFA15A",
           "#19d3f3",
           "#FF6692",
           "#B6E880",
           "#FF97FF",
           "#FECB52"
          ],
          "font": {
           "color": "#2a3f5f"
          },
          "geo": {
           "bgcolor": "white",
           "lakecolor": "white",
           "landcolor": "#E5ECF6",
           "showlakes": true,
           "showland": true,
           "subunitcolor": "white"
          },
          "hoverlabel": {
           "align": "left"
          },
          "hovermode": "closest",
          "mapbox": {
           "style": "light"
          },
          "paper_bgcolor": "white",
          "plot_bgcolor": "#E5ECF6",
          "polar": {
           "angularaxis": {
            "gridcolor": "white",
            "linecolor": "white",
            "ticks": ""
           },
           "bgcolor": "#E5ECF6",
           "radialaxis": {
            "gridcolor": "white",
            "linecolor": "white",
            "ticks": ""
           }
          },
          "scene": {
           "xaxis": {
            "backgroundcolor": "#E5ECF6",
            "gridcolor": "white",
            "gridwidth": 2,
            "linecolor": "white",
            "showbackground": true,
            "ticks": "",
            "zerolinecolor": "white"
           },
           "yaxis": {
            "backgroundcolor": "#E5ECF6",
            "gridcolor": "white",
            "gridwidth": 2,
            "linecolor": "white",
            "showbackground": true,
            "ticks": "",
            "zerolinecolor": "white"
           },
           "zaxis": {
            "backgroundcolor": "#E5ECF6",
            "gridcolor": "white",
            "gridwidth": 2,
            "linecolor": "white",
            "showbackground": true,
            "ticks": "",
            "zerolinecolor": "white"
           }
          },
          "shapedefaults": {
           "line": {
            "color": "#2a3f5f"
           }
          },
          "ternary": {
           "aaxis": {
            "gridcolor": "white",
            "linecolor": "white",
            "ticks": ""
           },
           "baxis": {
            "gridcolor": "white",
            "linecolor": "white",
            "ticks": ""
           },
           "bgcolor": "#E5ECF6",
           "caxis": {
            "gridcolor": "white",
            "linecolor": "white",
            "ticks": ""
           }
          },
          "title": {
           "x": 0.05
          },
          "xaxis": {
           "automargin": true,
           "gridcolor": "white",
           "linecolor": "white",
           "ticks": "",
           "title": {
            "standoff": 15
           },
           "zerolinecolor": "white",
           "zerolinewidth": 2
          },
          "yaxis": {
           "automargin": true,
           "gridcolor": "white",
           "linecolor": "white",
           "ticks": "",
           "title": {
            "standoff": 15
           },
           "zerolinecolor": "white",
           "zerolinewidth": 2
          }
         }
        },
        "title": {
         "text": "Treemap: Population Distribution Across Districts in Maharashtra"
        }
       }
      }
     },
     "metadata": {},
     "output_type": "display_data"
    }
   ],
   "source": [
    "# Prepare the data for the treemap\n",
    "# Flatten the dataset to include total population as a value and district names as labels\n",
    "treemap_data = df[[\"District name\", \"Population\", \"Male\", \"Female\"]]\n",
    "\n",
    "# Create the treemap\n",
    "fig = px.treemap(\n",
    "    treemap_data,\n",
    "    path=[\"District name\"],\n",
    "    values=\"Population\",\n",
    "    color=\"Population\",\n",
    "    color_continuous_scale=\"Viridis\",\n",
    "    title=\"Treemap: Population Distribution Across Districts in Maharashtra\",\n",
    "    labels={\"Population\": \"Total Population\"},\n",
    "    hover_data={\n",
    "        \"District name\": True,\n",
    "        \"Population\": True,\n",
    "        \"Male\": True,\n",
    "        \"Female\": True,\n",
    "    },\n",
    ")\n",
    "\n",
    "# Update the layout\n",
    "fig.update_layout(margin=dict(t=40, l=0, r=0, b=0))\n",
    "\n",
    "# Show the plot\n",
    "fig.show()"
   ]
  },
  {
   "cell_type": "markdown",
   "metadata": {},
   "source": [
    "**Observation:**\n",
    "- Each block represents a district, with the size of the block proportional to the district's population. Larger blocks indicate districts with larger populations, while smaller blocks represent districts with smaller populations.\n",
    "- The color gradient helps to visually differentiate between districts with varying population sizes. Darker or lighter shades represent different population magnitudes.\n",
    "- Although the current data is flat (with only districts as categories), the treemap can be extended to include more hierarchical levels if needed (e.g., further breakdown by male and female populations)."
   ]
  },
  {
   "cell_type": "markdown",
   "metadata": {},
   "source": [
    "#### 3.12 Funnel Chart"
   ]
  },
  {
   "cell_type": "code",
   "execution_count": 18,
   "metadata": {},
   "outputs": [
    {
     "data": {
      "application/vnd.plotly.v1+json": {
       "config": {
        "plotlyServerURL": "https://plot.ly"
       },
       "data": [
        {
         "marker": {
          "color": "orange"
         },
         "text": [
          "49427878",
          "43762890",
          "5664988",
          "62946455"
         ],
         "textinfo": "value+percent initial",
         "type": "funnel",
         "x": [
          49427878,
          43762890,
          5664988,
          62946455
         ],
         "y": [
          "Total Workforce",
          "Main Workers",
          "Marginal Workers",
          "Non-Workers"
         ]
        }
       ],
       "layout": {
        "showlegend": false,
        "template": {
         "data": {
          "bar": [
           {
            "error_x": {
             "color": "#2a3f5f"
            },
            "error_y": {
             "color": "#2a3f5f"
            },
            "marker": {
             "line": {
              "color": "#E5ECF6",
              "width": 0.5
             },
             "pattern": {
              "fillmode": "overlay",
              "size": 10,
              "solidity": 0.2
             }
            },
            "type": "bar"
           }
          ],
          "barpolar": [
           {
            "marker": {
             "line": {
              "color": "#E5ECF6",
              "width": 0.5
             },
             "pattern": {
              "fillmode": "overlay",
              "size": 10,
              "solidity": 0.2
             }
            },
            "type": "barpolar"
           }
          ],
          "carpet": [
           {
            "aaxis": {
             "endlinecolor": "#2a3f5f",
             "gridcolor": "white",
             "linecolor": "white",
             "minorgridcolor": "white",
             "startlinecolor": "#2a3f5f"
            },
            "baxis": {
             "endlinecolor": "#2a3f5f",
             "gridcolor": "white",
             "linecolor": "white",
             "minorgridcolor": "white",
             "startlinecolor": "#2a3f5f"
            },
            "type": "carpet"
           }
          ],
          "choropleth": [
           {
            "colorbar": {
             "outlinewidth": 0,
             "ticks": ""
            },
            "type": "choropleth"
           }
          ],
          "contour": [
           {
            "colorbar": {
             "outlinewidth": 0,
             "ticks": ""
            },
            "colorscale": [
             [
              0,
              "#0d0887"
             ],
             [
              0.1111111111111111,
              "#46039f"
             ],
             [
              0.2222222222222222,
              "#7201a8"
             ],
             [
              0.3333333333333333,
              "#9c179e"
             ],
             [
              0.4444444444444444,
              "#bd3786"
             ],
             [
              0.5555555555555556,
              "#d8576b"
             ],
             [
              0.6666666666666666,
              "#ed7953"
             ],
             [
              0.7777777777777778,
              "#fb9f3a"
             ],
             [
              0.8888888888888888,
              "#fdca26"
             ],
             [
              1,
              "#f0f921"
             ]
            ],
            "type": "contour"
           }
          ],
          "contourcarpet": [
           {
            "colorbar": {
             "outlinewidth": 0,
             "ticks": ""
            },
            "type": "contourcarpet"
           }
          ],
          "heatmap": [
           {
            "colorbar": {
             "outlinewidth": 0,
             "ticks": ""
            },
            "colorscale": [
             [
              0,
              "#0d0887"
             ],
             [
              0.1111111111111111,
              "#46039f"
             ],
             [
              0.2222222222222222,
              "#7201a8"
             ],
             [
              0.3333333333333333,
              "#9c179e"
             ],
             [
              0.4444444444444444,
              "#bd3786"
             ],
             [
              0.5555555555555556,
              "#d8576b"
             ],
             [
              0.6666666666666666,
              "#ed7953"
             ],
             [
              0.7777777777777778,
              "#fb9f3a"
             ],
             [
              0.8888888888888888,
              "#fdca26"
             ],
             [
              1,
              "#f0f921"
             ]
            ],
            "type": "heatmap"
           }
          ],
          "heatmapgl": [
           {
            "colorbar": {
             "outlinewidth": 0,
             "ticks": ""
            },
            "colorscale": [
             [
              0,
              "#0d0887"
             ],
             [
              0.1111111111111111,
              "#46039f"
             ],
             [
              0.2222222222222222,
              "#7201a8"
             ],
             [
              0.3333333333333333,
              "#9c179e"
             ],
             [
              0.4444444444444444,
              "#bd3786"
             ],
             [
              0.5555555555555556,
              "#d8576b"
             ],
             [
              0.6666666666666666,
              "#ed7953"
             ],
             [
              0.7777777777777778,
              "#fb9f3a"
             ],
             [
              0.8888888888888888,
              "#fdca26"
             ],
             [
              1,
              "#f0f921"
             ]
            ],
            "type": "heatmapgl"
           }
          ],
          "histogram": [
           {
            "marker": {
             "pattern": {
              "fillmode": "overlay",
              "size": 10,
              "solidity": 0.2
             }
            },
            "type": "histogram"
           }
          ],
          "histogram2d": [
           {
            "colorbar": {
             "outlinewidth": 0,
             "ticks": ""
            },
            "colorscale": [
             [
              0,
              "#0d0887"
             ],
             [
              0.1111111111111111,
              "#46039f"
             ],
             [
              0.2222222222222222,
              "#7201a8"
             ],
             [
              0.3333333333333333,
              "#9c179e"
             ],
             [
              0.4444444444444444,
              "#bd3786"
             ],
             [
              0.5555555555555556,
              "#d8576b"
             ],
             [
              0.6666666666666666,
              "#ed7953"
             ],
             [
              0.7777777777777778,
              "#fb9f3a"
             ],
             [
              0.8888888888888888,
              "#fdca26"
             ],
             [
              1,
              "#f0f921"
             ]
            ],
            "type": "histogram2d"
           }
          ],
          "histogram2dcontour": [
           {
            "colorbar": {
             "outlinewidth": 0,
             "ticks": ""
            },
            "colorscale": [
             [
              0,
              "#0d0887"
             ],
             [
              0.1111111111111111,
              "#46039f"
             ],
             [
              0.2222222222222222,
              "#7201a8"
             ],
             [
              0.3333333333333333,
              "#9c179e"
             ],
             [
              0.4444444444444444,
              "#bd3786"
             ],
             [
              0.5555555555555556,
              "#d8576b"
             ],
             [
              0.6666666666666666,
              "#ed7953"
             ],
             [
              0.7777777777777778,
              "#fb9f3a"
             ],
             [
              0.8888888888888888,
              "#fdca26"
             ],
             [
              1,
              "#f0f921"
             ]
            ],
            "type": "histogram2dcontour"
           }
          ],
          "mesh3d": [
           {
            "colorbar": {
             "outlinewidth": 0,
             "ticks": ""
            },
            "type": "mesh3d"
           }
          ],
          "parcoords": [
           {
            "line": {
             "colorbar": {
              "outlinewidth": 0,
              "ticks": ""
             }
            },
            "type": "parcoords"
           }
          ],
          "pie": [
           {
            "automargin": true,
            "type": "pie"
           }
          ],
          "scatter": [
           {
            "fillpattern": {
             "fillmode": "overlay",
             "size": 10,
             "solidity": 0.2
            },
            "type": "scatter"
           }
          ],
          "scatter3d": [
           {
            "line": {
             "colorbar": {
              "outlinewidth": 0,
              "ticks": ""
             }
            },
            "marker": {
             "colorbar": {
              "outlinewidth": 0,
              "ticks": ""
             }
            },
            "type": "scatter3d"
           }
          ],
          "scattercarpet": [
           {
            "marker": {
             "colorbar": {
              "outlinewidth": 0,
              "ticks": ""
             }
            },
            "type": "scattercarpet"
           }
          ],
          "scattergeo": [
           {
            "marker": {
             "colorbar": {
              "outlinewidth": 0,
              "ticks": ""
             }
            },
            "type": "scattergeo"
           }
          ],
          "scattergl": [
           {
            "marker": {
             "colorbar": {
              "outlinewidth": 0,
              "ticks": ""
             }
            },
            "type": "scattergl"
           }
          ],
          "scattermapbox": [
           {
            "marker": {
             "colorbar": {
              "outlinewidth": 0,
              "ticks": ""
             }
            },
            "type": "scattermapbox"
           }
          ],
          "scatterpolar": [
           {
            "marker": {
             "colorbar": {
              "outlinewidth": 0,
              "ticks": ""
             }
            },
            "type": "scatterpolar"
           }
          ],
          "scatterpolargl": [
           {
            "marker": {
             "colorbar": {
              "outlinewidth": 0,
              "ticks": ""
             }
            },
            "type": "scatterpolargl"
           }
          ],
          "scatterternary": [
           {
            "marker": {
             "colorbar": {
              "outlinewidth": 0,
              "ticks": ""
             }
            },
            "type": "scatterternary"
           }
          ],
          "surface": [
           {
            "colorbar": {
             "outlinewidth": 0,
             "ticks": ""
            },
            "colorscale": [
             [
              0,
              "#0d0887"
             ],
             [
              0.1111111111111111,
              "#46039f"
             ],
             [
              0.2222222222222222,
              "#7201a8"
             ],
             [
              0.3333333333333333,
              "#9c179e"
             ],
             [
              0.4444444444444444,
              "#bd3786"
             ],
             [
              0.5555555555555556,
              "#d8576b"
             ],
             [
              0.6666666666666666,
              "#ed7953"
             ],
             [
              0.7777777777777778,
              "#fb9f3a"
             ],
             [
              0.8888888888888888,
              "#fdca26"
             ],
             [
              1,
              "#f0f921"
             ]
            ],
            "type": "surface"
           }
          ],
          "table": [
           {
            "cells": {
             "fill": {
              "color": "#EBF0F8"
             },
             "line": {
              "color": "white"
             }
            },
            "header": {
             "fill": {
              "color": "#C8D4E3"
             },
             "line": {
              "color": "white"
             }
            },
            "type": "table"
           }
          ]
         },
         "layout": {
          "annotationdefaults": {
           "arrowcolor": "#2a3f5f",
           "arrowhead": 0,
           "arrowwidth": 1
          },
          "autotypenumbers": "strict",
          "coloraxis": {
           "colorbar": {
            "outlinewidth": 0,
            "ticks": ""
           }
          },
          "colorscale": {
           "diverging": [
            [
             0,
             "#8e0152"
            ],
            [
             0.1,
             "#c51b7d"
            ],
            [
             0.2,
             "#de77ae"
            ],
            [
             0.3,
             "#f1b6da"
            ],
            [
             0.4,
             "#fde0ef"
            ],
            [
             0.5,
             "#f7f7f7"
            ],
            [
             0.6,
             "#e6f5d0"
            ],
            [
             0.7,
             "#b8e186"
            ],
            [
             0.8,
             "#7fbc41"
            ],
            [
             0.9,
             "#4d9221"
            ],
            [
             1,
             "#276419"
            ]
           ],
           "sequential": [
            [
             0,
             "#0d0887"
            ],
            [
             0.1111111111111111,
             "#46039f"
            ],
            [
             0.2222222222222222,
             "#7201a8"
            ],
            [
             0.3333333333333333,
             "#9c179e"
            ],
            [
             0.4444444444444444,
             "#bd3786"
            ],
            [
             0.5555555555555556,
             "#d8576b"
            ],
            [
             0.6666666666666666,
             "#ed7953"
            ],
            [
             0.7777777777777778,
             "#fb9f3a"
            ],
            [
             0.8888888888888888,
             "#fdca26"
            ],
            [
             1,
             "#f0f921"
            ]
           ],
           "sequentialminus": [
            [
             0,
             "#0d0887"
            ],
            [
             0.1111111111111111,
             "#46039f"
            ],
            [
             0.2222222222222222,
             "#7201a8"
            ],
            [
             0.3333333333333333,
             "#9c179e"
            ],
            [
             0.4444444444444444,
             "#bd3786"
            ],
            [
             0.5555555555555556,
             "#d8576b"
            ],
            [
             0.6666666666666666,
             "#ed7953"
            ],
            [
             0.7777777777777778,
             "#fb9f3a"
            ],
            [
             0.8888888888888888,
             "#fdca26"
            ],
            [
             1,
             "#f0f921"
            ]
           ]
          },
          "colorway": [
           "#636efa",
           "#EF553B",
           "#00cc96",
           "#ab63fa",
           "#FFA15A",
           "#19d3f3",
           "#FF6692",
           "#B6E880",
           "#FF97FF",
           "#FECB52"
          ],
          "font": {
           "color": "#2a3f5f"
          },
          "geo": {
           "bgcolor": "white",
           "lakecolor": "white",
           "landcolor": "#E5ECF6",
           "showlakes": true,
           "showland": true,
           "subunitcolor": "white"
          },
          "hoverlabel": {
           "align": "left"
          },
          "hovermode": "closest",
          "mapbox": {
           "style": "light"
          },
          "paper_bgcolor": "white",
          "plot_bgcolor": "#E5ECF6",
          "polar": {
           "angularaxis": {
            "gridcolor": "white",
            "linecolor": "white",
            "ticks": ""
           },
           "bgcolor": "#E5ECF6",
           "radialaxis": {
            "gridcolor": "white",
            "linecolor": "white",
            "ticks": ""
           }
          },
          "scene": {
           "xaxis": {
            "backgroundcolor": "#E5ECF6",
            "gridcolor": "white",
            "gridwidth": 2,
            "linecolor": "white",
            "showbackground": true,
            "ticks": "",
            "zerolinecolor": "white"
           },
           "yaxis": {
            "backgroundcolor": "#E5ECF6",
            "gridcolor": "white",
            "gridwidth": 2,
            "linecolor": "white",
            "showbackground": true,
            "ticks": "",
            "zerolinecolor": "white"
           },
           "zaxis": {
            "backgroundcolor": "#E5ECF6",
            "gridcolor": "white",
            "gridwidth": 2,
            "linecolor": "white",
            "showbackground": true,
            "ticks": "",
            "zerolinecolor": "white"
           }
          },
          "shapedefaults": {
           "line": {
            "color": "#2a3f5f"
           }
          },
          "ternary": {
           "aaxis": {
            "gridcolor": "white",
            "linecolor": "white",
            "ticks": ""
           },
           "baxis": {
            "gridcolor": "white",
            "linecolor": "white",
            "ticks": ""
           },
           "bgcolor": "#E5ECF6",
           "caxis": {
            "gridcolor": "white",
            "linecolor": "white",
            "ticks": ""
           }
          },
          "title": {
           "x": 0.05
          },
          "xaxis": {
           "automargin": true,
           "gridcolor": "white",
           "linecolor": "white",
           "ticks": "",
           "title": {
            "standoff": 15
           },
           "zerolinecolor": "white",
           "zerolinewidth": 2
          },
          "yaxis": {
           "automargin": true,
           "gridcolor": "white",
           "linecolor": "white",
           "ticks": "",
           "title": {
            "standoff": 15
           },
           "zerolinecolor": "white",
           "zerolinewidth": 2
          }
         }
        },
        "title": {
         "text": "Funnel Plot: Contribution of Different Worker Types to Total Workforce in Maharashtra"
        },
        "xaxis": {
         "title": {
          "text": "Number of Workers"
         }
        },
        "yaxis": {
         "title": {
          "text": "Worker Type"
         }
        }
       }
      }
     },
     "metadata": {},
     "output_type": "display_data"
    }
   ],
   "source": [
    "# Prepare the data for the funnel plot\n",
    "# Define the categories and their values\n",
    "worker_categories = [\n",
    "    \"Total Workforce\",\n",
    "    \"Main Workers\",\n",
    "    \"Marginal Workers\",\n",
    "    \"Non-Workers\",\n",
    "]\n",
    "worker_values = [\n",
    "    df[\"Workers\"].sum(),\n",
    "    df[\"Main_Workers\"].sum(),\n",
    "    df[\"Marginal_Workers\"].sum(),\n",
    "    df[\"Non_Workers\"].sum(),\n",
    "]\n",
    "\n",
    "# Create the funnel plot\n",
    "fig = go.Figure()\n",
    "\n",
    "# Add the funnel plot bars\n",
    "fig.add_trace(\n",
    "    go.Funnel(\n",
    "        y=worker_categories,\n",
    "        x=worker_values,\n",
    "        text=worker_values,\n",
    "        textinfo=\"value+percent initial\",\n",
    "        marker=dict(color=\"orange\"),\n",
    "    )\n",
    ")\n",
    "\n",
    "# Update the layout\n",
    "fig.update_layout(\n",
    "    title=\"Funnel Plot: Contribution of Different Worker Types to Total Workforce in Maharashtra\",\n",
    "    xaxis_title=\"Number of Workers\",\n",
    "    yaxis_title=\"Worker Type\",\n",
    "    showlegend=False,\n",
    ")\n",
    "\n",
    "# Show the plot\n",
    "fig.show()"
   ]
  },
  {
   "cell_type": "markdown",
   "metadata": {},
   "source": [
    "**Observation:**\n",
    "- The plot shows how various worker types contribute to the total workforce, beginning with the broad category of total workforce and narrowing down to specific types of workers like main workers, marginal workers, and non-workers.\n",
    "- The width of each section of the funnel indicates the number of workers in each category. Wider sections represent larger numbers, while narrower sections show smaller counts.\n",
    "- By examining the funnel plot, we can see how different categories of workers are distributed relative to the total workforce. This helps in understanding which types of workers are more prevalent and which are less represented."
   ]
  },
  {
   "cell_type": "markdown",
   "metadata": {},
   "source": [
    "### Conclusion\n",
    "In this experiment, we learned how to create advanced charts and plotly in python. We explored various visualization techniques, such as word clouds, box plots, violin plots, regression plots, 3D charts, jitter plots, line plots, area plots, waterfall charts, donut charts, treemaps, and funnel charts. Each visualization provided unique insights into the socio-economic data of Maharashtra's districts, revealing patterns, trends, and relationships that can inform decision-making and policy development."
   ]
  }
 ],
 "metadata": {
  "kernelspec": {
   "display_name": "venv",
   "language": "python",
   "name": "python3"
  },
  "language_info": {
   "codemirror_mode": {
    "name": "ipython",
    "version": 3
   },
   "file_extension": ".py",
   "mimetype": "text/x-python",
   "name": "python",
   "nbconvert_exporter": "python",
   "pygments_lexer": "ipython3",
   "version": "3.12.5"
  }
 },
 "nbformat": 4,
 "nbformat_minor": 2
}
